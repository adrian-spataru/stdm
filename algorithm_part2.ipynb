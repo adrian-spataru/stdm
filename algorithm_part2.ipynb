{
 "cells": [
  {
   "cell_type": "code",
   "execution_count": 3,
   "metadata": {
    "colab": {},
    "colab_type": "code",
    "id": "50BVrdyKvdOI"
   },
   "outputs": [
    {
     "name": "stdout",
     "output_type": "stream",
     "text": [
      "--2020-11-03 13:26:19--  https://www.spataru.at/students/course_files/week4/loan.csv\n",
      "Resolving www.spataru.at (www.spataru.at)... 81.19.159.92\n",
      "Connecting to www.spataru.at (www.spataru.at)|81.19.159.92|:443... connected.\n",
      "HTTP request sent, awaiting response... 200 OK\n",
      "Length: 38013 (37K) [text/csv]\n",
      "Saving to: ‘loan.csv’\n",
      "\n",
      "loan.csv            100%[===================>]  37,12K  --.-KB/s    in 0,05s   \n",
      "\n",
      "2020-11-03 13:26:20 (786 KB/s) - ‘loan.csv’ saved [38013/38013]\n",
      "\n"
     ]
    }
   ],
   "source": [
    "!wget https://www.spataru.at/students/course_files/week4/loan.csv"
   ]
  },
  {
   "cell_type": "code",
   "execution_count": null,
   "metadata": {
    "colab": {},
    "colab_type": "code",
    "id": "pfOgk8vKvY-A"
   },
   "outputs": [],
   "source": [
    "import pandas as pd\n",
    "from sklearn.impute import SimpleImputer\n",
    "import numpy as np\n",
    "from sklearn.ensemble import RandomForestClassifier\n",
    "from  sklearn.preprocessing import OrdinalEncoder\n",
    "from sklearn.tree import DecisionTreeClassifier\n",
    "from sklearn.model_selection import train_test_split\n",
    "from sklearn.model_selection import cross_validate\n",
    "from  sklearn.metrics import *\n",
    "import matplotlib.pyplot as plt\n",
    "from sklearn.preprocessing import StandardScaler\n",
    "from sklearn import tree\n",
    "from sklearn import model_selection\n",
    "import plotly.express as px"
   ]
  },
  {
   "cell_type": "code",
   "execution_count": null,
   "metadata": {
    "colab": {},
    "colab_type": "code",
    "id": "XVlWh2G6vY-R"
   },
   "outputs": [],
   "source": [
    "df = pd.read_csv(\"loan.csv\")"
   ]
  },
  {
   "cell_type": "markdown",
   "metadata": {
    "colab_type": "text",
    "id": "JKR-HOLQvY-c"
   },
   "source": [
    "# EDA"
   ]
  },
  {
   "cell_type": "code",
   "execution_count": null,
   "metadata": {
    "colab": {},
    "colab_type": "code",
    "id": "clya-xiKvY-e"
   },
   "outputs": [],
   "source": [
    "df.head()"
   ]
  },
  {
   "cell_type": "markdown",
   "metadata": {
    "colab_type": "text",
    "id": "KvveST7BvY-o"
   },
   "source": [
    "**How many rows are there?**"
   ]
  },
  {
   "cell_type": "code",
   "execution_count": null,
   "metadata": {
    "colab": {},
    "colab_type": "code",
    "id": "nGz-VJa8vY-q"
   },
   "outputs": [],
   "source": [
    "df.shape"
   ]
  },
  {
   "cell_type": "markdown",
   "metadata": {
    "colab_type": "text",
    "id": "tjS4Z4MHvY-y"
   },
   "source": [
    "**How many Loans are there in total?**"
   ]
  },
  {
   "cell_type": "code",
   "execution_count": null,
   "metadata": {
    "colab": {},
    "colab_type": "code",
    "id": "sEr8WkKvvY-z"
   },
   "outputs": [],
   "source": [
    "df.Loan_ID.nunique()"
   ]
  },
  {
   "cell_type": "markdown",
   "metadata": {
    "colab_type": "text",
    "id": "N-M6-Wd8vY-8"
   },
   "source": [
    "**How many loans are accepted vs not?**"
   ]
  },
  {
   "cell_type": "code",
   "execution_count": null,
   "metadata": {
    "colab": {},
    "colab_type": "code",
    "id": "ZEho5OG4vY--"
   },
   "outputs": [],
   "source": [
    "px.bar(data_frame=df, x=\"Loan_Status\")"
   ]
  },
  {
   "cell_type": "markdown",
   "metadata": {
    "colab_type": "text",
    "id": "i36EmPIYxGCU"
   },
   "source": [
    "## Relationship with Loan Status"
   ]
  },
  {
   "cell_type": "markdown",
   "metadata": {
    "colab_type": "text",
    "id": "ShRUcTYRxI4-"
   },
   "source": [
    "Relationship between Loan and Gender"
   ]
  },
  {
   "cell_type": "code",
   "execution_count": null,
   "metadata": {
    "colab": {},
    "colab_type": "code",
    "id": "11Po7OTPxTNN"
   },
   "outputs": [],
   "source": [
    "px.histogram(df, x=\"ApplicantIncome\", color=\"Loan_Status\")"
   ]
  },
  {
   "cell_type": "code",
   "execution_count": null,
   "metadata": {
    "colab": {},
    "colab_type": "code",
    "id": "0sJDaP1Bx-78"
   },
   "outputs": [],
   "source": [
    "df.groupby([\"Gender\", \"Loan_Status\"]).count()[\"Loan_ID\"]"
   ]
  },
  {
   "cell_type": "markdown",
   "metadata": {
    "colab_type": "text",
    "id": "oaTZkM2TvY_K"
   },
   "source": [
    "# Dealing with Missing Values"
   ]
  },
  {
   "cell_type": "markdown",
   "metadata": {
    "colab_type": "text",
    "id": "uATUsgeBzdon"
   },
   "source": [
    "**Impute Missing Values (except Column LoanAmount) with the most frequent Values**"
   ]
  },
  {
   "cell_type": "code",
   "execution_count": null,
   "metadata": {
    "colab": {},
    "colab_type": "code",
    "id": "53MglEwiznMf"
   },
   "outputs": [],
   "source": [
    "categorical_columns_missing = [\"Gender\", \"Married\", \"Dependents\", \"Credit_History\", \"Self_Employed\", \"Loan_Amount_Term\"]\n",
    "impute_missing=SimpleImputer(missing_values=np.NaN, strategy='most_frequent')\n",
    "df[categorical_columns_missing] = impute_missing.fit_transform(df[categorical_columns_missing])"
   ]
  },
  {
   "cell_type": "markdown",
   "metadata": {
    "colab_type": "text",
    "id": "3mWLunaM-lNV"
   },
   "source": [
    "**Impute LoanAmount with the mean**"
   ]
  },
  {
   "cell_type": "code",
   "execution_count": null,
   "metadata": {
    "colab": {},
    "colab_type": "code",
    "id": "ISUmij9vzc3H"
   },
   "outputs": [],
   "source": [
    "impute_missing=SimpleImputer(missing_values=np.NaN, strategy='mean')\n",
    "df[\"LoanAmount\"] = impute_missing.fit_transform(df[[\"LoanAmount\"]])"
   ]
  },
  {
   "cell_type": "code",
   "execution_count": null,
   "metadata": {
    "colab": {},
    "colab_type": "code",
    "id": "37LRzgy5-sVa"
   },
   "outputs": [],
   "source": []
  },
  {
   "cell_type": "markdown",
   "metadata": {
    "colab_type": "text",
    "id": "Q59Pq_M5vY_e"
   },
   "source": [
    "# Encoding Categorical Data"
   ]
  },
  {
   "cell_type": "code",
   "execution_count": null,
   "metadata": {
    "colab": {},
    "colab_type": "code",
    "id": "p_TzcKxs1nnU"
   },
   "outputs": [],
   "source": [
    "categorical_columns = [\"Gender\", \"Married\", \"Dependents\", \"Education\", \"Self_Employed\", \"Loan_Status\", \"Credit_History\", \"Property_Area\"]"
   ]
  },
  {
   "cell_type": "markdown",
   "metadata": {
    "colab_type": "text",
    "id": "RiPX3k0N-I2u"
   },
   "source": [
    "**Set Datatype of Ordinal/Nominal Variables to Category**"
   ]
  },
  {
   "cell_type": "code",
   "execution_count": null,
   "metadata": {
    "colab": {},
    "colab_type": "code",
    "id": "CPRL0gSP3-Ar"
   },
   "outputs": [],
   "source": [
    "for col in categorical_columns:\n",
    "    df[col] = df[col].astype('category')"
   ]
  },
  {
   "cell_type": "markdown",
   "metadata": {
    "colab_type": "text",
    "id": "m8qg1Dvf93h5"
   },
   "source": [
    "**Drop Loan ID**"
   ]
  },
  {
   "cell_type": "code",
   "execution_count": null,
   "metadata": {
    "colab": {},
    "colab_type": "code",
    "id": "Ef6P_TPM96IG"
   },
   "outputs": [],
   "source": [
    "df = df.drop(\"Loan_ID\", axis=1)"
   ]
  },
  {
   "cell_type": "markdown",
   "metadata": {
    "colab_type": "text",
    "id": "Ropo9K6n98WK"
   },
   "source": [
    "**Create One Hot Encoding Features for the Categorical Variables**"
   ]
  },
  {
   "cell_type": "code",
   "execution_count": null,
   "metadata": {
    "colab": {},
    "colab_type": "code",
    "id": "t8UcIz5w-EmI"
   },
   "outputs": [],
   "source": [
    "df = pd.get_dummies(df, drop_first=True)"
   ]
  },
  {
   "cell_type": "code",
   "execution_count": null,
   "metadata": {
    "colab": {},
    "colab_type": "code",
    "id": "guHoSt-ux77O"
   },
   "outputs": [],
   "source": [
    "df.head()"
   ]
  },
  {
   "cell_type": "markdown",
   "metadata": {
    "colab_type": "text",
    "id": "kDwSvegd9rPG"
   },
   "source": [
    "**Rename Last Column to Load**"
   ]
  },
  {
   "cell_type": "code",
   "execution_count": null,
   "metadata": {
    "colab": {},
    "colab_type": "code",
    "id": "quIsko3S6--_"
   },
   "outputs": [],
   "source": [
    "df.columns = list(df.columns.values[:-1]) + [\"Loan\"] "
   ]
  },
  {
   "cell_type": "markdown",
   "metadata": {
    "colab_type": "text",
    "id": "iMQBkCxU78ts"
   },
   "source": [
    "# Split Input and Output"
   ]
  },
  {
   "cell_type": "code",
   "execution_count": null,
   "metadata": {
    "colab": {},
    "colab_type": "code",
    "id": "8S6A9BAJ8BOS"
   },
   "outputs": [],
   "source": [
    "X = df[df.columns[:-1]]\n",
    "y = df[df.columns[-1:]]"
   ]
  },
  {
   "cell_type": "markdown",
   "metadata": {
    "colab_type": "text",
    "id": "iegOkD3KvY_f"
   },
   "source": [
    "# Decision Tree"
   ]
  },
  {
   "cell_type": "code",
   "execution_count": null,
   "metadata": {
    "colab": {},
    "colab_type": "code",
    "id": "YP7IOpL6vY_h"
   },
   "outputs": [],
   "source": [
    "model=DecisionTreeClassifier()"
   ]
  },
  {
   "cell_type": "code",
   "execution_count": null,
   "metadata": {
    "colab": {},
    "colab_type": "code",
    "id": "r5VrSvkH82Nh"
   },
   "outputs": [],
   "source": [
    "model.fit(X,y)"
   ]
  },
  {
   "cell_type": "code",
   "execution_count": null,
   "metadata": {
    "colab": {},
    "colab_type": "code",
    "id": "h6VTuUdX9CXM"
   },
   "outputs": [],
   "source": [
    "fig, axes = plt.subplots(nrows = 1,ncols = 1,figsize = (4,4), dpi=300)\n",
    "tree.plot_tree(model)\n",
    "fig.savefig('tree.png')"
   ]
  },
  {
   "cell_type": "code",
   "execution_count": null,
   "metadata": {
    "colab": {},
    "colab_type": "code",
    "id": "9OWqHuf8-3IA"
   },
   "outputs": [],
   "source": [
    "model.score(X,y)"
   ]
  },
  {
   "cell_type": "markdown",
   "metadata": {
    "colab_type": "text",
    "id": "aqeJZSt8vY_n"
   },
   "source": [
    "# Evaluation"
   ]
  },
  {
   "cell_type": "code",
   "execution_count": null,
   "metadata": {},
   "outputs": [],
   "source": []
  },
  {
   "cell_type": "code",
   "execution_count": null,
   "metadata": {},
   "outputs": [],
   "source": []
  },
  {
   "cell_type": "code",
   "execution_count": null,
   "metadata": {},
   "outputs": [],
   "source": []
  },
  {
   "cell_type": "markdown",
   "metadata": {
    "colab_type": "text",
    "id": "zf9gGQcUA4zJ"
   },
   "source": [
    "# K-Folds Cross Validation"
   ]
  },
  {
   "cell_type": "code",
   "execution_count": null,
   "metadata": {
    "colab": {},
    "colab_type": "code",
    "id": "z07I2cCcvY_5"
   },
   "outputs": [],
   "source": []
  }
 ],
 "metadata": {
  "colab": {
   "collapsed_sections": [],
   "name": "Week 4.ipynb",
   "provenance": []
  },
  "kernelspec": {
   "display_name": "Python 3",
   "language": "python",
   "name": "python3"
  },
  "language_info": {
   "codemirror_mode": {
    "name": "ipython",
    "version": 3
   },
   "file_extension": ".py",
   "mimetype": "text/x-python",
   "name": "python",
   "nbconvert_exporter": "python",
   "pygments_lexer": "ipython3",
   "version": "3.7.7"
  }
 },
 "nbformat": 4,
 "nbformat_minor": 4
}
