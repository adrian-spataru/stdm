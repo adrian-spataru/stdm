{
  "nbformat": 4,
  "nbformat_minor": 0,
  "metadata": {
    "colab": {
      "name": "Week 4.ipynb",
      "provenance": [],
      "collapsed_sections": []
    },
    "kernelspec": {
      "display_name": "Python 3",
      "language": "python",
      "name": "python3"
    },
    "language_info": {
      "codemirror_mode": {
        "name": "ipython",
        "version": 3
      },
      "file_extension": ".py",
      "mimetype": "text/x-python",
      "name": "python",
      "nbconvert_exporter": "python",
      "pygments_lexer": "ipython3",
      "version": "3.7.7"
    }
  },
  "cells": [
    {
      "cell_type": "code",
      "metadata": {
        "colab": {
          "base_uri": "https://localhost:8080/"
        },
        "id": "50BVrdyKvdOI",
        "outputId": "d0a4affb-1d19-48bf-d456-46050f96a29c"
      },
      "source": [
        "!wget https://www.spataru.at/students/course_files/week4/loan.csv"
      ],
      "execution_count": 1,
      "outputs": [
        {
          "output_type": "stream",
          "text": [
            "--2021-01-18 12:03:18--  https://www.spataru.at/students/course_files/week4/loan.csv\n",
            "Resolving www.spataru.at (www.spataru.at)... 81.19.159.92\n",
            "Connecting to www.spataru.at (www.spataru.at)|81.19.159.92|:443... connected.\n",
            "HTTP request sent, awaiting response... 200 OK\n",
            "Length: 38013 (37K) [text/csv]\n",
            "Saving to: ‘loan.csv.2’\n",
            "\n",
            "loan.csv.2          100%[===================>]  37.12K  --.-KB/s    in 0.1s    \n",
            "\n",
            "2021-01-18 12:03:18 (265 KB/s) - ‘loan.csv.2’ saved [38013/38013]\n",
            "\n"
          ],
          "name": "stdout"
        }
      ]
    },
    {
      "cell_type": "code",
      "metadata": {
        "id": "pfOgk8vKvY-A"
      },
      "source": [
        "import pandas as pd\n",
        "from sklearn.impute import SimpleImputer\n",
        "import numpy as np\n",
        "from sklearn.ensemble import RandomForestClassifier\n",
        "from  sklearn.preprocessing import OrdinalEncoder\n",
        "from sklearn.tree import DecisionTreeClassifier\n",
        "from sklearn.model_selection import train_test_split\n",
        "from sklearn.model_selection import cross_validate\n",
        "from  sklearn.metrics import *\n",
        "import matplotlib.pyplot as plt\n",
        "from sklearn.preprocessing import StandardScaler\n",
        "from sklearn import tree\n",
        "from sklearn import model_selection\n",
        "import plotly.express as px"
      ],
      "execution_count": 2,
      "outputs": []
    },
    {
      "cell_type": "code",
      "metadata": {
        "id": "XVlWh2G6vY-R"
      },
      "source": [
        "df = pd.read_csv(\"loan.csv\")"
      ],
      "execution_count": 3,
      "outputs": []
    },
    {
      "cell_type": "markdown",
      "metadata": {
        "id": "JKR-HOLQvY-c"
      },
      "source": [
        "# EDA"
      ]
    },
    {
      "cell_type": "code",
      "metadata": {
        "id": "ywIRyfRgCKL1",
        "colab": {
          "base_uri": "https://localhost:8080/"
        },
        "outputId": "8c8abb43-d7fb-4881-cea8-3d2a72031e9d"
      },
      "source": [
        "df.shape"
      ],
      "execution_count": 4,
      "outputs": [
        {
          "output_type": "execute_result",
          "data": {
            "text/plain": [
              "(614, 13)"
            ]
          },
          "metadata": {
            "tags": []
          },
          "execution_count": 4
        }
      ]
    },
    {
      "cell_type": "code",
      "metadata": {
        "id": "daCFaBK0CKL5",
        "colab": {
          "base_uri": "https://localhost:8080/",
          "height": 243
        },
        "outputId": "39a60559-9dab-4cd7-b9c7-61e8b0a833a5"
      },
      "source": [
        "df.head()"
      ],
      "execution_count": 5,
      "outputs": [
        {
          "output_type": "execute_result",
          "data": {
            "text/html": [
              "<div>\n",
              "<style scoped>\n",
              "    .dataframe tbody tr th:only-of-type {\n",
              "        vertical-align: middle;\n",
              "    }\n",
              "\n",
              "    .dataframe tbody tr th {\n",
              "        vertical-align: top;\n",
              "    }\n",
              "\n",
              "    .dataframe thead th {\n",
              "        text-align: right;\n",
              "    }\n",
              "</style>\n",
              "<table border=\"1\" class=\"dataframe\">\n",
              "  <thead>\n",
              "    <tr style=\"text-align: right;\">\n",
              "      <th></th>\n",
              "      <th>Loan_ID</th>\n",
              "      <th>Gender</th>\n",
              "      <th>Married</th>\n",
              "      <th>Dependents</th>\n",
              "      <th>Education</th>\n",
              "      <th>Self_Employed</th>\n",
              "      <th>ApplicantIncome</th>\n",
              "      <th>CoapplicantIncome</th>\n",
              "      <th>LoanAmount</th>\n",
              "      <th>Loan_Amount_Term</th>\n",
              "      <th>Credit_History</th>\n",
              "      <th>Property_Area</th>\n",
              "      <th>Loan_Status</th>\n",
              "    </tr>\n",
              "  </thead>\n",
              "  <tbody>\n",
              "    <tr>\n",
              "      <th>0</th>\n",
              "      <td>LP001002</td>\n",
              "      <td>Male</td>\n",
              "      <td>No</td>\n",
              "      <td>0</td>\n",
              "      <td>Graduate</td>\n",
              "      <td>No</td>\n",
              "      <td>5849</td>\n",
              "      <td>0.0</td>\n",
              "      <td>NaN</td>\n",
              "      <td>360.0</td>\n",
              "      <td>1.0</td>\n",
              "      <td>Urban</td>\n",
              "      <td>Y</td>\n",
              "    </tr>\n",
              "    <tr>\n",
              "      <th>1</th>\n",
              "      <td>LP001003</td>\n",
              "      <td>Male</td>\n",
              "      <td>Yes</td>\n",
              "      <td>1</td>\n",
              "      <td>Graduate</td>\n",
              "      <td>No</td>\n",
              "      <td>4583</td>\n",
              "      <td>1508.0</td>\n",
              "      <td>128.0</td>\n",
              "      <td>360.0</td>\n",
              "      <td>1.0</td>\n",
              "      <td>Rural</td>\n",
              "      <td>N</td>\n",
              "    </tr>\n",
              "    <tr>\n",
              "      <th>2</th>\n",
              "      <td>LP001005</td>\n",
              "      <td>Male</td>\n",
              "      <td>Yes</td>\n",
              "      <td>0</td>\n",
              "      <td>Graduate</td>\n",
              "      <td>Yes</td>\n",
              "      <td>3000</td>\n",
              "      <td>0.0</td>\n",
              "      <td>66.0</td>\n",
              "      <td>360.0</td>\n",
              "      <td>1.0</td>\n",
              "      <td>Urban</td>\n",
              "      <td>Y</td>\n",
              "    </tr>\n",
              "    <tr>\n",
              "      <th>3</th>\n",
              "      <td>LP001006</td>\n",
              "      <td>Male</td>\n",
              "      <td>Yes</td>\n",
              "      <td>0</td>\n",
              "      <td>Not Graduate</td>\n",
              "      <td>No</td>\n",
              "      <td>2583</td>\n",
              "      <td>2358.0</td>\n",
              "      <td>120.0</td>\n",
              "      <td>360.0</td>\n",
              "      <td>1.0</td>\n",
              "      <td>Urban</td>\n",
              "      <td>Y</td>\n",
              "    </tr>\n",
              "    <tr>\n",
              "      <th>4</th>\n",
              "      <td>LP001008</td>\n",
              "      <td>Male</td>\n",
              "      <td>No</td>\n",
              "      <td>0</td>\n",
              "      <td>Graduate</td>\n",
              "      <td>No</td>\n",
              "      <td>6000</td>\n",
              "      <td>0.0</td>\n",
              "      <td>141.0</td>\n",
              "      <td>360.0</td>\n",
              "      <td>1.0</td>\n",
              "      <td>Urban</td>\n",
              "      <td>Y</td>\n",
              "    </tr>\n",
              "  </tbody>\n",
              "</table>\n",
              "</div>"
            ],
            "text/plain": [
              "    Loan_ID Gender Married  ... Credit_History Property_Area Loan_Status\n",
              "0  LP001002   Male      No  ...            1.0         Urban           Y\n",
              "1  LP001003   Male     Yes  ...            1.0         Rural           N\n",
              "2  LP001005   Male     Yes  ...            1.0         Urban           Y\n",
              "3  LP001006   Male     Yes  ...            1.0         Urban           Y\n",
              "4  LP001008   Male      No  ...            1.0         Urban           Y\n",
              "\n",
              "[5 rows x 13 columns]"
            ]
          },
          "metadata": {
            "tags": []
          },
          "execution_count": 5
        }
      ]
    },
    {
      "cell_type": "code",
      "metadata": {
        "id": "lGS4glhPCKL9",
        "colab": {
          "base_uri": "https://localhost:8080/"
        },
        "outputId": "5bf4c89a-9d1a-4e79-a491-f87576891270"
      },
      "source": [
        "df.Loan_Status.value_counts()[0]/df.shape[0]"
      ],
      "execution_count": 6,
      "outputs": [
        {
          "output_type": "execute_result",
          "data": {
            "text/plain": [
              "0.6872964169381107"
            ]
          },
          "metadata": {
            "tags": []
          },
          "execution_count": 6
        }
      ]
    },
    {
      "cell_type": "code",
      "metadata": {
        "id": "qNdMOehVCKL_",
        "colab": {
          "base_uri": "https://localhost:8080/",
          "height": 542
        },
        "outputId": "30b041a8-3b60-438e-c047-c1a6b84e75df"
      },
      "source": [
        "px.bar(data_frame=df, x=\"Loan_Status\")"
      ],
      "execution_count": 7,
      "outputs": [
        {
          "output_type": "display_data",
          "data": {
            "text/html": [
              "<html>\n",
              "<head><meta charset=\"utf-8\" /></head>\n",
              "<body>\n",
              "    <div>\n",
              "            <script src=\"https://cdnjs.cloudflare.com/ajax/libs/mathjax/2.7.5/MathJax.js?config=TeX-AMS-MML_SVG\"></script><script type=\"text/javascript\">if (window.MathJax) {MathJax.Hub.Config({SVG: {font: \"STIX-Web\"}});}</script>\n",
              "                <script type=\"text/javascript\">window.PlotlyConfig = {MathJaxConfig: 'local'};</script>\n",
              "        <script src=\"https://cdn.plot.ly/plotly-latest.min.js\"></script>    \n",
              "            <div id=\"8f6aa8be-c791-422c-a25d-40a6eb628ae3\" class=\"plotly-graph-div\" style=\"height:525px; width:100%;\"></div>\n",
              "            <script type=\"text/javascript\">\n",
              "                \n",
              "                    window.PLOTLYENV=window.PLOTLYENV || {};\n",
              "                    \n",
              "                if (document.getElementById(\"8f6aa8be-c791-422c-a25d-40a6eb628ae3\")) {\n",
              "                    Plotly.newPlot(\n",
              "                        '8f6aa8be-c791-422c-a25d-40a6eb628ae3',\n",
              "                        [{\"alignmentgroup\": \"True\", \"hoverlabel\": {\"namelength\": 0}, \"hovertemplate\": \"Loan_Status=%{x}\", \"legendgroup\": \"\", \"marker\": {\"color\": \"#636efa\"}, \"name\": \"\", \"offsetgroup\": \"\", \"orientation\": \"v\", \"showlegend\": false, \"textposition\": \"auto\", \"type\": \"bar\", \"x\": [\"Y\", \"N\", \"Y\", \"Y\", \"Y\", \"Y\", \"Y\", \"N\", \"Y\", \"N\", \"Y\", \"Y\", \"Y\", \"N\", \"Y\", \"Y\", \"Y\", \"N\", \"N\", \"Y\", \"N\", \"Y\", \"N\", \"N\", \"N\", \"Y\", \"Y\", \"Y\", \"N\", \"Y\", \"N\", \"N\", \"N\", \"Y\", \"N\", \"Y\", \"N\", \"Y\", \"Y\", \"Y\", \"N\", \"Y\", \"Y\", \"Y\", \"Y\", \"Y\", \"Y\", \"Y\", \"N\", \"Y\", \"Y\", \"Y\", \"N\", \"N\", \"N\", \"Y\", \"Y\", \"N\", \"Y\", \"Y\", \"Y\", \"Y\", \"N\", \"N\", \"N\", \"N\", \"N\", \"Y\", \"Y\", \"N\", \"Y\", \"Y\", \"Y\", \"N\", \"Y\", \"N\", \"N\", \"N\", \"N\", \"Y\", \"Y\", \"Y\", \"N\", \"N\", \"Y\", \"Y\", \"Y\", \"Y\", \"Y\", \"Y\", \"Y\", \"Y\", \"Y\", \"Y\", \"Y\", \"N\", \"Y\", \"Y\", \"Y\", \"Y\", \"Y\", \"Y\", \"Y\", \"Y\", \"Y\", \"Y\", \"Y\", \"N\", \"N\", \"Y\", \"Y\", \"Y\", \"N\", \"Y\", \"Y\", \"Y\", \"Y\", \"Y\", \"N\", \"Y\", \"Y\", \"Y\", \"Y\", \"Y\", \"Y\", \"Y\", \"Y\", \"Y\", \"N\", \"N\", \"Y\", \"Y\", \"Y\", \"Y\", \"Y\", \"N\", \"N\", \"Y\", \"N\", \"N\", \"N\", \"Y\", \"Y\", \"Y\", \"Y\", \"Y\", \"Y\", \"Y\", \"N\", \"Y\", \"N\", \"Y\", \"N\", \"N\", \"Y\", \"Y\", \"Y\", \"Y\", \"Y\", \"Y\", \"Y\", \"N\", \"N\", \"Y\", \"Y\", \"Y\", \"N\", \"Y\", \"N\", \"Y\", \"Y\", \"Y\", \"N\", \"Y\", \"N\", \"Y\", \"Y\", \"N\", \"Y\", \"N\", \"N\", \"N\", \"Y\", \"N\", \"Y\", \"Y\", \"N\", \"Y\", \"Y\", \"Y\", \"Y\", \"N\", \"N\", \"Y\", \"Y\", \"N\", \"Y\", \"Y\", \"Y\", \"N\", \"Y\", \"Y\", \"N\", \"Y\", \"Y\", \"Y\", \"Y\", \"Y\", \"Y\", \"N\", \"N\", \"N\", \"Y\", \"Y\", \"Y\", \"Y\", \"N\", \"Y\", \"N\", \"Y\", \"N\", \"Y\", \"Y\", \"Y\", \"Y\", \"N\", \"N\", \"Y\", \"Y\", \"Y\", \"Y\", \"Y\", \"Y\", \"Y\", \"Y\", \"Y\", \"N\", \"Y\", \"Y\", \"Y\", \"Y\", \"N\", \"Y\", \"Y\", \"Y\", \"N\", \"Y\", \"Y\", \"Y\", \"Y\", \"N\", \"N\", \"Y\", \"Y\", \"N\", \"Y\", \"N\", \"N\", \"N\", \"N\", \"Y\", \"Y\", \"N\", \"Y\", \"Y\", \"Y\", \"Y\", \"Y\", \"N\", \"Y\", \"Y\", \"Y\", \"Y\", \"Y\", \"Y\", \"Y\", \"Y\", \"Y\", \"Y\", \"Y\", \"N\", \"Y\", \"Y\", \"Y\", \"N\", \"Y\", \"N\", \"Y\", \"Y\", \"Y\", \"Y\", \"N\", \"Y\", \"N\", \"Y\", \"Y\", \"Y\", \"Y\", \"N\", \"N\", \"N\", \"Y\", \"Y\", \"Y\", \"Y\", \"N\", \"Y\", \"N\", \"N\", \"Y\", \"Y\", \"Y\", \"Y\", \"Y\", \"N\", \"Y\", \"Y\", \"Y\", \"Y\", \"N\", \"Y\", \"Y\", \"Y\", \"Y\", \"Y\", \"N\", \"Y\", \"Y\", \"N\", \"Y\", \"Y\", \"Y\", \"Y\", \"Y\", \"Y\", \"Y\", \"Y\", \"Y\", \"N\", \"Y\", \"N\", \"N\", \"Y\", \"Y\", \"Y\", \"Y\", \"N\", \"Y\", \"Y\", \"Y\", \"Y\", \"N\", \"Y\", \"N\", \"Y\", \"Y\", \"Y\", \"N\", \"N\", \"Y\", \"N\", \"Y\", \"Y\", \"Y\", \"Y\", \"N\", \"N\", \"N\", \"Y\", \"N\", \"Y\", \"Y\", \"Y\", \"N\", \"Y\", \"Y\", \"Y\", \"Y\", \"N\", \"Y\", \"Y\", \"Y\", \"Y\", \"Y\", \"N\", \"Y\", \"Y\", \"N\", \"Y\", \"Y\", \"Y\", \"Y\", \"Y\", \"Y\", \"Y\", \"Y\", \"N\", \"Y\", \"Y\", \"N\", \"N\", \"N\", \"Y\", \"Y\", \"N\", \"Y\", \"Y\", \"Y\", \"N\", \"N\", \"N\", \"Y\", \"N\", \"Y\", \"N\", \"Y\", \"N\", \"N\", \"Y\", \"Y\", \"Y\", \"N\", \"Y\", \"N\", \"Y\", \"Y\", \"N\", \"Y\", \"Y\", \"Y\", \"Y\", \"N\", \"Y\", \"Y\", \"Y\", \"Y\", \"Y\", \"Y\", \"N\", \"Y\", \"Y\", \"Y\", \"Y\", \"Y\", \"Y\", \"Y\", \"Y\", \"N\", \"N\", \"N\", \"N\", \"Y\", \"N\", \"Y\", \"Y\", \"Y\", \"Y\", \"N\", \"Y\", \"N\", \"Y\", \"Y\", \"Y\", \"Y\", \"N\", \"Y\", \"N\", \"Y\", \"Y\", \"N\", \"Y\", \"N\", \"Y\", \"Y\", \"Y\", \"Y\", \"Y\", \"N\", \"Y\", \"N\", \"Y\", \"Y\", \"Y\", \"Y\", \"Y\", \"Y\", \"N\", \"N\", \"Y\", \"N\", \"Y\", \"Y\", \"Y\", \"Y\", \"N\", \"Y\", \"Y\", \"Y\", \"Y\", \"N\", \"Y\", \"Y\", \"Y\", \"N\", \"Y\", \"Y\", \"Y\", \"N\", \"Y\", \"Y\", \"N\", \"Y\", \"Y\", \"N\", \"N\", \"Y\", \"Y\", \"N\", \"N\", \"N\", \"Y\", \"Y\", \"Y\", \"Y\", \"N\", \"Y\", \"Y\", \"Y\", \"Y\", \"Y\", \"Y\", \"Y\", \"N\", \"N\", \"Y\", \"Y\", \"Y\", \"Y\", \"N\", \"Y\", \"Y\", \"N\", \"Y\", \"Y\", \"Y\", \"Y\", \"N\", \"Y\", \"N\", \"Y\", \"N\", \"Y\", \"Y\", \"N\", \"N\", \"Y\", \"Y\", \"Y\", \"Y\", \"Y\", \"Y\", \"Y\", \"Y\", \"Y\", \"N\", \"Y\", \"Y\", \"N\", \"N\", \"N\", \"Y\", \"N\", \"Y\", \"N\", \"N\", \"Y\", \"N\", \"Y\", \"Y\", \"Y\", \"Y\", \"N\", \"Y\", \"N\", \"N\", \"N\", \"Y\", \"Y\", \"Y\", \"N\", \"Y\", \"N\", \"Y\", \"Y\", \"Y\", \"Y\", \"N\", \"N\", \"Y\", \"Y\", \"N\", \"Y\", \"Y\", \"Y\", \"Y\", \"N\", \"Y\", \"Y\", \"Y\", \"Y\", \"Y\", \"Y\", \"Y\", \"N\"], \"xaxis\": \"x\", \"yaxis\": \"y\"}],\n",
              "                        {\"barmode\": \"relative\", \"legend\": {\"tracegroupgap\": 0}, \"margin\": {\"t\": 60}, \"template\": {\"data\": {\"bar\": [{\"error_x\": {\"color\": \"#2a3f5f\"}, \"error_y\": {\"color\": \"#2a3f5f\"}, \"marker\": {\"line\": {\"color\": \"#E5ECF6\", \"width\": 0.5}}, \"type\": \"bar\"}], \"barpolar\": [{\"marker\": {\"line\": {\"color\": \"#E5ECF6\", \"width\": 0.5}}, \"type\": \"barpolar\"}], \"carpet\": [{\"aaxis\": {\"endlinecolor\": \"#2a3f5f\", \"gridcolor\": \"white\", \"linecolor\": \"white\", \"minorgridcolor\": \"white\", \"startlinecolor\": \"#2a3f5f\"}, \"baxis\": {\"endlinecolor\": \"#2a3f5f\", \"gridcolor\": \"white\", \"linecolor\": \"white\", \"minorgridcolor\": \"white\", \"startlinecolor\": \"#2a3f5f\"}, \"type\": \"carpet\"}], \"choropleth\": [{\"colorbar\": {\"outlinewidth\": 0, \"ticks\": \"\"}, \"type\": \"choropleth\"}], \"contour\": [{\"colorbar\": {\"outlinewidth\": 0, \"ticks\": \"\"}, \"colorscale\": [[0.0, \"#0d0887\"], [0.1111111111111111, \"#46039f\"], [0.2222222222222222, \"#7201a8\"], [0.3333333333333333, \"#9c179e\"], [0.4444444444444444, \"#bd3786\"], [0.5555555555555556, \"#d8576b\"], [0.6666666666666666, \"#ed7953\"], [0.7777777777777778, \"#fb9f3a\"], [0.8888888888888888, \"#fdca26\"], [1.0, \"#f0f921\"]], \"type\": \"contour\"}], \"contourcarpet\": [{\"colorbar\": {\"outlinewidth\": 0, \"ticks\": \"\"}, \"type\": \"contourcarpet\"}], \"heatmap\": [{\"colorbar\": {\"outlinewidth\": 0, \"ticks\": \"\"}, \"colorscale\": [[0.0, \"#0d0887\"], [0.1111111111111111, \"#46039f\"], [0.2222222222222222, \"#7201a8\"], [0.3333333333333333, \"#9c179e\"], [0.4444444444444444, \"#bd3786\"], [0.5555555555555556, \"#d8576b\"], [0.6666666666666666, \"#ed7953\"], [0.7777777777777778, \"#fb9f3a\"], [0.8888888888888888, \"#fdca26\"], [1.0, \"#f0f921\"]], \"type\": \"heatmap\"}], \"heatmapgl\": [{\"colorbar\": {\"outlinewidth\": 0, \"ticks\": \"\"}, \"colorscale\": [[0.0, \"#0d0887\"], [0.1111111111111111, \"#46039f\"], [0.2222222222222222, \"#7201a8\"], [0.3333333333333333, \"#9c179e\"], [0.4444444444444444, \"#bd3786\"], [0.5555555555555556, \"#d8576b\"], [0.6666666666666666, \"#ed7953\"], [0.7777777777777778, \"#fb9f3a\"], [0.8888888888888888, \"#fdca26\"], [1.0, \"#f0f921\"]], \"type\": \"heatmapgl\"}], \"histogram\": [{\"marker\": {\"colorbar\": {\"outlinewidth\": 0, \"ticks\": \"\"}}, \"type\": \"histogram\"}], \"histogram2d\": [{\"colorbar\": {\"outlinewidth\": 0, \"ticks\": \"\"}, \"colorscale\": [[0.0, \"#0d0887\"], [0.1111111111111111, \"#46039f\"], [0.2222222222222222, \"#7201a8\"], [0.3333333333333333, \"#9c179e\"], [0.4444444444444444, \"#bd3786\"], [0.5555555555555556, \"#d8576b\"], [0.6666666666666666, \"#ed7953\"], [0.7777777777777778, \"#fb9f3a\"], [0.8888888888888888, \"#fdca26\"], [1.0, \"#f0f921\"]], \"type\": \"histogram2d\"}], \"histogram2dcontour\": [{\"colorbar\": {\"outlinewidth\": 0, \"ticks\": \"\"}, \"colorscale\": [[0.0, \"#0d0887\"], [0.1111111111111111, \"#46039f\"], [0.2222222222222222, \"#7201a8\"], [0.3333333333333333, \"#9c179e\"], [0.4444444444444444, \"#bd3786\"], [0.5555555555555556, \"#d8576b\"], [0.6666666666666666, \"#ed7953\"], [0.7777777777777778, \"#fb9f3a\"], [0.8888888888888888, \"#fdca26\"], [1.0, \"#f0f921\"]], \"type\": \"histogram2dcontour\"}], \"mesh3d\": [{\"colorbar\": {\"outlinewidth\": 0, \"ticks\": \"\"}, \"type\": \"mesh3d\"}], \"parcoords\": [{\"line\": {\"colorbar\": {\"outlinewidth\": 0, \"ticks\": \"\"}}, \"type\": \"parcoords\"}], \"pie\": [{\"automargin\": true, \"type\": \"pie\"}], \"scatter\": [{\"marker\": {\"colorbar\": {\"outlinewidth\": 0, \"ticks\": \"\"}}, \"type\": \"scatter\"}], \"scatter3d\": [{\"line\": {\"colorbar\": {\"outlinewidth\": 0, \"ticks\": \"\"}}, \"marker\": {\"colorbar\": {\"outlinewidth\": 0, \"ticks\": \"\"}}, \"type\": \"scatter3d\"}], \"scattercarpet\": [{\"marker\": {\"colorbar\": {\"outlinewidth\": 0, \"ticks\": \"\"}}, \"type\": \"scattercarpet\"}], \"scattergeo\": [{\"marker\": {\"colorbar\": {\"outlinewidth\": 0, \"ticks\": \"\"}}, \"type\": \"scattergeo\"}], \"scattergl\": [{\"marker\": {\"colorbar\": {\"outlinewidth\": 0, \"ticks\": \"\"}}, \"type\": \"scattergl\"}], \"scattermapbox\": [{\"marker\": {\"colorbar\": {\"outlinewidth\": 0, \"ticks\": \"\"}}, \"type\": \"scattermapbox\"}], \"scatterpolar\": [{\"marker\": {\"colorbar\": {\"outlinewidth\": 0, \"ticks\": \"\"}}, \"type\": \"scatterpolar\"}], \"scatterpolargl\": [{\"marker\": {\"colorbar\": {\"outlinewidth\": 0, \"ticks\": \"\"}}, \"type\": \"scatterpolargl\"}], \"scatterternary\": [{\"marker\": {\"colorbar\": {\"outlinewidth\": 0, \"ticks\": \"\"}}, \"type\": \"scatterternary\"}], \"surface\": [{\"colorbar\": {\"outlinewidth\": 0, \"ticks\": \"\"}, \"colorscale\": [[0.0, \"#0d0887\"], [0.1111111111111111, \"#46039f\"], [0.2222222222222222, \"#7201a8\"], [0.3333333333333333, \"#9c179e\"], [0.4444444444444444, \"#bd3786\"], [0.5555555555555556, \"#d8576b\"], [0.6666666666666666, \"#ed7953\"], [0.7777777777777778, \"#fb9f3a\"], [0.8888888888888888, \"#fdca26\"], [1.0, \"#f0f921\"]], \"type\": \"surface\"}], \"table\": [{\"cells\": {\"fill\": {\"color\": \"#EBF0F8\"}, \"line\": {\"color\": \"white\"}}, \"header\": {\"fill\": {\"color\": \"#C8D4E3\"}, \"line\": {\"color\": \"white\"}}, \"type\": \"table\"}]}, \"layout\": {\"annotationdefaults\": {\"arrowcolor\": \"#2a3f5f\", \"arrowhead\": 0, \"arrowwidth\": 1}, \"coloraxis\": {\"colorbar\": {\"outlinewidth\": 0, \"ticks\": \"\"}}, \"colorscale\": {\"diverging\": [[0, \"#8e0152\"], [0.1, \"#c51b7d\"], [0.2, \"#de77ae\"], [0.3, \"#f1b6da\"], [0.4, \"#fde0ef\"], [0.5, \"#f7f7f7\"], [0.6, \"#e6f5d0\"], [0.7, \"#b8e186\"], [0.8, \"#7fbc41\"], [0.9, \"#4d9221\"], [1, \"#276419\"]], \"sequential\": [[0.0, \"#0d0887\"], [0.1111111111111111, \"#46039f\"], [0.2222222222222222, \"#7201a8\"], [0.3333333333333333, \"#9c179e\"], [0.4444444444444444, \"#bd3786\"], [0.5555555555555556, \"#d8576b\"], [0.6666666666666666, \"#ed7953\"], [0.7777777777777778, \"#fb9f3a\"], [0.8888888888888888, \"#fdca26\"], [1.0, \"#f0f921\"]], \"sequentialminus\": [[0.0, \"#0d0887\"], [0.1111111111111111, \"#46039f\"], [0.2222222222222222, \"#7201a8\"], [0.3333333333333333, \"#9c179e\"], [0.4444444444444444, \"#bd3786\"], [0.5555555555555556, \"#d8576b\"], [0.6666666666666666, \"#ed7953\"], [0.7777777777777778, \"#fb9f3a\"], [0.8888888888888888, \"#fdca26\"], [1.0, \"#f0f921\"]]}, \"colorway\": [\"#636efa\", \"#EF553B\", \"#00cc96\", \"#ab63fa\", \"#FFA15A\", \"#19d3f3\", \"#FF6692\", \"#B6E880\", \"#FF97FF\", \"#FECB52\"], \"font\": {\"color\": \"#2a3f5f\"}, \"geo\": {\"bgcolor\": \"white\", \"lakecolor\": \"white\", \"landcolor\": \"#E5ECF6\", \"showlakes\": true, \"showland\": true, \"subunitcolor\": \"white\"}, \"hoverlabel\": {\"align\": \"left\"}, \"hovermode\": \"closest\", \"mapbox\": {\"style\": \"light\"}, \"paper_bgcolor\": \"white\", \"plot_bgcolor\": \"#E5ECF6\", \"polar\": {\"angularaxis\": {\"gridcolor\": \"white\", \"linecolor\": \"white\", \"ticks\": \"\"}, \"bgcolor\": \"#E5ECF6\", \"radialaxis\": {\"gridcolor\": \"white\", \"linecolor\": \"white\", \"ticks\": \"\"}}, \"scene\": {\"xaxis\": {\"backgroundcolor\": \"#E5ECF6\", \"gridcolor\": \"white\", \"gridwidth\": 2, \"linecolor\": \"white\", \"showbackground\": true, \"ticks\": \"\", \"zerolinecolor\": \"white\"}, \"yaxis\": {\"backgroundcolor\": \"#E5ECF6\", \"gridcolor\": \"white\", \"gridwidth\": 2, \"linecolor\": \"white\", \"showbackground\": true, \"ticks\": \"\", \"zerolinecolor\": \"white\"}, \"zaxis\": {\"backgroundcolor\": \"#E5ECF6\", \"gridcolor\": \"white\", \"gridwidth\": 2, \"linecolor\": \"white\", \"showbackground\": true, \"ticks\": \"\", \"zerolinecolor\": \"white\"}}, \"shapedefaults\": {\"line\": {\"color\": \"#2a3f5f\"}}, \"ternary\": {\"aaxis\": {\"gridcolor\": \"white\", \"linecolor\": \"white\", \"ticks\": \"\"}, \"baxis\": {\"gridcolor\": \"white\", \"linecolor\": \"white\", \"ticks\": \"\"}, \"bgcolor\": \"#E5ECF6\", \"caxis\": {\"gridcolor\": \"white\", \"linecolor\": \"white\", \"ticks\": \"\"}}, \"title\": {\"x\": 0.05}, \"xaxis\": {\"automargin\": true, \"gridcolor\": \"white\", \"linecolor\": \"white\", \"ticks\": \"\", \"title\": {\"standoff\": 15}, \"zerolinecolor\": \"white\", \"zerolinewidth\": 2}, \"yaxis\": {\"automargin\": true, \"gridcolor\": \"white\", \"linecolor\": \"white\", \"ticks\": \"\", \"title\": {\"standoff\": 15}, \"zerolinecolor\": \"white\", \"zerolinewidth\": 2}}}, \"xaxis\": {\"anchor\": \"y\", \"domain\": [0.0, 1.0], \"title\": {\"text\": \"Loan_Status\"}}, \"yaxis\": {\"anchor\": \"x\", \"domain\": [0.0, 1.0]}},\n",
              "                        {\"responsive\": true}\n",
              "                    ).then(function(){\n",
              "                            \n",
              "var gd = document.getElementById('8f6aa8be-c791-422c-a25d-40a6eb628ae3');\n",
              "var x = new MutationObserver(function (mutations, observer) {{\n",
              "        var display = window.getComputedStyle(gd).display;\n",
              "        if (!display || display === 'none') {{\n",
              "            console.log([gd, 'removed!']);\n",
              "            Plotly.purge(gd);\n",
              "            observer.disconnect();\n",
              "        }}\n",
              "}});\n",
              "\n",
              "// Listen for the removal of the full notebook cells\n",
              "var notebookContainer = gd.closest('#notebook-container');\n",
              "if (notebookContainer) {{\n",
              "    x.observe(notebookContainer, {childList: true});\n",
              "}}\n",
              "\n",
              "// Listen for the clearing of the current output cell\n",
              "var outputEl = gd.closest('.output');\n",
              "if (outputEl) {{\n",
              "    x.observe(outputEl, {childList: true});\n",
              "}}\n",
              "\n",
              "                        })\n",
              "                };\n",
              "                \n",
              "            </script>\n",
              "        </div>\n",
              "</body>\n",
              "</html>"
            ]
          },
          "metadata": {
            "tags": []
          }
        }
      ]
    },
    {
      "cell_type": "code",
      "metadata": {
        "id": "Fcc71ggaCKMB",
        "colab": {
          "base_uri": "https://localhost:8080/",
          "height": 542
        },
        "outputId": "a267ab6d-05ad-4c2c-c06e-c81a018be202"
      },
      "source": [
        "px.histogram(data_frame=df, x=\"ApplicantIncome\", color=\"Loan_Status\")"
      ],
      "execution_count": 8,
      "outputs": [
        {
          "output_type": "display_data",
          "data": {
            "text/html": [
              "<html>\n",
              "<head><meta charset=\"utf-8\" /></head>\n",
              "<body>\n",
              "    <div>\n",
              "            <script src=\"https://cdnjs.cloudflare.com/ajax/libs/mathjax/2.7.5/MathJax.js?config=TeX-AMS-MML_SVG\"></script><script type=\"text/javascript\">if (window.MathJax) {MathJax.Hub.Config({SVG: {font: \"STIX-Web\"}});}</script>\n",
              "                <script type=\"text/javascript\">window.PlotlyConfig = {MathJaxConfig: 'local'};</script>\n",
              "        <script src=\"https://cdn.plot.ly/plotly-latest.min.js\"></script>    \n",
              "            <div id=\"f00ae507-aace-46d9-8a38-f10cebd1228e\" class=\"plotly-graph-div\" style=\"height:525px; width:100%;\"></div>\n",
              "            <script type=\"text/javascript\">\n",
              "                \n",
              "                    window.PLOTLYENV=window.PLOTLYENV || {};\n",
              "                    \n",
              "                if (document.getElementById(\"f00ae507-aace-46d9-8a38-f10cebd1228e\")) {\n",
              "                    Plotly.newPlot(\n",
              "                        'f00ae507-aace-46d9-8a38-f10cebd1228e',\n",
              "                        [{\"alignmentgroup\": \"True\", \"bingroup\": \"x\", \"hoverlabel\": {\"namelength\": 0}, \"hovertemplate\": \"Loan_Status=Y<br>ApplicantIncome=%{x}<br>count=%{y}\", \"legendgroup\": \"Loan_Status=Y\", \"marker\": {\"color\": \"#636efa\"}, \"name\": \"Loan_Status=Y\", \"offsetgroup\": \"Loan_Status=Y\", \"orientation\": \"v\", \"showlegend\": true, \"type\": \"histogram\", \"x\": [5849, 3000, 2583, 6000, 5417, 2333, 4006, 3200, 2500, 3073, 1299, 4950, 3596, 2600, 5955, 9560, 2799, 4226, 3750, 3500, 2275, 3667, 4166, 3748, 1800, 2400, 3941, 4695, 3410, 5649, 5821, 4000, 1928, 3086, 2708, 2132, 8080, 3357, 2500, 3029, 10750, 7100, 3208, 1875, 3500, 5266, 3333, 3846, 2395, 3988, 2366, 3333, 2500, 8566, 5695, 2958, 6250, 3273, 4133, 3620, 2484, 1977, 4188, 1759, 4288, 4843, 13650, 4652, 3816, 3052, 11417, 2071, 5316, 2929, 7451, 5050, 14583, 3167, 2214, 10408, 5667, 4166, 2137, 2957, 4300, 3692, 23803, 3865, 20166, 2014, 2718, 3459, 4895, 3316, 5417, 6950, 2698, 11757, 2330, 14866, 1538, 4860, 2577, 3254, 39999, 6000, 9538, 2980, 4583, 1863, 4167, 9323, 3707, 2439, 8000, 1820, 51763, 5708, 3497, 2045, 3750, 4600, 3625, 39147, 2383, 674, 9328, 4885, 3858, 4191, 8333, 1907, 3416, 2600, 4923, 3500, 3917, 4408, 3244, 3975, 2479, 7787, 5703, 3173, 3850, 3727, 4283, 4009, 2971, 7578, 6250, 6250, 4758, 6400, 2491, 3716, 3189, 8333, 3155, 5500, 3463, 3812, 3315, 5819, 2965, 6250, 3406, 9703, 6608, 2882, 1809, 2583, 2661, 3083, 6083, 2060, 7200, 5166, 4095, 4708, 4333, 2876, 3237, 11146, 2833, 2620, 3900, 2750, 3993, 3103, 14583, 4100, 3927, 2301, 1811, 3158, 3704, 4124, 9508, 3075, 3153, 2383, 4416, 6875, 4666, 2875, 5000, 1625, 4000, 3762, 7667, 2917, 2927, 2507, 5746, 3399, 3717, 2058, 3541, 2400, 4342, 3601, 3166, 15000, 4917, 5818, 2500, 4384, 2935, 2833, 63337, 9833, 5503, 5250, 2500, 4160, 4554, 3173, 2583, 2499, 3083, 6333, 2625, 9083, 2666, 2423, 3813, 8333, 5167, 5000, 4750, 3013, 6822, 6325, 15759, 5185, 9323, 2764, 4817, 8750, 4310, 5391, 3333, 5941, 6000, 7167, 3667, 2346, 2333, 5488, 9167, 9504, 2583, 1993, 3100, 3276, 3033, 3902, 2500, 1963, 4547, 2167, 2213, 6256, 2253, 2995, 1025, 3246, 5829, 1820, 14880, 2666, 5935, 2920, 2717, 8624, 12876, 2425, 3750, 10047, 1926, 2213, 7142, 3660, 7901, 4707, 37719, 7333, 3466, 4652, 1958, 2483, 7085, 3859, 4301, 4354, 2083, 7740, 3015, 5191, 6000, 16692, 210, 3450, 4691, 2500, 5532, 16525, 6700, 16667, 4350, 3095, 2083, 10833, 8333, 1958, 4583, 2699, 5333, 3691, 17263, 3326, 2600, 4625, 2895, 645, 3159, 4865, 3814, 3510, 20833, 2479, 13262, 6065, 3283, 3466, 2031, 2192, 2500, 5677, 7948, 17500, 3775, 5285, 2679, 6783, 1025, 4281, 18165, 2550, 6133, 3617, 6417, 4608, 3652, 2239, 3017, 2768, 2526, 2785, 2492, 3333, 5468, 2667, 10139, 3887, 4180, 3675, 19484, 5923, 5800, 4467, 3333, 3417, 16666, 3159, 3229, 1782, 3182, 6540, 3166, 2297, 2165, 4750, 3000, 9357, 3859, 16120, 3833, 9963, 5780, 2894, 5703, 3676, 12000, 3400, 3987, 3232, 2900, 4106, 8072, 7583], \"xaxis\": \"x\", \"yaxis\": \"y\"}, {\"alignmentgroup\": \"True\", \"bingroup\": \"x\", \"hoverlabel\": {\"namelength\": 0}, \"hovertemplate\": \"Loan_Status=N<br>ApplicantIncome=%{x}<br>count=%{y}\", \"legendgroup\": \"Loan_Status=N\", \"marker\": {\"color\": \"#EF553B\"}, \"name\": \"Loan_Status=N\", \"offsetgroup\": \"Loan_Status=N\", \"orientation\": \"v\", \"showlegend\": true, \"type\": \"histogram\", \"x\": [4583, 3036, 12841, 1853, 3510, 4887, 7660, 2600, 3365, 3717, 1442, 4166, 3167, 4692, 12500, 1828, 3600, 2645, 4230, 4616, 11500, 3366, 2609, 4945, 4166, 5726, 3200, 4300, 4755, 3750, 3750, 1000, 3167, 1378, 6000, 6782, 7333, 3800, 3572, 5568, 10513, 6080, 4000, 4583, 14999, 4200, 5042, 10000, 6277, 9166, 2281, 7933, 3089, 4583, 2237, 3522, 4344, 5516, 2333, 6400, 1916, 33846, 2178, 12000, 6033, 3125, 11000, 3992, 3418, 10000, 3430, 150, 5000, 2221, 3250, 4735, 5746, 2510, 6050, 1668, 3427, 16250, 6045, 5250, 14683, 4931, 3481, 3418, 4053, 20667, 2600, 4400, 5417, 5000, 2014, 1800, 2000, 2400, 20233, 2473, 10000, 8666, 4333, 1830, 2647, 2378, 3523, 8750, 5500, 3875, 3000, 4723, 6216, 2500, 5124, 19730, 3062, 3069, 4566, 3010, 3180, 1500, 2889, 2755, 7441, 8300, 81000, 3867, 6096, 2149, 2600, 1600, 2720, 7250, 4606, 6500, 10416, 3539, 3340, 2769, 2309, 3948, 3708, 8334, 4166, 2947, 4333, 2653, 2873, 2947, 3547, 18333, 2435, 3597, 6283, 4050, 3583, 3598, 2130, 5815, 3074, 4683, 3400, 4680, 3588, 11250, 2917, 2138, 3358, 5000, 6633, 2454, 3593, 8799, 3400, 2378, 3166, 5116, 6125, 6406, 3087, 1836, 1880, 2787, 4283, 2726, 6000, 6383, 2987, 416, 2400, 4583], \"xaxis\": \"x\", \"yaxis\": \"y\"}],\n",
              "                        {\"barmode\": \"relative\", \"legend\": {\"tracegroupgap\": 0}, \"margin\": {\"t\": 60}, \"template\": {\"data\": {\"bar\": [{\"error_x\": {\"color\": \"#2a3f5f\"}, \"error_y\": {\"color\": \"#2a3f5f\"}, \"marker\": {\"line\": {\"color\": \"#E5ECF6\", \"width\": 0.5}}, \"type\": \"bar\"}], \"barpolar\": [{\"marker\": {\"line\": {\"color\": \"#E5ECF6\", \"width\": 0.5}}, \"type\": \"barpolar\"}], \"carpet\": [{\"aaxis\": {\"endlinecolor\": \"#2a3f5f\", \"gridcolor\": \"white\", \"linecolor\": \"white\", \"minorgridcolor\": \"white\", \"startlinecolor\": \"#2a3f5f\"}, \"baxis\": {\"endlinecolor\": \"#2a3f5f\", \"gridcolor\": \"white\", \"linecolor\": \"white\", \"minorgridcolor\": \"white\", \"startlinecolor\": \"#2a3f5f\"}, \"type\": \"carpet\"}], \"choropleth\": [{\"colorbar\": {\"outlinewidth\": 0, \"ticks\": \"\"}, \"type\": \"choropleth\"}], \"contour\": [{\"colorbar\": {\"outlinewidth\": 0, \"ticks\": \"\"}, \"colorscale\": [[0.0, \"#0d0887\"], [0.1111111111111111, \"#46039f\"], [0.2222222222222222, \"#7201a8\"], [0.3333333333333333, \"#9c179e\"], [0.4444444444444444, \"#bd3786\"], [0.5555555555555556, \"#d8576b\"], [0.6666666666666666, \"#ed7953\"], [0.7777777777777778, \"#fb9f3a\"], [0.8888888888888888, \"#fdca26\"], [1.0, \"#f0f921\"]], \"type\": \"contour\"}], \"contourcarpet\": [{\"colorbar\": {\"outlinewidth\": 0, \"ticks\": \"\"}, \"type\": \"contourcarpet\"}], \"heatmap\": [{\"colorbar\": {\"outlinewidth\": 0, \"ticks\": \"\"}, \"colorscale\": [[0.0, \"#0d0887\"], [0.1111111111111111, \"#46039f\"], [0.2222222222222222, \"#7201a8\"], [0.3333333333333333, \"#9c179e\"], [0.4444444444444444, \"#bd3786\"], [0.5555555555555556, \"#d8576b\"], [0.6666666666666666, \"#ed7953\"], [0.7777777777777778, \"#fb9f3a\"], [0.8888888888888888, \"#fdca26\"], [1.0, \"#f0f921\"]], \"type\": \"heatmap\"}], \"heatmapgl\": [{\"colorbar\": {\"outlinewidth\": 0, \"ticks\": \"\"}, \"colorscale\": [[0.0, \"#0d0887\"], [0.1111111111111111, \"#46039f\"], [0.2222222222222222, \"#7201a8\"], [0.3333333333333333, \"#9c179e\"], [0.4444444444444444, \"#bd3786\"], [0.5555555555555556, \"#d8576b\"], [0.6666666666666666, \"#ed7953\"], [0.7777777777777778, \"#fb9f3a\"], [0.8888888888888888, \"#fdca26\"], [1.0, \"#f0f921\"]], \"type\": \"heatmapgl\"}], \"histogram\": [{\"marker\": {\"colorbar\": {\"outlinewidth\": 0, \"ticks\": \"\"}}, \"type\": \"histogram\"}], \"histogram2d\": [{\"colorbar\": {\"outlinewidth\": 0, \"ticks\": \"\"}, \"colorscale\": [[0.0, \"#0d0887\"], [0.1111111111111111, \"#46039f\"], [0.2222222222222222, \"#7201a8\"], [0.3333333333333333, \"#9c179e\"], [0.4444444444444444, \"#bd3786\"], [0.5555555555555556, \"#d8576b\"], [0.6666666666666666, \"#ed7953\"], [0.7777777777777778, \"#fb9f3a\"], [0.8888888888888888, \"#fdca26\"], [1.0, \"#f0f921\"]], \"type\": \"histogram2d\"}], \"histogram2dcontour\": [{\"colorbar\": {\"outlinewidth\": 0, \"ticks\": \"\"}, \"colorscale\": [[0.0, \"#0d0887\"], [0.1111111111111111, \"#46039f\"], [0.2222222222222222, \"#7201a8\"], [0.3333333333333333, \"#9c179e\"], [0.4444444444444444, \"#bd3786\"], [0.5555555555555556, \"#d8576b\"], [0.6666666666666666, \"#ed7953\"], [0.7777777777777778, \"#fb9f3a\"], [0.8888888888888888, \"#fdca26\"], [1.0, \"#f0f921\"]], \"type\": \"histogram2dcontour\"}], \"mesh3d\": [{\"colorbar\": {\"outlinewidth\": 0, \"ticks\": \"\"}, \"type\": \"mesh3d\"}], \"parcoords\": [{\"line\": {\"colorbar\": {\"outlinewidth\": 0, \"ticks\": \"\"}}, \"type\": \"parcoords\"}], \"pie\": [{\"automargin\": true, \"type\": \"pie\"}], \"scatter\": [{\"marker\": {\"colorbar\": {\"outlinewidth\": 0, \"ticks\": \"\"}}, \"type\": \"scatter\"}], \"scatter3d\": [{\"line\": {\"colorbar\": {\"outlinewidth\": 0, \"ticks\": \"\"}}, \"marker\": {\"colorbar\": {\"outlinewidth\": 0, \"ticks\": \"\"}}, \"type\": \"scatter3d\"}], \"scattercarpet\": [{\"marker\": {\"colorbar\": {\"outlinewidth\": 0, \"ticks\": \"\"}}, \"type\": \"scattercarpet\"}], \"scattergeo\": [{\"marker\": {\"colorbar\": {\"outlinewidth\": 0, \"ticks\": \"\"}}, \"type\": \"scattergeo\"}], \"scattergl\": [{\"marker\": {\"colorbar\": {\"outlinewidth\": 0, \"ticks\": \"\"}}, \"type\": \"scattergl\"}], \"scattermapbox\": [{\"marker\": {\"colorbar\": {\"outlinewidth\": 0, \"ticks\": \"\"}}, \"type\": \"scattermapbox\"}], \"scatterpolar\": [{\"marker\": {\"colorbar\": {\"outlinewidth\": 0, \"ticks\": \"\"}}, \"type\": \"scatterpolar\"}], \"scatterpolargl\": [{\"marker\": {\"colorbar\": {\"outlinewidth\": 0, \"ticks\": \"\"}}, \"type\": \"scatterpolargl\"}], \"scatterternary\": [{\"marker\": {\"colorbar\": {\"outlinewidth\": 0, \"ticks\": \"\"}}, \"type\": \"scatterternary\"}], \"surface\": [{\"colorbar\": {\"outlinewidth\": 0, \"ticks\": \"\"}, \"colorscale\": [[0.0, \"#0d0887\"], [0.1111111111111111, \"#46039f\"], [0.2222222222222222, \"#7201a8\"], [0.3333333333333333, \"#9c179e\"], [0.4444444444444444, \"#bd3786\"], [0.5555555555555556, \"#d8576b\"], [0.6666666666666666, \"#ed7953\"], [0.7777777777777778, \"#fb9f3a\"], [0.8888888888888888, \"#fdca26\"], [1.0, \"#f0f921\"]], \"type\": \"surface\"}], \"table\": [{\"cells\": {\"fill\": {\"color\": \"#EBF0F8\"}, \"line\": {\"color\": \"white\"}}, \"header\": {\"fill\": {\"color\": \"#C8D4E3\"}, \"line\": {\"color\": \"white\"}}, \"type\": \"table\"}]}, \"layout\": {\"annotationdefaults\": {\"arrowcolor\": \"#2a3f5f\", \"arrowhead\": 0, \"arrowwidth\": 1}, \"coloraxis\": {\"colorbar\": {\"outlinewidth\": 0, \"ticks\": \"\"}}, \"colorscale\": {\"diverging\": [[0, \"#8e0152\"], [0.1, \"#c51b7d\"], [0.2, \"#de77ae\"], [0.3, \"#f1b6da\"], [0.4, \"#fde0ef\"], [0.5, \"#f7f7f7\"], [0.6, \"#e6f5d0\"], [0.7, \"#b8e186\"], [0.8, \"#7fbc41\"], [0.9, \"#4d9221\"], [1, \"#276419\"]], \"sequential\": [[0.0, \"#0d0887\"], [0.1111111111111111, \"#46039f\"], [0.2222222222222222, \"#7201a8\"], [0.3333333333333333, \"#9c179e\"], [0.4444444444444444, \"#bd3786\"], [0.5555555555555556, \"#d8576b\"], [0.6666666666666666, \"#ed7953\"], [0.7777777777777778, \"#fb9f3a\"], [0.8888888888888888, \"#fdca26\"], [1.0, \"#f0f921\"]], \"sequentialminus\": [[0.0, \"#0d0887\"], [0.1111111111111111, \"#46039f\"], [0.2222222222222222, \"#7201a8\"], [0.3333333333333333, \"#9c179e\"], [0.4444444444444444, \"#bd3786\"], [0.5555555555555556, \"#d8576b\"], [0.6666666666666666, \"#ed7953\"], [0.7777777777777778, \"#fb9f3a\"], [0.8888888888888888, \"#fdca26\"], [1.0, \"#f0f921\"]]}, \"colorway\": [\"#636efa\", \"#EF553B\", \"#00cc96\", \"#ab63fa\", \"#FFA15A\", \"#19d3f3\", \"#FF6692\", \"#B6E880\", \"#FF97FF\", \"#FECB52\"], \"font\": {\"color\": \"#2a3f5f\"}, \"geo\": {\"bgcolor\": \"white\", \"lakecolor\": \"white\", \"landcolor\": \"#E5ECF6\", \"showlakes\": true, \"showland\": true, \"subunitcolor\": \"white\"}, \"hoverlabel\": {\"align\": \"left\"}, \"hovermode\": \"closest\", \"mapbox\": {\"style\": \"light\"}, \"paper_bgcolor\": \"white\", \"plot_bgcolor\": \"#E5ECF6\", \"polar\": {\"angularaxis\": {\"gridcolor\": \"white\", \"linecolor\": \"white\", \"ticks\": \"\"}, \"bgcolor\": \"#E5ECF6\", \"radialaxis\": {\"gridcolor\": \"white\", \"linecolor\": \"white\", \"ticks\": \"\"}}, \"scene\": {\"xaxis\": {\"backgroundcolor\": \"#E5ECF6\", \"gridcolor\": \"white\", \"gridwidth\": 2, \"linecolor\": \"white\", \"showbackground\": true, \"ticks\": \"\", \"zerolinecolor\": \"white\"}, \"yaxis\": {\"backgroundcolor\": \"#E5ECF6\", \"gridcolor\": \"white\", \"gridwidth\": 2, \"linecolor\": \"white\", \"showbackground\": true, \"ticks\": \"\", \"zerolinecolor\": \"white\"}, \"zaxis\": {\"backgroundcolor\": \"#E5ECF6\", \"gridcolor\": \"white\", \"gridwidth\": 2, \"linecolor\": \"white\", \"showbackground\": true, \"ticks\": \"\", \"zerolinecolor\": \"white\"}}, \"shapedefaults\": {\"line\": {\"color\": \"#2a3f5f\"}}, \"ternary\": {\"aaxis\": {\"gridcolor\": \"white\", \"linecolor\": \"white\", \"ticks\": \"\"}, \"baxis\": {\"gridcolor\": \"white\", \"linecolor\": \"white\", \"ticks\": \"\"}, \"bgcolor\": \"#E5ECF6\", \"caxis\": {\"gridcolor\": \"white\", \"linecolor\": \"white\", \"ticks\": \"\"}}, \"title\": {\"x\": 0.05}, \"xaxis\": {\"automargin\": true, \"gridcolor\": \"white\", \"linecolor\": \"white\", \"ticks\": \"\", \"title\": {\"standoff\": 15}, \"zerolinecolor\": \"white\", \"zerolinewidth\": 2}, \"yaxis\": {\"automargin\": true, \"gridcolor\": \"white\", \"linecolor\": \"white\", \"ticks\": \"\", \"title\": {\"standoff\": 15}, \"zerolinecolor\": \"white\", \"zerolinewidth\": 2}}}, \"xaxis\": {\"anchor\": \"y\", \"domain\": [0.0, 1.0], \"title\": {\"text\": \"ApplicantIncome\"}}, \"yaxis\": {\"anchor\": \"x\", \"domain\": [0.0, 1.0], \"title\": {\"text\": \"count\"}}},\n",
              "                        {\"responsive\": true}\n",
              "                    ).then(function(){\n",
              "                            \n",
              "var gd = document.getElementById('f00ae507-aace-46d9-8a38-f10cebd1228e');\n",
              "var x = new MutationObserver(function (mutations, observer) {{\n",
              "        var display = window.getComputedStyle(gd).display;\n",
              "        if (!display || display === 'none') {{\n",
              "            console.log([gd, 'removed!']);\n",
              "            Plotly.purge(gd);\n",
              "            observer.disconnect();\n",
              "        }}\n",
              "}});\n",
              "\n",
              "// Listen for the removal of the full notebook cells\n",
              "var notebookContainer = gd.closest('#notebook-container');\n",
              "if (notebookContainer) {{\n",
              "    x.observe(notebookContainer, {childList: true});\n",
              "}}\n",
              "\n",
              "// Listen for the clearing of the current output cell\n",
              "var outputEl = gd.closest('.output');\n",
              "if (outputEl) {{\n",
              "    x.observe(outputEl, {childList: true});\n",
              "}}\n",
              "\n",
              "                        })\n",
              "                };\n",
              "                \n",
              "            </script>\n",
              "        </div>\n",
              "</body>\n",
              "</html>"
            ]
          },
          "metadata": {
            "tags": []
          }
        }
      ]
    },
    {
      "cell_type": "code",
      "metadata": {
        "id": "6ITmp_tlCKMD",
        "colab": {
          "base_uri": "https://localhost:8080/",
          "height": 542
        },
        "outputId": "e6741f12-4039-4cb5-8b4f-b80c12e5ba5b"
      },
      "source": [
        "px.histogram(data_frame=df, x=\"ApplicantIncome\", color=\"Education\")"
      ],
      "execution_count": 9,
      "outputs": [
        {
          "output_type": "display_data",
          "data": {
            "text/html": [
              "<html>\n",
              "<head><meta charset=\"utf-8\" /></head>\n",
              "<body>\n",
              "    <div>\n",
              "            <script src=\"https://cdnjs.cloudflare.com/ajax/libs/mathjax/2.7.5/MathJax.js?config=TeX-AMS-MML_SVG\"></script><script type=\"text/javascript\">if (window.MathJax) {MathJax.Hub.Config({SVG: {font: \"STIX-Web\"}});}</script>\n",
              "                <script type=\"text/javascript\">window.PlotlyConfig = {MathJaxConfig: 'local'};</script>\n",
              "        <script src=\"https://cdn.plot.ly/plotly-latest.min.js\"></script>    \n",
              "            <div id=\"d3a35c76-fcfa-4b9a-a531-91baca1edd30\" class=\"plotly-graph-div\" style=\"height:525px; width:100%;\"></div>\n",
              "            <script type=\"text/javascript\">\n",
              "                \n",
              "                    window.PLOTLYENV=window.PLOTLYENV || {};\n",
              "                    \n",
              "                if (document.getElementById(\"d3a35c76-fcfa-4b9a-a531-91baca1edd30\")) {\n",
              "                    Plotly.newPlot(\n",
              "                        'd3a35c76-fcfa-4b9a-a531-91baca1edd30',\n",
              "                        [{\"alignmentgroup\": \"True\", \"bingroup\": \"x\", \"hoverlabel\": {\"namelength\": 0}, \"hovertemplate\": \"Education=Graduate<br>ApplicantIncome=%{x}<br>count=%{y}\", \"legendgroup\": \"Education=Graduate\", \"marker\": {\"color\": \"#636efa\"}, \"name\": \"Education=Graduate\", \"offsetgroup\": \"Education=Graduate\", \"orientation\": \"v\", \"showlegend\": true, \"type\": \"histogram\", \"x\": [5849, 4583, 3000, 6000, 5417, 3036, 4006, 12841, 3200, 2500, 3073, 1853, 1299, 4950, 3510, 2600, 5955, 3717, 9560, 2799, 3750, 4166, 3167, 4692, 3500, 12500, 2275, 1828, 3667, 4166, 3600, 1800, 2400, 3941, 3410, 5649, 5821, 2645, 4000, 3086, 4230, 4616, 11500, 2708, 2132, 3366, 8080, 2500, 3029, 4945, 4166, 5726, 10750, 4300, 3208, 3500, 5266, 3750, 3750, 1000, 3167, 3846, 2395, 1378, 6000, 3988, 2366, 2500, 8566, 5695, 2958, 6250, 4133, 6782, 2484, 1977, 1759, 4843, 13650, 4652, 3816, 3052, 11417, 3800, 5316, 2929, 7451, 5050, 14583, 3167, 2214, 5568, 10408, 5667, 4166, 2137, 2957, 3692, 23803, 3865, 10513, 6080, 20166, 2014, 2718, 3459, 4895, 4000, 4583, 3316, 14999, 5042, 5417, 6950, 2698, 11757, 2330, 14866, 1538, 10000, 4860, 6277, 2577, 9166, 3254, 39999, 6000, 9538, 2980, 4583, 7933, 3089, 4167, 9323, 3707, 4583, 2439, 2237, 8000, 51763, 5708, 3497, 2045, 5516, 3750, 6400, 1916, 4600, 33846, 3625, 39147, 2178, 2383, 674, 9328, 12000, 3858, 4191, 3125, 8333, 3416, 11000, 4923, 3244, 2479, 3418, 10000, 3430, 7787, 3173, 150, 3727, 5000, 4283, 2221, 4009, 2971, 7578, 6250, 3250, 6250, 4758, 6400, 2491, 3716, 8333, 3155, 5500, 5746, 3463, 3812, 3315, 5819, 2965, 6250, 6050, 9703, 2882, 1809, 3427, 16250, 3083, 5250, 14683, 6083, 2060, 3481, 7200, 5166, 4095, 4708, 4333, 3418, 2876, 3237, 11146, 2833, 2620, 3900, 2750, 3993, 3103, 14583, 3927, 2301, 1811, 20667, 3158, 2600, 3704, 4124, 9508, 3075, 4400, 3153, 5417, 2383, 4416, 6875, 4666, 5000, 2014, 5000, 1625, 4000, 3762, 2400, 20233, 2917, 2507, 5746, 2473, 3717, 2058, 3541, 10000, 2400, 4342, 3166, 15000, 8666, 4917, 5818, 4333, 2500, 4384, 2935, 2833, 63337, 9833, 5503, 5250, 2500, 4160, 2378, 2583, 2499, 6333, 2625, 9083, 8750, 2666, 5500, 2423, 3813, 8333, 3875, 5167, 4723, 5000, 4750, 3013, 6822, 2500, 5124, 6325, 19730, 15759, 5185, 9323, 3062, 2764, 4817, 8750, 4310, 3069, 5391, 3333, 5941, 6000, 7167, 4566, 3667, 2333, 5488, 9167, 9504, 2583, 3100, 3276, 3180, 3033, 1500, 2500, 7441, 4547, 8300, 81000, 6256, 2995, 2600, 1600, 1025, 3246, 5829, 1820, 7250, 14880, 2666, 5935, 2920, 8624, 6500, 12876, 2425, 3750, 10047, 1926, 2213, 10416, 3660, 7901, 37719, 7333, 3466, 3539, 3340, 3948, 2483, 7085, 3859, 4301, 3708, 4354, 8334, 2083, 7740, 3015, 4166, 6000, 16692, 4333, 3450, 4691, 2500, 5532, 16525, 6700, 2873, 16667, 2947, 2083, 10833, 8333, 3547, 18333, 4583, 2435, 3597, 3326, 4625, 2895, 6283, 645, 3159, 4865, 3510, 20833, 3583, 2479, 13262, 6065, 3283, 2130, 5815, 3466, 2031, 4683, 2500, 5677, 7948, 4680, 17500, 3775, 1025, 4281, 3588, 11250, 6133, 3617, 6417, 4608, 2138, 3652, 2768, 2526, 5000, 2785, 6633, 3333, 3593, 5468, 2667, 10139, 3887, 4180, 19484, 5923, 8799, 3333, 3400, 2378, 3166, 3417, 5116, 16666, 6406, 3159, 3087, 3229, 1782, 3182, 6540, 1836, 3166, 1880, 2787, 4283, 2297, 4750, 2726, 3000, 6000, 9357, 3859, 16120, 2987, 9963, 5780, 416, 5703, 3676, 12000, 3400, 3232, 2900, 4106, 8072, 7583, 4583], \"xaxis\": \"x\", \"yaxis\": \"y\"}, {\"alignmentgroup\": \"True\", \"bingroup\": \"x\", \"hoverlabel\": {\"namelength\": 0}, \"hovertemplate\": \"Education=Not Graduate<br>ApplicantIncome=%{x}<br>count=%{y}\", \"legendgroup\": \"Education=Not Graduate\", \"marker\": {\"color\": \"#EF553B\"}, \"name\": \"Education=Not Graduate\", \"offsetgroup\": \"Education=Not Graduate\", \"orientation\": \"v\", \"showlegend\": true, \"type\": \"histogram\", \"x\": [2583, 2333, 3596, 4887, 7660, 2600, 3365, 4226, 1442, 3748, 4695, 1928, 3357, 2609, 3200, 7100, 1875, 4755, 3333, 3333, 3273, 3620, 4188, 4288, 7333, 2071, 3572, 4300, 4200, 2281, 1863, 1820, 3522, 4344, 2333, 4885, 6033, 1907, 2600, 3992, 3500, 3917, 4408, 3975, 5703, 3850, 4735, 3189, 2510, 3406, 6608, 1668, 2583, 2661, 6045, 4931, 4100, 4053, 1800, 2875, 2000, 7667, 2927, 3399, 3601, 1830, 2647, 4554, 3173, 3523, 3083, 3000, 6216, 2346, 3010, 1993, 3902, 2889, 2755, 1963, 2167, 2213, 3867, 6096, 2253, 2149, 2720, 4606, 2717, 7142, 4707, 4652, 2769, 2309, 1958, 5191, 2947, 210, 2653, 4350, 3095, 1958, 2699, 5333, 3691, 17263, 2600, 4050, 3814, 3598, 3074, 3400, 2192, 5285, 2679, 6783, 18165, 2550, 2917, 2239, 3017, 3358, 2492, 2454, 3675, 5800, 4467, 6125, 2165, 3833, 6383, 2894, 2400, 3987], \"xaxis\": \"x\", \"yaxis\": \"y\"}],\n",
              "                        {\"barmode\": \"relative\", \"legend\": {\"tracegroupgap\": 0}, \"margin\": {\"t\": 60}, \"template\": {\"data\": {\"bar\": [{\"error_x\": {\"color\": \"#2a3f5f\"}, \"error_y\": {\"color\": \"#2a3f5f\"}, \"marker\": {\"line\": {\"color\": \"#E5ECF6\", \"width\": 0.5}}, \"type\": \"bar\"}], \"barpolar\": [{\"marker\": {\"line\": {\"color\": \"#E5ECF6\", \"width\": 0.5}}, \"type\": \"barpolar\"}], \"carpet\": [{\"aaxis\": {\"endlinecolor\": \"#2a3f5f\", \"gridcolor\": \"white\", \"linecolor\": \"white\", \"minorgridcolor\": \"white\", \"startlinecolor\": \"#2a3f5f\"}, \"baxis\": {\"endlinecolor\": \"#2a3f5f\", \"gridcolor\": \"white\", \"linecolor\": \"white\", \"minorgridcolor\": \"white\", \"startlinecolor\": \"#2a3f5f\"}, \"type\": \"carpet\"}], \"choropleth\": [{\"colorbar\": {\"outlinewidth\": 0, \"ticks\": \"\"}, \"type\": \"choropleth\"}], \"contour\": [{\"colorbar\": {\"outlinewidth\": 0, \"ticks\": \"\"}, \"colorscale\": [[0.0, \"#0d0887\"], [0.1111111111111111, \"#46039f\"], [0.2222222222222222, \"#7201a8\"], [0.3333333333333333, \"#9c179e\"], [0.4444444444444444, \"#bd3786\"], [0.5555555555555556, \"#d8576b\"], [0.6666666666666666, \"#ed7953\"], [0.7777777777777778, \"#fb9f3a\"], [0.8888888888888888, \"#fdca26\"], [1.0, \"#f0f921\"]], \"type\": \"contour\"}], \"contourcarpet\": [{\"colorbar\": {\"outlinewidth\": 0, \"ticks\": \"\"}, \"type\": \"contourcarpet\"}], \"heatmap\": [{\"colorbar\": {\"outlinewidth\": 0, \"ticks\": \"\"}, \"colorscale\": [[0.0, \"#0d0887\"], [0.1111111111111111, \"#46039f\"], [0.2222222222222222, \"#7201a8\"], [0.3333333333333333, \"#9c179e\"], [0.4444444444444444, \"#bd3786\"], [0.5555555555555556, \"#d8576b\"], [0.6666666666666666, \"#ed7953\"], [0.7777777777777778, \"#fb9f3a\"], [0.8888888888888888, \"#fdca26\"], [1.0, \"#f0f921\"]], \"type\": \"heatmap\"}], \"heatmapgl\": [{\"colorbar\": {\"outlinewidth\": 0, \"ticks\": \"\"}, \"colorscale\": [[0.0, \"#0d0887\"], [0.1111111111111111, \"#46039f\"], [0.2222222222222222, \"#7201a8\"], [0.3333333333333333, \"#9c179e\"], [0.4444444444444444, \"#bd3786\"], [0.5555555555555556, \"#d8576b\"], [0.6666666666666666, \"#ed7953\"], [0.7777777777777778, \"#fb9f3a\"], [0.8888888888888888, \"#fdca26\"], [1.0, \"#f0f921\"]], \"type\": \"heatmapgl\"}], \"histogram\": [{\"marker\": {\"colorbar\": {\"outlinewidth\": 0, \"ticks\": \"\"}}, \"type\": \"histogram\"}], \"histogram2d\": [{\"colorbar\": {\"outlinewidth\": 0, \"ticks\": \"\"}, \"colorscale\": [[0.0, \"#0d0887\"], [0.1111111111111111, \"#46039f\"], [0.2222222222222222, \"#7201a8\"], [0.3333333333333333, \"#9c179e\"], [0.4444444444444444, \"#bd3786\"], [0.5555555555555556, \"#d8576b\"], [0.6666666666666666, \"#ed7953\"], [0.7777777777777778, \"#fb9f3a\"], [0.8888888888888888, \"#fdca26\"], [1.0, \"#f0f921\"]], \"type\": \"histogram2d\"}], \"histogram2dcontour\": [{\"colorbar\": {\"outlinewidth\": 0, \"ticks\": \"\"}, \"colorscale\": [[0.0, \"#0d0887\"], [0.1111111111111111, \"#46039f\"], [0.2222222222222222, \"#7201a8\"], [0.3333333333333333, \"#9c179e\"], [0.4444444444444444, \"#bd3786\"], [0.5555555555555556, \"#d8576b\"], [0.6666666666666666, \"#ed7953\"], [0.7777777777777778, \"#fb9f3a\"], [0.8888888888888888, \"#fdca26\"], [1.0, \"#f0f921\"]], \"type\": \"histogram2dcontour\"}], \"mesh3d\": [{\"colorbar\": {\"outlinewidth\": 0, \"ticks\": \"\"}, \"type\": \"mesh3d\"}], \"parcoords\": [{\"line\": {\"colorbar\": {\"outlinewidth\": 0, \"ticks\": \"\"}}, \"type\": \"parcoords\"}], \"pie\": [{\"automargin\": true, \"type\": \"pie\"}], \"scatter\": [{\"marker\": {\"colorbar\": {\"outlinewidth\": 0, \"ticks\": \"\"}}, \"type\": \"scatter\"}], \"scatter3d\": [{\"line\": {\"colorbar\": {\"outlinewidth\": 0, \"ticks\": \"\"}}, \"marker\": {\"colorbar\": {\"outlinewidth\": 0, \"ticks\": \"\"}}, \"type\": \"scatter3d\"}], \"scattercarpet\": [{\"marker\": {\"colorbar\": {\"outlinewidth\": 0, \"ticks\": \"\"}}, \"type\": \"scattercarpet\"}], \"scattergeo\": [{\"marker\": {\"colorbar\": {\"outlinewidth\": 0, \"ticks\": \"\"}}, \"type\": \"scattergeo\"}], \"scattergl\": [{\"marker\": {\"colorbar\": {\"outlinewidth\": 0, \"ticks\": \"\"}}, \"type\": \"scattergl\"}], \"scattermapbox\": [{\"marker\": {\"colorbar\": {\"outlinewidth\": 0, \"ticks\": \"\"}}, \"type\": \"scattermapbox\"}], \"scatterpolar\": [{\"marker\": {\"colorbar\": {\"outlinewidth\": 0, \"ticks\": \"\"}}, \"type\": \"scatterpolar\"}], \"scatterpolargl\": [{\"marker\": {\"colorbar\": {\"outlinewidth\": 0, \"ticks\": \"\"}}, \"type\": \"scatterpolargl\"}], \"scatterternary\": [{\"marker\": {\"colorbar\": {\"outlinewidth\": 0, \"ticks\": \"\"}}, \"type\": \"scatterternary\"}], \"surface\": [{\"colorbar\": {\"outlinewidth\": 0, \"ticks\": \"\"}, \"colorscale\": [[0.0, \"#0d0887\"], [0.1111111111111111, \"#46039f\"], [0.2222222222222222, \"#7201a8\"], [0.3333333333333333, \"#9c179e\"], [0.4444444444444444, \"#bd3786\"], [0.5555555555555556, \"#d8576b\"], [0.6666666666666666, \"#ed7953\"], [0.7777777777777778, \"#fb9f3a\"], [0.8888888888888888, \"#fdca26\"], [1.0, \"#f0f921\"]], \"type\": \"surface\"}], \"table\": [{\"cells\": {\"fill\": {\"color\": \"#EBF0F8\"}, \"line\": {\"color\": \"white\"}}, \"header\": {\"fill\": {\"color\": \"#C8D4E3\"}, \"line\": {\"color\": \"white\"}}, \"type\": \"table\"}]}, \"layout\": {\"annotationdefaults\": {\"arrowcolor\": \"#2a3f5f\", \"arrowhead\": 0, \"arrowwidth\": 1}, \"coloraxis\": {\"colorbar\": {\"outlinewidth\": 0, \"ticks\": \"\"}}, \"colorscale\": {\"diverging\": [[0, \"#8e0152\"], [0.1, \"#c51b7d\"], [0.2, \"#de77ae\"], [0.3, \"#f1b6da\"], [0.4, \"#fde0ef\"], [0.5, \"#f7f7f7\"], [0.6, \"#e6f5d0\"], [0.7, \"#b8e186\"], [0.8, \"#7fbc41\"], [0.9, \"#4d9221\"], [1, \"#276419\"]], \"sequential\": [[0.0, \"#0d0887\"], [0.1111111111111111, \"#46039f\"], [0.2222222222222222, \"#7201a8\"], [0.3333333333333333, \"#9c179e\"], [0.4444444444444444, \"#bd3786\"], [0.5555555555555556, \"#d8576b\"], [0.6666666666666666, \"#ed7953\"], [0.7777777777777778, \"#fb9f3a\"], [0.8888888888888888, \"#fdca26\"], [1.0, \"#f0f921\"]], \"sequentialminus\": [[0.0, \"#0d0887\"], [0.1111111111111111, \"#46039f\"], [0.2222222222222222, \"#7201a8\"], [0.3333333333333333, \"#9c179e\"], [0.4444444444444444, \"#bd3786\"], [0.5555555555555556, \"#d8576b\"], [0.6666666666666666, \"#ed7953\"], [0.7777777777777778, \"#fb9f3a\"], [0.8888888888888888, \"#fdca26\"], [1.0, \"#f0f921\"]]}, \"colorway\": [\"#636efa\", \"#EF553B\", \"#00cc96\", \"#ab63fa\", \"#FFA15A\", \"#19d3f3\", \"#FF6692\", \"#B6E880\", \"#FF97FF\", \"#FECB52\"], \"font\": {\"color\": \"#2a3f5f\"}, \"geo\": {\"bgcolor\": \"white\", \"lakecolor\": \"white\", \"landcolor\": \"#E5ECF6\", \"showlakes\": true, \"showland\": true, \"subunitcolor\": \"white\"}, \"hoverlabel\": {\"align\": \"left\"}, \"hovermode\": \"closest\", \"mapbox\": {\"style\": \"light\"}, \"paper_bgcolor\": \"white\", \"plot_bgcolor\": \"#E5ECF6\", \"polar\": {\"angularaxis\": {\"gridcolor\": \"white\", \"linecolor\": \"white\", \"ticks\": \"\"}, \"bgcolor\": \"#E5ECF6\", \"radialaxis\": {\"gridcolor\": \"white\", \"linecolor\": \"white\", \"ticks\": \"\"}}, \"scene\": {\"xaxis\": {\"backgroundcolor\": \"#E5ECF6\", \"gridcolor\": \"white\", \"gridwidth\": 2, \"linecolor\": \"white\", \"showbackground\": true, \"ticks\": \"\", \"zerolinecolor\": \"white\"}, \"yaxis\": {\"backgroundcolor\": \"#E5ECF6\", \"gridcolor\": \"white\", \"gridwidth\": 2, \"linecolor\": \"white\", \"showbackground\": true, \"ticks\": \"\", \"zerolinecolor\": \"white\"}, \"zaxis\": {\"backgroundcolor\": \"#E5ECF6\", \"gridcolor\": \"white\", \"gridwidth\": 2, \"linecolor\": \"white\", \"showbackground\": true, \"ticks\": \"\", \"zerolinecolor\": \"white\"}}, \"shapedefaults\": {\"line\": {\"color\": \"#2a3f5f\"}}, \"ternary\": {\"aaxis\": {\"gridcolor\": \"white\", \"linecolor\": \"white\", \"ticks\": \"\"}, \"baxis\": {\"gridcolor\": \"white\", \"linecolor\": \"white\", \"ticks\": \"\"}, \"bgcolor\": \"#E5ECF6\", \"caxis\": {\"gridcolor\": \"white\", \"linecolor\": \"white\", \"ticks\": \"\"}}, \"title\": {\"x\": 0.05}, \"xaxis\": {\"automargin\": true, \"gridcolor\": \"white\", \"linecolor\": \"white\", \"ticks\": \"\", \"title\": {\"standoff\": 15}, \"zerolinecolor\": \"white\", \"zerolinewidth\": 2}, \"yaxis\": {\"automargin\": true, \"gridcolor\": \"white\", \"linecolor\": \"white\", \"ticks\": \"\", \"title\": {\"standoff\": 15}, \"zerolinecolor\": \"white\", \"zerolinewidth\": 2}}}, \"xaxis\": {\"anchor\": \"y\", \"domain\": [0.0, 1.0], \"title\": {\"text\": \"ApplicantIncome\"}}, \"yaxis\": {\"anchor\": \"x\", \"domain\": [0.0, 1.0], \"title\": {\"text\": \"count\"}}},\n",
              "                        {\"responsive\": true}\n",
              "                    ).then(function(){\n",
              "                            \n",
              "var gd = document.getElementById('d3a35c76-fcfa-4b9a-a531-91baca1edd30');\n",
              "var x = new MutationObserver(function (mutations, observer) {{\n",
              "        var display = window.getComputedStyle(gd).display;\n",
              "        if (!display || display === 'none') {{\n",
              "            console.log([gd, 'removed!']);\n",
              "            Plotly.purge(gd);\n",
              "            observer.disconnect();\n",
              "        }}\n",
              "}});\n",
              "\n",
              "// Listen for the removal of the full notebook cells\n",
              "var notebookContainer = gd.closest('#notebook-container');\n",
              "if (notebookContainer) {{\n",
              "    x.observe(notebookContainer, {childList: true});\n",
              "}}\n",
              "\n",
              "// Listen for the clearing of the current output cell\n",
              "var outputEl = gd.closest('.output');\n",
              "if (outputEl) {{\n",
              "    x.observe(outputEl, {childList: true});\n",
              "}}\n",
              "\n",
              "                        })\n",
              "                };\n",
              "                \n",
              "            </script>\n",
              "        </div>\n",
              "</body>\n",
              "</html>"
            ]
          },
          "metadata": {
            "tags": []
          }
        }
      ]
    },
    {
      "cell_type": "code",
      "metadata": {
        "id": "I44UVEIYCKMF",
        "colab": {
          "base_uri": "https://localhost:8080/"
        },
        "outputId": "6f1e53fc-6106-45a7-eb31-e7a9e48d0eb9"
      },
      "source": [
        "df.Gender.isna().sum()"
      ],
      "execution_count": 10,
      "outputs": [
        {
          "output_type": "execute_result",
          "data": {
            "text/plain": [
              "13"
            ]
          },
          "metadata": {
            "tags": []
          },
          "execution_count": 10
        }
      ]
    },
    {
      "cell_type": "code",
      "metadata": {
        "id": "EKj1az39IUfB",
        "colab": {
          "base_uri": "https://localhost:8080/",
          "height": 243
        },
        "outputId": "c925c80f-0fa8-4644-9164-4422ae1818c5"
      },
      "source": [
        "df.head()"
      ],
      "execution_count": 11,
      "outputs": [
        {
          "output_type": "execute_result",
          "data": {
            "text/html": [
              "<div>\n",
              "<style scoped>\n",
              "    .dataframe tbody tr th:only-of-type {\n",
              "        vertical-align: middle;\n",
              "    }\n",
              "\n",
              "    .dataframe tbody tr th {\n",
              "        vertical-align: top;\n",
              "    }\n",
              "\n",
              "    .dataframe thead th {\n",
              "        text-align: right;\n",
              "    }\n",
              "</style>\n",
              "<table border=\"1\" class=\"dataframe\">\n",
              "  <thead>\n",
              "    <tr style=\"text-align: right;\">\n",
              "      <th></th>\n",
              "      <th>Loan_ID</th>\n",
              "      <th>Gender</th>\n",
              "      <th>Married</th>\n",
              "      <th>Dependents</th>\n",
              "      <th>Education</th>\n",
              "      <th>Self_Employed</th>\n",
              "      <th>ApplicantIncome</th>\n",
              "      <th>CoapplicantIncome</th>\n",
              "      <th>LoanAmount</th>\n",
              "      <th>Loan_Amount_Term</th>\n",
              "      <th>Credit_History</th>\n",
              "      <th>Property_Area</th>\n",
              "      <th>Loan_Status</th>\n",
              "    </tr>\n",
              "  </thead>\n",
              "  <tbody>\n",
              "    <tr>\n",
              "      <th>0</th>\n",
              "      <td>LP001002</td>\n",
              "      <td>Male</td>\n",
              "      <td>No</td>\n",
              "      <td>0</td>\n",
              "      <td>Graduate</td>\n",
              "      <td>No</td>\n",
              "      <td>5849</td>\n",
              "      <td>0.0</td>\n",
              "      <td>NaN</td>\n",
              "      <td>360.0</td>\n",
              "      <td>1.0</td>\n",
              "      <td>Urban</td>\n",
              "      <td>Y</td>\n",
              "    </tr>\n",
              "    <tr>\n",
              "      <th>1</th>\n",
              "      <td>LP001003</td>\n",
              "      <td>Male</td>\n",
              "      <td>Yes</td>\n",
              "      <td>1</td>\n",
              "      <td>Graduate</td>\n",
              "      <td>No</td>\n",
              "      <td>4583</td>\n",
              "      <td>1508.0</td>\n",
              "      <td>128.0</td>\n",
              "      <td>360.0</td>\n",
              "      <td>1.0</td>\n",
              "      <td>Rural</td>\n",
              "      <td>N</td>\n",
              "    </tr>\n",
              "    <tr>\n",
              "      <th>2</th>\n",
              "      <td>LP001005</td>\n",
              "      <td>Male</td>\n",
              "      <td>Yes</td>\n",
              "      <td>0</td>\n",
              "      <td>Graduate</td>\n",
              "      <td>Yes</td>\n",
              "      <td>3000</td>\n",
              "      <td>0.0</td>\n",
              "      <td>66.0</td>\n",
              "      <td>360.0</td>\n",
              "      <td>1.0</td>\n",
              "      <td>Urban</td>\n",
              "      <td>Y</td>\n",
              "    </tr>\n",
              "    <tr>\n",
              "      <th>3</th>\n",
              "      <td>LP001006</td>\n",
              "      <td>Male</td>\n",
              "      <td>Yes</td>\n",
              "      <td>0</td>\n",
              "      <td>Not Graduate</td>\n",
              "      <td>No</td>\n",
              "      <td>2583</td>\n",
              "      <td>2358.0</td>\n",
              "      <td>120.0</td>\n",
              "      <td>360.0</td>\n",
              "      <td>1.0</td>\n",
              "      <td>Urban</td>\n",
              "      <td>Y</td>\n",
              "    </tr>\n",
              "    <tr>\n",
              "      <th>4</th>\n",
              "      <td>LP001008</td>\n",
              "      <td>Male</td>\n",
              "      <td>No</td>\n",
              "      <td>0</td>\n",
              "      <td>Graduate</td>\n",
              "      <td>No</td>\n",
              "      <td>6000</td>\n",
              "      <td>0.0</td>\n",
              "      <td>141.0</td>\n",
              "      <td>360.0</td>\n",
              "      <td>1.0</td>\n",
              "      <td>Urban</td>\n",
              "      <td>Y</td>\n",
              "    </tr>\n",
              "  </tbody>\n",
              "</table>\n",
              "</div>"
            ],
            "text/plain": [
              "    Loan_ID Gender Married  ... Credit_History Property_Area Loan_Status\n",
              "0  LP001002   Male      No  ...            1.0         Urban           Y\n",
              "1  LP001003   Male     Yes  ...            1.0         Rural           N\n",
              "2  LP001005   Male     Yes  ...            1.0         Urban           Y\n",
              "3  LP001006   Male     Yes  ...            1.0         Urban           Y\n",
              "4  LP001008   Male      No  ...            1.0         Urban           Y\n",
              "\n",
              "[5 rows x 13 columns]"
            ]
          },
          "metadata": {
            "tags": []
          },
          "execution_count": 11
        }
      ]
    },
    {
      "cell_type": "code",
      "metadata": {
        "id": "c17Me0UdCKMM"
      },
      "source": [
        "categorical_features = [\"Gender\", \"Married\", \"Dependents\", \"Education\", \"Self_Employed\", \"Credit_History\", \"Property_Area\"]"
      ],
      "execution_count": 12,
      "outputs": []
    },
    {
      "cell_type": "code",
      "metadata": {
        "id": "Oll5BKKUCKMQ"
      },
      "source": [
        "impute = SimpleImputer(missing_values=np.NaN, strategy=\"most_frequent\")"
      ],
      "execution_count": 13,
      "outputs": []
    },
    {
      "cell_type": "code",
      "metadata": {
        "id": "9iriygSBCKMS"
      },
      "source": [
        "df[categorical_features] = impute.fit_transform(df[categorical_features])"
      ],
      "execution_count": 14,
      "outputs": []
    },
    {
      "cell_type": "code",
      "metadata": {
        "id": "JEIk9rxECKMU",
        "colab": {
          "base_uri": "https://localhost:8080/"
        },
        "outputId": "bdfbfcc0-b7a6-436e-f040-08fb2212b865"
      },
      "source": [
        "df.Gender.isna().sum()"
      ],
      "execution_count": 15,
      "outputs": [
        {
          "output_type": "execute_result",
          "data": {
            "text/plain": [
              "0"
            ]
          },
          "metadata": {
            "tags": []
          },
          "execution_count": 15
        }
      ]
    },
    {
      "cell_type": "code",
      "metadata": {
        "id": "kJn3KeXpJ_KH",
        "colab": {
          "base_uri": "https://localhost:8080/",
          "height": 424
        },
        "outputId": "fce1b563-77a6-4af4-e5bb-2a8e3869c0b8"
      },
      "source": [
        "df[[\"LoanAmount\"]]"
      ],
      "execution_count": 16,
      "outputs": [
        {
          "output_type": "execute_result",
          "data": {
            "text/html": [
              "<div>\n",
              "<style scoped>\n",
              "    .dataframe tbody tr th:only-of-type {\n",
              "        vertical-align: middle;\n",
              "    }\n",
              "\n",
              "    .dataframe tbody tr th {\n",
              "        vertical-align: top;\n",
              "    }\n",
              "\n",
              "    .dataframe thead th {\n",
              "        text-align: right;\n",
              "    }\n",
              "</style>\n",
              "<table border=\"1\" class=\"dataframe\">\n",
              "  <thead>\n",
              "    <tr style=\"text-align: right;\">\n",
              "      <th></th>\n",
              "      <th>LoanAmount</th>\n",
              "    </tr>\n",
              "  </thead>\n",
              "  <tbody>\n",
              "    <tr>\n",
              "      <th>0</th>\n",
              "      <td>NaN</td>\n",
              "    </tr>\n",
              "    <tr>\n",
              "      <th>1</th>\n",
              "      <td>128.0</td>\n",
              "    </tr>\n",
              "    <tr>\n",
              "      <th>2</th>\n",
              "      <td>66.0</td>\n",
              "    </tr>\n",
              "    <tr>\n",
              "      <th>3</th>\n",
              "      <td>120.0</td>\n",
              "    </tr>\n",
              "    <tr>\n",
              "      <th>4</th>\n",
              "      <td>141.0</td>\n",
              "    </tr>\n",
              "    <tr>\n",
              "      <th>...</th>\n",
              "      <td>...</td>\n",
              "    </tr>\n",
              "    <tr>\n",
              "      <th>609</th>\n",
              "      <td>71.0</td>\n",
              "    </tr>\n",
              "    <tr>\n",
              "      <th>610</th>\n",
              "      <td>40.0</td>\n",
              "    </tr>\n",
              "    <tr>\n",
              "      <th>611</th>\n",
              "      <td>253.0</td>\n",
              "    </tr>\n",
              "    <tr>\n",
              "      <th>612</th>\n",
              "      <td>187.0</td>\n",
              "    </tr>\n",
              "    <tr>\n",
              "      <th>613</th>\n",
              "      <td>133.0</td>\n",
              "    </tr>\n",
              "  </tbody>\n",
              "</table>\n",
              "<p>614 rows × 1 columns</p>\n",
              "</div>"
            ],
            "text/plain": [
              "     LoanAmount\n",
              "0           NaN\n",
              "1         128.0\n",
              "2          66.0\n",
              "3         120.0\n",
              "4         141.0\n",
              "..          ...\n",
              "609        71.0\n",
              "610        40.0\n",
              "611       253.0\n",
              "612       187.0\n",
              "613       133.0\n",
              "\n",
              "[614 rows x 1 columns]"
            ]
          },
          "metadata": {
            "tags": []
          },
          "execution_count": 16
        }
      ]
    },
    {
      "cell_type": "code",
      "metadata": {
        "id": "-vRBv5jvCKMW"
      },
      "source": [
        "df[\"LoanAmount\"] = impute.fit_transform(df[[\"LoanAmount\"]])"
      ],
      "execution_count": 17,
      "outputs": []
    },
    {
      "cell_type": "code",
      "metadata": {
        "id": "tcxTbSykKK5q",
        "colab": {
          "base_uri": "https://localhost:8080/"
        },
        "outputId": "3c697101-00b1-4bca-e8a4-4a394c3f8e42"
      },
      "source": [
        "df.Dependents.value_counts()"
      ],
      "execution_count": 18,
      "outputs": [
        {
          "output_type": "execute_result",
          "data": {
            "text/plain": [
              "0     360\n",
              "1     102\n",
              "2     101\n",
              "3+     51\n",
              "Name: Dependents, dtype: int64"
            ]
          },
          "metadata": {
            "tags": []
          },
          "execution_count": 18
        }
      ]
    },
    {
      "cell_type": "code",
      "metadata": {
        "id": "E0kxjRyvKyPU"
      },
      "source": [
        "df = df.drop(\"Loan_ID\", axis=1)"
      ],
      "execution_count": 19,
      "outputs": []
    },
    {
      "cell_type": "code",
      "metadata": {
        "id": "w9wQZgX9LC6U",
        "colab": {
          "base_uri": "https://localhost:8080/",
          "height": 243
        },
        "outputId": "25084bb5-0047-4311-db99-2a0c347bbca4"
      },
      "source": [
        "df.head()"
      ],
      "execution_count": 20,
      "outputs": [
        {
          "output_type": "execute_result",
          "data": {
            "text/html": [
              "<div>\n",
              "<style scoped>\n",
              "    .dataframe tbody tr th:only-of-type {\n",
              "        vertical-align: middle;\n",
              "    }\n",
              "\n",
              "    .dataframe tbody tr th {\n",
              "        vertical-align: top;\n",
              "    }\n",
              "\n",
              "    .dataframe thead th {\n",
              "        text-align: right;\n",
              "    }\n",
              "</style>\n",
              "<table border=\"1\" class=\"dataframe\">\n",
              "  <thead>\n",
              "    <tr style=\"text-align: right;\">\n",
              "      <th></th>\n",
              "      <th>Gender</th>\n",
              "      <th>Married</th>\n",
              "      <th>Dependents</th>\n",
              "      <th>Education</th>\n",
              "      <th>Self_Employed</th>\n",
              "      <th>ApplicantIncome</th>\n",
              "      <th>CoapplicantIncome</th>\n",
              "      <th>LoanAmount</th>\n",
              "      <th>Loan_Amount_Term</th>\n",
              "      <th>Credit_History</th>\n",
              "      <th>Property_Area</th>\n",
              "      <th>Loan_Status</th>\n",
              "    </tr>\n",
              "  </thead>\n",
              "  <tbody>\n",
              "    <tr>\n",
              "      <th>0</th>\n",
              "      <td>Male</td>\n",
              "      <td>No</td>\n",
              "      <td>0</td>\n",
              "      <td>Graduate</td>\n",
              "      <td>No</td>\n",
              "      <td>5849</td>\n",
              "      <td>0.0</td>\n",
              "      <td>120.0</td>\n",
              "      <td>360.0</td>\n",
              "      <td>1.0</td>\n",
              "      <td>Urban</td>\n",
              "      <td>Y</td>\n",
              "    </tr>\n",
              "    <tr>\n",
              "      <th>1</th>\n",
              "      <td>Male</td>\n",
              "      <td>Yes</td>\n",
              "      <td>1</td>\n",
              "      <td>Graduate</td>\n",
              "      <td>No</td>\n",
              "      <td>4583</td>\n",
              "      <td>1508.0</td>\n",
              "      <td>128.0</td>\n",
              "      <td>360.0</td>\n",
              "      <td>1.0</td>\n",
              "      <td>Rural</td>\n",
              "      <td>N</td>\n",
              "    </tr>\n",
              "    <tr>\n",
              "      <th>2</th>\n",
              "      <td>Male</td>\n",
              "      <td>Yes</td>\n",
              "      <td>0</td>\n",
              "      <td>Graduate</td>\n",
              "      <td>Yes</td>\n",
              "      <td>3000</td>\n",
              "      <td>0.0</td>\n",
              "      <td>66.0</td>\n",
              "      <td>360.0</td>\n",
              "      <td>1.0</td>\n",
              "      <td>Urban</td>\n",
              "      <td>Y</td>\n",
              "    </tr>\n",
              "    <tr>\n",
              "      <th>3</th>\n",
              "      <td>Male</td>\n",
              "      <td>Yes</td>\n",
              "      <td>0</td>\n",
              "      <td>Not Graduate</td>\n",
              "      <td>No</td>\n",
              "      <td>2583</td>\n",
              "      <td>2358.0</td>\n",
              "      <td>120.0</td>\n",
              "      <td>360.0</td>\n",
              "      <td>1.0</td>\n",
              "      <td>Urban</td>\n",
              "      <td>Y</td>\n",
              "    </tr>\n",
              "    <tr>\n",
              "      <th>4</th>\n",
              "      <td>Male</td>\n",
              "      <td>No</td>\n",
              "      <td>0</td>\n",
              "      <td>Graduate</td>\n",
              "      <td>No</td>\n",
              "      <td>6000</td>\n",
              "      <td>0.0</td>\n",
              "      <td>141.0</td>\n",
              "      <td>360.0</td>\n",
              "      <td>1.0</td>\n",
              "      <td>Urban</td>\n",
              "      <td>Y</td>\n",
              "    </tr>\n",
              "  </tbody>\n",
              "</table>\n",
              "</div>"
            ],
            "text/plain": [
              "  Gender Married Dependents  ... Credit_History Property_Area  Loan_Status\n",
              "0   Male      No          0  ...            1.0         Urban            Y\n",
              "1   Male     Yes          1  ...            1.0         Rural            N\n",
              "2   Male     Yes          0  ...            1.0         Urban            Y\n",
              "3   Male     Yes          0  ...            1.0         Urban            Y\n",
              "4   Male      No          0  ...            1.0         Urban            Y\n",
              "\n",
              "[5 rows x 12 columns]"
            ]
          },
          "metadata": {
            "tags": []
          },
          "execution_count": 20
        }
      ]
    },
    {
      "cell_type": "code",
      "metadata": {
        "id": "xnPpNchILGuL"
      },
      "source": [
        "df[\"Gender\"] = df[\"Gender\"].astype(\"category\")"
      ],
      "execution_count": 21,
      "outputs": []
    },
    {
      "cell_type": "code",
      "metadata": {
        "id": "b9w_jFZLLbYp"
      },
      "source": [
        "for col in categorical_features:\n",
        "  df[col] = df[col].astype(\"category\")"
      ],
      "execution_count": 22,
      "outputs": []
    },
    {
      "cell_type": "markdown",
      "metadata": {
        "id": "iMQBkCxU78ts"
      },
      "source": [
        "# Split Input and Output"
      ]
    },
    {
      "cell_type": "code",
      "metadata": {
        "id": "8S6A9BAJ8BOS"
      },
      "source": [
        "df = pd.get_dummies(df, drop_first=True)"
      ],
      "execution_count": 23,
      "outputs": []
    },
    {
      "cell_type": "code",
      "metadata": {
        "id": "mCCpWKDKM75r",
        "outputId": "085cbba8-b4f6-4cfa-b91f-492bdf862e42",
        "colab": {
          "base_uri": "https://localhost:8080/",
          "height": 243
        }
      },
      "source": [
        "df.head()"
      ],
      "execution_count": 24,
      "outputs": [
        {
          "output_type": "execute_result",
          "data": {
            "text/html": [
              "<div>\n",
              "<style scoped>\n",
              "    .dataframe tbody tr th:only-of-type {\n",
              "        vertical-align: middle;\n",
              "    }\n",
              "\n",
              "    .dataframe tbody tr th {\n",
              "        vertical-align: top;\n",
              "    }\n",
              "\n",
              "    .dataframe thead th {\n",
              "        text-align: right;\n",
              "    }\n",
              "</style>\n",
              "<table border=\"1\" class=\"dataframe\">\n",
              "  <thead>\n",
              "    <tr style=\"text-align: right;\">\n",
              "      <th></th>\n",
              "      <th>ApplicantIncome</th>\n",
              "      <th>CoapplicantIncome</th>\n",
              "      <th>LoanAmount</th>\n",
              "      <th>Loan_Amount_Term</th>\n",
              "      <th>Gender_Male</th>\n",
              "      <th>Married_Yes</th>\n",
              "      <th>Dependents_1</th>\n",
              "      <th>Dependents_2</th>\n",
              "      <th>Dependents_3+</th>\n",
              "      <th>Education_Not Graduate</th>\n",
              "      <th>Self_Employed_Yes</th>\n",
              "      <th>Credit_History_1.0</th>\n",
              "      <th>Property_Area_Semiurban</th>\n",
              "      <th>Property_Area_Urban</th>\n",
              "      <th>Loan_Status_Y</th>\n",
              "    </tr>\n",
              "  </thead>\n",
              "  <tbody>\n",
              "    <tr>\n",
              "      <th>0</th>\n",
              "      <td>5849</td>\n",
              "      <td>0.0</td>\n",
              "      <td>120.0</td>\n",
              "      <td>360.0</td>\n",
              "      <td>1</td>\n",
              "      <td>0</td>\n",
              "      <td>0</td>\n",
              "      <td>0</td>\n",
              "      <td>0</td>\n",
              "      <td>0</td>\n",
              "      <td>0</td>\n",
              "      <td>1</td>\n",
              "      <td>0</td>\n",
              "      <td>1</td>\n",
              "      <td>1</td>\n",
              "    </tr>\n",
              "    <tr>\n",
              "      <th>1</th>\n",
              "      <td>4583</td>\n",
              "      <td>1508.0</td>\n",
              "      <td>128.0</td>\n",
              "      <td>360.0</td>\n",
              "      <td>1</td>\n",
              "      <td>1</td>\n",
              "      <td>1</td>\n",
              "      <td>0</td>\n",
              "      <td>0</td>\n",
              "      <td>0</td>\n",
              "      <td>0</td>\n",
              "      <td>1</td>\n",
              "      <td>0</td>\n",
              "      <td>0</td>\n",
              "      <td>0</td>\n",
              "    </tr>\n",
              "    <tr>\n",
              "      <th>2</th>\n",
              "      <td>3000</td>\n",
              "      <td>0.0</td>\n",
              "      <td>66.0</td>\n",
              "      <td>360.0</td>\n",
              "      <td>1</td>\n",
              "      <td>1</td>\n",
              "      <td>0</td>\n",
              "      <td>0</td>\n",
              "      <td>0</td>\n",
              "      <td>0</td>\n",
              "      <td>1</td>\n",
              "      <td>1</td>\n",
              "      <td>0</td>\n",
              "      <td>1</td>\n",
              "      <td>1</td>\n",
              "    </tr>\n",
              "    <tr>\n",
              "      <th>3</th>\n",
              "      <td>2583</td>\n",
              "      <td>2358.0</td>\n",
              "      <td>120.0</td>\n",
              "      <td>360.0</td>\n",
              "      <td>1</td>\n",
              "      <td>1</td>\n",
              "      <td>0</td>\n",
              "      <td>0</td>\n",
              "      <td>0</td>\n",
              "      <td>1</td>\n",
              "      <td>0</td>\n",
              "      <td>1</td>\n",
              "      <td>0</td>\n",
              "      <td>1</td>\n",
              "      <td>1</td>\n",
              "    </tr>\n",
              "    <tr>\n",
              "      <th>4</th>\n",
              "      <td>6000</td>\n",
              "      <td>0.0</td>\n",
              "      <td>141.0</td>\n",
              "      <td>360.0</td>\n",
              "      <td>1</td>\n",
              "      <td>0</td>\n",
              "      <td>0</td>\n",
              "      <td>0</td>\n",
              "      <td>0</td>\n",
              "      <td>0</td>\n",
              "      <td>0</td>\n",
              "      <td>1</td>\n",
              "      <td>0</td>\n",
              "      <td>1</td>\n",
              "      <td>1</td>\n",
              "    </tr>\n",
              "  </tbody>\n",
              "</table>\n",
              "</div>"
            ],
            "text/plain": [
              "   ApplicantIncome  CoapplicantIncome  ...  Property_Area_Urban  Loan_Status_Y\n",
              "0             5849                0.0  ...                    1              1\n",
              "1             4583             1508.0  ...                    0              0\n",
              "2             3000                0.0  ...                    1              1\n",
              "3             2583             2358.0  ...                    1              1\n",
              "4             6000                0.0  ...                    1              1\n",
              "\n",
              "[5 rows x 15 columns]"
            ]
          },
          "metadata": {
            "tags": []
          },
          "execution_count": 24
        }
      ]
    },
    {
      "cell_type": "code",
      "metadata": {
        "id": "IRrI3g-cWyJP"
      },
      "source": [
        "df[\"Loan_Amount_Term\"] = impute.fit_transform(df[[\"Loan_Amount_Term\"]])"
      ],
      "execution_count": 25,
      "outputs": []
    },
    {
      "cell_type": "code",
      "metadata": {
        "id": "B4TU2XdxM7jP"
      },
      "source": [
        "X = df[df.columns[:-1]]"
      ],
      "execution_count": 26,
      "outputs": []
    },
    {
      "cell_type": "code",
      "metadata": {
        "id": "dSVn0ASsV2u1"
      },
      "source": [
        "y = df[[df.columns[-1]]]"
      ],
      "execution_count": 27,
      "outputs": []
    },
    {
      "cell_type": "code",
      "metadata": {
        "id": "i_cDLMUUWxBc"
      },
      "source": [
        ""
      ],
      "execution_count": 27,
      "outputs": []
    },
    {
      "cell_type": "markdown",
      "metadata": {
        "id": "iegOkD3KvY_f"
      },
      "source": [
        "# Decision Tree"
      ]
    },
    {
      "cell_type": "code",
      "metadata": {
        "id": "JNX4RzpBCKMb"
      },
      "source": [
        "model = DecisionTreeClassifier()"
      ],
      "execution_count": 28,
      "outputs": []
    },
    {
      "cell_type": "code",
      "metadata": {
        "id": "izAKUbPuCKMc",
        "outputId": "47d2a263-b797-4f91-d75a-9e6888a92a37",
        "colab": {
          "base_uri": "https://localhost:8080/"
        }
      },
      "source": [
        "model.fit(X,y)"
      ],
      "execution_count": 29,
      "outputs": [
        {
          "output_type": "execute_result",
          "data": {
            "text/plain": [
              "DecisionTreeClassifier(ccp_alpha=0.0, class_weight=None, criterion='gini',\n",
              "                       max_depth=None, max_features=None, max_leaf_nodes=None,\n",
              "                       min_impurity_decrease=0.0, min_impurity_split=None,\n",
              "                       min_samples_leaf=1, min_samples_split=2,\n",
              "                       min_weight_fraction_leaf=0.0, presort='deprecated',\n",
              "                       random_state=None, splitter='best')"
            ]
          },
          "metadata": {
            "tags": []
          },
          "execution_count": 29
        }
      ]
    },
    {
      "cell_type": "code",
      "metadata": {
        "id": "-kgeMjXHCKMc",
        "outputId": "3c995a85-9dbe-41da-b5e1-09e2e6097601",
        "colab": {
          "base_uri": "https://localhost:8080/",
          "height": 1000
        }
      },
      "source": [
        "tree.plot_tree(model)"
      ],
      "execution_count": 30,
      "outputs": [
        {
          "output_type": "execute_result",
          "data": {
            "text/plain": [
              "[Text(145.6041329479769, 211.7178947368421, 'X[11] <= 0.5\\ngini = 0.43\\nsamples = 614\\nvalue = [192, 422]'),\n",
              " Text(28.64184971098266, 200.2736842105263, 'X[2] <= 547.5\\ngini = 0.145\\nsamples = 89\\nvalue = [82, 7]'),\n",
              " Text(25.545433526011564, 188.82947368421054, 'X[1] <= 8115.0\\ngini = 0.127\\nsamples = 88\\nvalue = [82, 6]'),\n",
              " Text(17.03028901734104, 177.38526315789474, 'X[0] <= 4316.5\\ngini = 0.11\\nsamples = 86\\nvalue = [81, 5]'),\n",
              " Text(9.289248554913296, 165.94105263157894, 'X[3] <= 240.0\\ngini = 0.036\\nsamples = 54\\nvalue = [53, 1]'),\n",
              " Text(6.192832369942197, 154.49684210526317, 'X[0] <= 2546.0\\ngini = 0.219\\nsamples = 8\\nvalue = [7, 1]'),\n",
              " Text(3.0964161849710985, 143.05263157894737, 'gini = 0.0\\nsamples = 1\\nvalue = [0, 1]'),\n",
              " Text(9.289248554913296, 143.05263157894737, 'gini = 0.0\\nsamples = 7\\nvalue = [7, 0]'),\n",
              " Text(12.385664739884394, 154.49684210526317, 'gini = 0.0\\nsamples = 46\\nvalue = [46, 0]'),\n",
              " Text(24.771329479768788, 165.94105263157894, 'X[0] <= 4934.0\\ngini = 0.219\\nsamples = 32\\nvalue = [28, 4]'),\n",
              " Text(18.578497109826593, 154.49684210526317, 'X[2] <= 128.5\\ngini = 0.5\\nsamples = 6\\nvalue = [3, 3]'),\n",
              " Text(15.482080924855492, 143.05263157894737, 'gini = 0.0\\nsamples = 2\\nvalue = [2, 0]'),\n",
              " Text(21.67491329479769, 143.05263157894737, 'X[10] <= 0.5\\ngini = 0.375\\nsamples = 4\\nvalue = [1, 3]'),\n",
              " Text(18.578497109826593, 131.60842105263157, 'gini = 0.0\\nsamples = 3\\nvalue = [0, 3]'),\n",
              " Text(24.771329479768788, 131.60842105263157, 'gini = 0.0\\nsamples = 1\\nvalue = [1, 0]'),\n",
              " Text(30.964161849710983, 154.49684210526317, 'X[9] <= 0.5\\ngini = 0.074\\nsamples = 26\\nvalue = [25, 1]'),\n",
              " Text(27.867745664739886, 143.05263157894737, 'gini = 0.0\\nsamples = 22\\nvalue = [22, 0]'),\n",
              " Text(34.06057803468208, 143.05263157894737, 'X[0] <= 5665.0\\ngini = 0.375\\nsamples = 4\\nvalue = [3, 1]'),\n",
              " Text(30.964161849710983, 131.60842105263157, 'gini = 0.0\\nsamples = 1\\nvalue = [0, 1]'),\n",
              " Text(37.156994219653185, 131.60842105263157, 'gini = 0.0\\nsamples = 3\\nvalue = [3, 0]'),\n",
              " Text(34.06057803468208, 177.38526315789474, 'X[5] <= 0.5\\ngini = 0.5\\nsamples = 2\\nvalue = [1, 1]'),\n",
              " Text(30.964161849710983, 165.94105263157894, 'gini = 0.0\\nsamples = 1\\nvalue = [0, 1]'),\n",
              " Text(37.156994219653185, 165.94105263157894, 'gini = 0.0\\nsamples = 1\\nvalue = [1, 0]'),\n",
              " Text(31.73826589595376, 188.82947368421054, 'gini = 0.0\\nsamples = 1\\nvalue = [0, 1]'),\n",
              " Text(262.5664161849711, 200.2736842105263, 'X[1] <= 9650.5\\ngini = 0.331\\nsamples = 525\\nvalue = [110, 415]'),\n",
              " Text(214.71710982658962, 188.82947368421054, 'X[12] <= 0.5\\ngini = 0.325\\nsamples = 520\\nvalue = [106, 414]'),\n",
              " Text(128.30774566473988, 177.38526315789474, 'X[1] <= 8.06\\ngini = 0.373\\nsamples = 319\\nvalue = [79, 240]'),\n",
              " Text(66.37942196531792, 165.94105263157894, 'X[0] <= 2389.0\\ngini = 0.422\\nsamples = 142\\nvalue = [43, 99]'),\n",
              " Text(49.542658959537576, 154.49684210526317, 'X[4] <= 0.5\\ngini = 0.245\\nsamples = 7\\nvalue = [6, 1]'),\n",
              " Text(46.44624277456648, 143.05263157894737, 'X[2] <= 56.0\\ngini = 0.444\\nsamples = 3\\nvalue = [2, 1]'),\n",
              " Text(43.34982658959538, 131.60842105263157, 'gini = 0.0\\nsamples = 2\\nvalue = [2, 0]'),\n",
              " Text(49.542658959537576, 131.60842105263157, 'gini = 0.0\\nsamples = 1\\nvalue = [0, 1]'),\n",
              " Text(52.63907514450867, 143.05263157894737, 'gini = 0.0\\nsamples = 4\\nvalue = [4, 0]'),\n",
              " Text(83.21618497109827, 154.49684210526317, 'X[2] <= 62.5\\ngini = 0.398\\nsamples = 135\\nvalue = [37, 98]'),\n",
              " Text(80.11976878612717, 143.05263157894737, 'gini = 0.0\\nsamples = 12\\nvalue = [0, 12]'),\n",
              " Text(86.31260115606938, 143.05263157894737, 'X[0] <= 5283.0\\ngini = 0.421\\nsamples = 123\\nvalue = [37, 86]'),\n",
              " Text(55.73549132947977, 131.60842105263157, 'X[0] <= 4516.5\\ngini = 0.488\\nsamples = 57\\nvalue = [24, 33]'),\n",
              " Text(48.381502890173415, 120.16421052631578, 'X[0] <= 4046.0\\ngini = 0.454\\nsamples = 43\\nvalue = [15, 28]'),\n",
              " Text(45.28508670520232, 108.72, 'X[2] <= 128.5\\ngini = 0.486\\nsamples = 36\\nvalue = [15, 21]'),\n",
              " Text(36.769942196531794, 97.27578947368421, 'X[4] <= 0.5\\ngini = 0.458\\nsamples = 31\\nvalue = [11, 20]'),\n",
              " Text(29.02890173410405, 85.83157894736843, 'X[9] <= 0.5\\ngini = 0.18\\nsamples = 10\\nvalue = [1, 9]'),\n",
              " Text(25.93248554913295, 74.38736842105263, 'gini = 0.0\\nsamples = 9\\nvalue = [0, 9]'),\n",
              " Text(32.125317919075144, 74.38736842105263, 'gini = 0.0\\nsamples = 1\\nvalue = [1, 0]'),\n",
              " Text(44.51098265895954, 85.83157894736843, 'X[2] <= 97.5\\ngini = 0.499\\nsamples = 21\\nvalue = [10, 11]'),\n",
              " Text(38.318150289017346, 74.38736842105263, 'X[0] <= 3427.5\\ngini = 0.444\\nsamples = 12\\nvalue = [8, 4]'),\n",
              " Text(35.22173410404625, 62.943157894736856, 'X[5] <= 0.5\\ngini = 0.5\\nsamples = 8\\nvalue = [4, 4]'),\n",
              " Text(32.125317919075144, 51.49894736842106, 'X[0] <= 3250.0\\ngini = 0.444\\nsamples = 6\\nvalue = [4, 2]'),\n",
              " Text(29.02890173410405, 40.05473684210526, 'X[2] <= 72.5\\ngini = 0.32\\nsamples = 5\\nvalue = [4, 1]'),\n",
              " Text(25.93248554913295, 28.610526315789485, 'X[3] <= 330.0\\ngini = 0.444\\nsamples = 3\\nvalue = [2, 1]'),\n",
              " Text(22.83606936416185, 17.166315789473686, 'gini = 0.0\\nsamples = 1\\nvalue = [1, 0]'),\n",
              " Text(29.02890173410405, 17.166315789473686, 'X[3] <= 420.0\\ngini = 0.5\\nsamples = 2\\nvalue = [1, 1]'),\n",
              " Text(25.93248554913295, 5.722105263157886, 'gini = 0.0\\nsamples = 1\\nvalue = [0, 1]'),\n",
              " Text(32.125317919075144, 5.722105263157886, 'gini = 0.0\\nsamples = 1\\nvalue = [1, 0]'),\n",
              " Text(32.125317919075144, 28.610526315789485, 'gini = 0.0\\nsamples = 2\\nvalue = [2, 0]'),\n",
              " Text(35.22173410404625, 40.05473684210526, 'gini = 0.0\\nsamples = 1\\nvalue = [0, 1]'),\n",
              " Text(38.318150289017346, 51.49894736842106, 'gini = 0.0\\nsamples = 2\\nvalue = [0, 2]'),\n",
              " Text(41.414566473988444, 62.943157894736856, 'gini = 0.0\\nsamples = 4\\nvalue = [4, 0]'),\n",
              " Text(50.70381502890174, 74.38736842105263, 'X[0] <= 3912.5\\ngini = 0.346\\nsamples = 9\\nvalue = [2, 7]'),\n",
              " Text(47.60739884393064, 62.943157894736856, 'X[3] <= 420.0\\ngini = 0.219\\nsamples = 8\\nvalue = [1, 7]'),\n",
              " Text(44.51098265895954, 51.49894736842106, 'gini = 0.0\\nsamples = 7\\nvalue = [0, 7]'),\n",
              " Text(50.70381502890174, 51.49894736842106, 'gini = 0.0\\nsamples = 1\\nvalue = [1, 0]'),\n",
              " Text(53.800231213872834, 62.943157894736856, 'gini = 0.0\\nsamples = 1\\nvalue = [1, 0]'),\n",
              " Text(53.800231213872834, 97.27578947368421, 'X[2] <= 212.5\\ngini = 0.32\\nsamples = 5\\nvalue = [4, 1]'),\n",
              " Text(50.70381502890174, 85.83157894736843, 'gini = 0.0\\nsamples = 4\\nvalue = [4, 0]'),\n",
              " Text(56.89664739884393, 85.83157894736843, 'gini = 0.0\\nsamples = 1\\nvalue = [0, 1]'),\n",
              " Text(51.47791907514451, 108.72, 'gini = 0.0\\nsamples = 7\\nvalue = [0, 7]'),\n",
              " Text(63.089479768786134, 120.16421052631578, 'X[0] <= 4634.0\\ngini = 0.459\\nsamples = 14\\nvalue = [9, 5]'),\n",
              " Text(59.99306358381504, 108.72, 'gini = 0.0\\nsamples = 5\\nvalue = [5, 0]'),\n",
              " Text(66.18589595375722, 108.72, 'X[0] <= 4679.0\\ngini = 0.494\\nsamples = 9\\nvalue = [4, 5]'),\n",
              " Text(63.089479768786134, 97.27578947368421, 'gini = 0.0\\nsamples = 2\\nvalue = [0, 2]'),\n",
              " Text(69.28231213872833, 97.27578947368421, 'X[2] <= 132.5\\ngini = 0.49\\nsamples = 7\\nvalue = [4, 3]'),\n",
              " Text(66.18589595375722, 85.83157894736843, 'X[2] <= 115.5\\ngini = 0.48\\nsamples = 5\\nvalue = [2, 3]'),\n",
              " Text(63.089479768786134, 74.38736842105263, 'X[9] <= 0.5\\ngini = 0.444\\nsamples = 3\\nvalue = [2, 1]'),\n",
              " Text(59.99306358381504, 62.943157894736856, 'gini = 0.0\\nsamples = 2\\nvalue = [2, 0]'),\n",
              " Text(66.18589595375722, 62.943157894736856, 'gini = 0.0\\nsamples = 1\\nvalue = [0, 1]'),\n",
              " Text(69.28231213872833, 74.38736842105263, 'gini = 0.0\\nsamples = 2\\nvalue = [0, 2]'),\n",
              " Text(72.37872832369943, 85.83157894736843, 'gini = 0.0\\nsamples = 2\\nvalue = [2, 0]'),\n",
              " Text(116.88971098265897, 131.60842105263157, 'X[3] <= 330.0\\ngini = 0.316\\nsamples = 66\\nvalue = [13, 53]'),\n",
              " Text(113.79329479768786, 120.16421052631578, 'gini = 0.0\\nsamples = 11\\nvalue = [0, 11]'),\n",
              " Text(119.98612716763007, 120.16421052631578, 'X[0] <= 18249.0\\ngini = 0.361\\nsamples = 55\\nvalue = [13, 42]'),\n",
              " Text(105.66520231213873, 108.72, 'X[9] <= 0.5\\ngini = 0.32\\nsamples = 50\\nvalue = [10, 40]'),\n",
              " Text(92.50543352601157, 97.27578947368421, 'X[2] <= 193.0\\ngini = 0.273\\nsamples = 43\\nvalue = [7, 36]'),\n",
              " Text(81.66797687861272, 85.83157894736843, 'X[10] <= 0.5\\ngini = 0.185\\nsamples = 29\\nvalue = [3, 26]'),\n",
              " Text(75.47514450867052, 74.38736842105263, 'X[2] <= 122.5\\ngini = 0.08\\nsamples = 24\\nvalue = [1, 23]'),\n",
              " Text(72.37872832369943, 62.943157894736856, 'X[0] <= 6991.0\\ngini = 0.278\\nsamples = 6\\nvalue = [1, 5]'),\n",
              " Text(69.28231213872833, 51.49894736842106, 'X[0] <= 6315.5\\ngini = 0.5\\nsamples = 2\\nvalue = [1, 1]'),\n",
              " Text(66.18589595375722, 40.05473684210526, 'gini = 0.0\\nsamples = 1\\nvalue = [0, 1]'),\n",
              " Text(72.37872832369943, 40.05473684210526, 'gini = 0.0\\nsamples = 1\\nvalue = [1, 0]'),\n",
              " Text(75.47514450867052, 51.49894736842106, 'gini = 0.0\\nsamples = 4\\nvalue = [0, 4]'),\n",
              " Text(78.57156069364163, 62.943157894736856, 'gini = 0.0\\nsamples = 18\\nvalue = [0, 18]'),\n",
              " Text(87.86080924855492, 74.38736842105263, 'X[0] <= 9981.5\\ngini = 0.48\\nsamples = 5\\nvalue = [2, 3]'),\n",
              " Text(84.76439306358382, 62.943157894736856, 'gini = 0.0\\nsamples = 3\\nvalue = [0, 3]'),\n",
              " Text(90.95722543352602, 62.943157894736856, 'gini = 0.0\\nsamples = 2\\nvalue = [2, 0]'),\n",
              " Text(103.34289017341041, 85.83157894736843, 'X[0] <= 9335.0\\ngini = 0.408\\nsamples = 14\\nvalue = [4, 10]'),\n",
              " Text(100.24647398843932, 74.38736842105263, 'X[2] <= 242.0\\ngini = 0.49\\nsamples = 7\\nvalue = [4, 3]'),\n",
              " Text(97.15005780346821, 62.943157894736856, 'X[4] <= 0.5\\ngini = 0.375\\nsamples = 4\\nvalue = [1, 3]'),\n",
              " Text(94.05364161849711, 51.49894736842106, 'gini = 0.0\\nsamples = 1\\nvalue = [1, 0]'),\n",
              " Text(100.24647398843932, 51.49894736842106, 'gini = 0.0\\nsamples = 3\\nvalue = [0, 3]'),\n",
              " Text(103.34289017341041, 62.943157894736856, 'gini = 0.0\\nsamples = 3\\nvalue = [3, 0]'),\n",
              " Text(106.43930635838151, 74.38736842105263, 'gini = 0.0\\nsamples = 7\\nvalue = [0, 7]'),\n",
              " Text(118.8249710982659, 97.27578947368421, 'X[10] <= 0.5\\ngini = 0.49\\nsamples = 7\\nvalue = [3, 4]'),\n",
              " Text(115.7285549132948, 85.83157894736843, 'X[0] <= 7500.0\\ngini = 0.375\\nsamples = 4\\nvalue = [3, 1]'),\n",
              " Text(112.63213872832371, 74.38736842105263, 'gini = 0.0\\nsamples = 3\\nvalue = [3, 0]'),\n",
              " Text(118.8249710982659, 74.38736842105263, 'gini = 0.0\\nsamples = 1\\nvalue = [0, 1]'),\n",
              " Text(121.92138728323701, 85.83157894736843, 'gini = 0.0\\nsamples = 3\\nvalue = [0, 3]'),\n",
              " Text(134.3070520231214, 108.72, 'X[0] <= 22235.0\\ngini = 0.48\\nsamples = 5\\nvalue = [3, 2]'),\n",
              " Text(131.2106358381503, 97.27578947368421, 'X[10] <= 0.5\\ngini = 0.375\\nsamples = 4\\nvalue = [3, 1]'),\n",
              " Text(128.1142196531792, 85.83157894736843, 'gini = 0.0\\nsamples = 3\\nvalue = [3, 0]'),\n",
              " Text(134.3070520231214, 85.83157894736843, 'gini = 0.0\\nsamples = 1\\nvalue = [0, 1]'),\n",
              " Text(137.4034682080925, 97.27578947368421, 'gini = 0.0\\nsamples = 1\\nvalue = [0, 1]'),\n",
              " Text(190.23606936416186, 165.94105263157894, 'X[0] <= 3524.5\\ngini = 0.324\\nsamples = 177\\nvalue = [36, 141]'),\n",
              " Text(168.75468208092488, 154.49684210526317, 'X[0] <= 397.5\\ngini = 0.221\\nsamples = 103\\nvalue = [13, 90]'),\n",
              " Text(165.65826589595378, 143.05263157894737, 'gini = 0.0\\nsamples = 1\\nvalue = [1, 0]'),\n",
              " Text(171.85109826589596, 143.05263157894737, 'X[0] <= 2956.0\\ngini = 0.208\\nsamples = 102\\nvalue = [12, 90]'),\n",
              " Text(162.94890173410406, 131.60842105263157, 'X[0] <= 2905.5\\ngini = 0.274\\nsamples = 67\\nvalue = [11, 56]'),\n",
              " Text(154.43375722543354, 120.16421052631578, 'X[1] <= 2816.0\\ngini = 0.242\\nsamples = 64\\nvalue = [9, 55]'),\n",
              " Text(146.6927167630058, 108.72, 'X[2] <= 157.0\\ngini = 0.153\\nsamples = 48\\nvalue = [4, 44]'),\n",
              " Text(143.5963005780347, 97.27578947368421, 'X[3] <= 240.0\\ngini = 0.043\\nsamples = 45\\nvalue = [1, 44]'),\n",
              " Text(140.49988439306358, 85.83157894736843, 'X[2] <= 109.0\\ngini = 0.444\\nsamples = 3\\nvalue = [1, 2]'),\n",
              " Text(137.4034682080925, 74.38736842105263, 'gini = 0.0\\nsamples = 2\\nvalue = [0, 2]'),\n",
              " Text(143.5963005780347, 74.38736842105263, 'gini = 0.0\\nsamples = 1\\nvalue = [1, 0]'),\n",
              " Text(146.6927167630058, 85.83157894736843, 'gini = 0.0\\nsamples = 42\\nvalue = [0, 42]'),\n",
              " Text(149.7891329479769, 97.27578947368421, 'gini = 0.0\\nsamples = 3\\nvalue = [3, 0]'),\n",
              " Text(162.1747976878613, 108.72, 'X[2] <= 114.5\\ngini = 0.43\\nsamples = 16\\nvalue = [5, 11]'),\n",
              " Text(155.98196531791908, 97.27578947368421, 'X[3] <= 420.0\\ngini = 0.32\\nsamples = 5\\nvalue = [4, 1]'),\n",
              " Text(152.885549132948, 85.83157894736843, 'gini = 0.0\\nsamples = 4\\nvalue = [4, 0]'),\n",
              " Text(159.07838150289018, 85.83157894736843, 'gini = 0.0\\nsamples = 1\\nvalue = [0, 1]'),\n",
              " Text(168.36763005780347, 97.27578947368421, 'X[3] <= 270.0\\ngini = 0.165\\nsamples = 11\\nvalue = [1, 10]'),\n",
              " Text(165.2712138728324, 85.83157894736843, 'gini = 0.0\\nsamples = 1\\nvalue = [1, 0]'),\n",
              " Text(171.46404624277457, 85.83157894736843, 'gini = 0.0\\nsamples = 10\\nvalue = [0, 10]'),\n",
              " Text(171.46404624277457, 120.16421052631578, 'X[1] <= 276.06\\ngini = 0.444\\nsamples = 3\\nvalue = [2, 1]'),\n",
              " Text(168.36763005780347, 108.72, 'gini = 0.0\\nsamples = 1\\nvalue = [0, 1]'),\n",
              " Text(174.56046242774568, 108.72, 'gini = 0.0\\nsamples = 2\\nvalue = [2, 0]'),\n",
              " Text(180.7532947976879, 131.60842105263157, 'X[0] <= 3361.5\\ngini = 0.056\\nsamples = 35\\nvalue = [1, 34]'),\n",
              " Text(177.65687861271678, 120.16421052631578, 'gini = 0.0\\nsamples = 27\\nvalue = [0, 27]'),\n",
              " Text(183.84971098265896, 120.16421052631578, 'X[0] <= 3382.5\\ngini = 0.219\\nsamples = 8\\nvalue = [1, 7]'),\n",
              " Text(180.7532947976879, 108.72, 'gini = 0.0\\nsamples = 1\\nvalue = [1, 0]'),\n",
              " Text(186.94612716763007, 108.72, 'gini = 0.0\\nsamples = 7\\nvalue = [0, 7]'),\n",
              " Text(211.71745664739885, 154.49684210526317, 'X[0] <= 3599.5\\ngini = 0.428\\nsamples = 74\\nvalue = [23, 51]'),\n",
              " Text(208.62104046242777, 143.05263157894737, 'gini = 0.0\\nsamples = 2\\nvalue = [2, 0]'),\n",
              " Text(214.81387283236995, 143.05263157894737, 'X[1] <= 2068.5\\ngini = 0.413\\nsamples = 72\\nvalue = [21, 51]'),\n",
              " Text(199.33179190751446, 131.60842105263157, 'X[13] <= 0.5\\ngini = 0.231\\nsamples = 30\\nvalue = [4, 26]'),\n",
              " Text(196.23537572254338, 120.16421052631578, 'X[2] <= 218.0\\ngini = 0.332\\nsamples = 19\\nvalue = [4, 15]'),\n",
              " Text(193.13895953757228, 108.72, 'X[1] <= 1549.0\\ngini = 0.278\\nsamples = 18\\nvalue = [3, 15]'),\n",
              " Text(190.04254335260117, 97.27578947368421, 'X[9] <= 0.5\\ngini = 0.42\\nsamples = 10\\nvalue = [3, 7]'),\n",
              " Text(183.84971098265896, 85.83157894736843, 'X[1] <= 1477.5\\ngini = 0.245\\nsamples = 7\\nvalue = [1, 6]'),\n",
              " Text(180.7532947976879, 74.38736842105263, 'gini = 0.0\\nsamples = 6\\nvalue = [0, 6]'),\n",
              " Text(186.94612716763007, 74.38736842105263, 'gini = 0.0\\nsamples = 1\\nvalue = [1, 0]'),\n",
              " Text(196.23537572254338, 85.83157894736843, 'X[0] <= 4093.5\\ngini = 0.444\\nsamples = 3\\nvalue = [2, 1]'),\n",
              " Text(193.13895953757228, 74.38736842105263, 'gini = 0.0\\nsamples = 1\\nvalue = [0, 1]'),\n",
              " Text(199.33179190751446, 74.38736842105263, 'gini = 0.0\\nsamples = 2\\nvalue = [2, 0]'),\n",
              " Text(196.23537572254338, 97.27578947368421, 'gini = 0.0\\nsamples = 8\\nvalue = [0, 8]'),\n",
              " Text(199.33179190751446, 108.72, 'gini = 0.0\\nsamples = 1\\nvalue = [1, 0]'),\n",
              " Text(202.42820809248556, 120.16421052631578, 'gini = 0.0\\nsamples = 11\\nvalue = [0, 11]'),\n",
              " Text(230.29595375722545, 131.60842105263157, 'X[1] <= 3083.0\\ngini = 0.482\\nsamples = 42\\nvalue = [17, 25]'),\n",
              " Text(214.81387283236995, 120.16421052631578, 'X[2] <= 145.5\\ngini = 0.469\\nsamples = 16\\nvalue = [10, 6]'),\n",
              " Text(208.62104046242777, 108.72, 'X[2] <= 110.5\\ngini = 0.444\\nsamples = 6\\nvalue = [2, 4]'),\n",
              " Text(205.52462427745667, 97.27578947368421, 'X[13] <= 0.5\\ngini = 0.444\\nsamples = 3\\nvalue = [2, 1]'),\n",
              " Text(202.42820809248556, 85.83157894736843, 'gini = 0.0\\nsamples = 1\\nvalue = [0, 1]'),\n",
              " Text(208.62104046242777, 85.83157894736843, 'gini = 0.0\\nsamples = 2\\nvalue = [2, 0]'),\n",
              " Text(211.71745664739885, 97.27578947368421, 'gini = 0.0\\nsamples = 3\\nvalue = [0, 3]'),\n",
              " Text(221.00670520231216, 108.72, 'X[0] <= 5617.5\\ngini = 0.32\\nsamples = 10\\nvalue = [8, 2]'),\n",
              " Text(217.91028901734106, 97.27578947368421, 'gini = 0.0\\nsamples = 5\\nvalue = [5, 0]'),\n",
              " Text(224.10312138728327, 97.27578947368421, 'X[2] <= 181.0\\ngini = 0.48\\nsamples = 5\\nvalue = [3, 2]'),\n",
              " Text(221.00670520231216, 85.83157894736843, 'gini = 0.0\\nsamples = 2\\nvalue = [0, 2]'),\n",
              " Text(227.19953757225434, 85.83157894736843, 'gini = 0.0\\nsamples = 3\\nvalue = [3, 0]'),\n",
              " Text(245.77803468208094, 120.16421052631578, 'X[7] <= 0.5\\ngini = 0.393\\nsamples = 26\\nvalue = [7, 19]'),\n",
              " Text(242.68161849710984, 108.72, 'X[1] <= 5463.5\\ngini = 0.465\\nsamples = 19\\nvalue = [7, 12]'),\n",
              " Text(239.58520231213873, 97.27578947368421, 'X[1] <= 4317.0\\ngini = 0.498\\nsamples = 15\\nvalue = [7, 8]'),\n",
              " Text(233.39236994219655, 85.83157894736843, 'X[2] <= 194.0\\ngini = 0.42\\nsamples = 10\\nvalue = [3, 7]'),\n",
              " Text(230.29595375722545, 74.38736842105263, 'gini = 0.0\\nsamples = 5\\nvalue = [0, 5]'),\n",
              " Text(236.48878612716766, 74.38736842105263, 'X[2] <= 317.5\\ngini = 0.48\\nsamples = 5\\nvalue = [3, 2]'),\n",
              " Text(233.39236994219655, 62.943157894736856, 'gini = 0.0\\nsamples = 3\\nvalue = [3, 0]'),\n",
              " Text(239.58520231213873, 62.943157894736856, 'gini = 0.0\\nsamples = 2\\nvalue = [0, 2]'),\n",
              " Text(245.77803468208094, 85.83157894736843, 'X[8] <= 0.5\\ngini = 0.32\\nsamples = 5\\nvalue = [4, 1]'),\n",
              " Text(242.68161849710984, 74.38736842105263, 'gini = 0.0\\nsamples = 4\\nvalue = [4, 0]'),\n",
              " Text(248.87445086705205, 74.38736842105263, 'gini = 0.0\\nsamples = 1\\nvalue = [0, 1]'),\n",
              " Text(245.77803468208094, 97.27578947368421, 'gini = 0.0\\nsamples = 4\\nvalue = [0, 4]'),\n",
              " Text(248.87445086705205, 108.72, 'gini = 0.0\\nsamples = 7\\nvalue = [0, 7]'),\n",
              " Text(301.12647398843933, 177.38526315789474, 'X[3] <= 60.0\\ngini = 0.233\\nsamples = 201\\nvalue = [27, 174]'),\n",
              " Text(298.03005780346825, 165.94105263157894, 'gini = 0.0\\nsamples = 2\\nvalue = [2, 0]'),\n",
              " Text(304.2228901734104, 165.94105263157894, 'X[2] <= 149.0\\ngini = 0.22\\nsamples = 199\\nvalue = [25, 174]'),\n",
              " Text(286.0314450867052, 154.49684210526317, 'X[1] <= 5708.0\\ngini = 0.139\\nsamples = 133\\nvalue = [10, 123]'),\n",
              " Text(282.93502890173414, 143.05263157894737, 'X[5] <= 0.5\\ngini = 0.127\\nsamples = 132\\nvalue = [9, 123]'),\n",
              " Text(276.74219653179193, 131.60842105263157, 'X[3] <= 420.0\\ngini = 0.241\\nsamples = 50\\nvalue = [7, 43]'),\n",
              " Text(273.64578034682086, 120.16421052631578, 'X[10] <= 0.5\\ngini = 0.215\\nsamples = 49\\nvalue = [6, 43]'),\n",
              " Text(264.3565317919075, 108.72, 'X[0] <= 4198.0\\ngini = 0.172\\nsamples = 42\\nvalue = [4, 38]'),\n",
              " Text(255.06728323699423, 97.27578947368421, 'X[2] <= 124.5\\ngini = 0.062\\nsamples = 31\\nvalue = [1, 30]'),\n",
              " Text(251.97086705202315, 85.83157894736843, 'gini = 0.0\\nsamples = 25\\nvalue = [0, 25]'),\n",
              " Text(258.16369942196536, 85.83157894736843, 'X[2] <= 129.5\\ngini = 0.278\\nsamples = 6\\nvalue = [1, 5]'),\n",
              " Text(255.06728323699423, 74.38736842105263, 'gini = 0.0\\nsamples = 1\\nvalue = [1, 0]'),\n",
              " Text(261.26011560693644, 74.38736842105263, 'gini = 0.0\\nsamples = 5\\nvalue = [0, 5]'),\n",
              " Text(273.64578034682086, 97.27578947368421, 'X[0] <= 4736.5\\ngini = 0.397\\nsamples = 11\\nvalue = [3, 8]'),\n",
              " Text(270.5493641618497, 85.83157894736843, 'X[2] <= 113.5\\ngini = 0.5\\nsamples = 6\\nvalue = [3, 3]'),\n",
              " Text(267.45294797687865, 74.38736842105263, 'gini = 0.0\\nsamples = 2\\nvalue = [2, 0]'),\n",
              " Text(273.64578034682086, 74.38736842105263, 'X[1] <= 2040.0\\ngini = 0.375\\nsamples = 4\\nvalue = [1, 3]'),\n",
              " Text(270.5493641618497, 62.943157894736856, 'gini = 0.0\\nsamples = 3\\nvalue = [0, 3]'),\n",
              " Text(276.74219653179193, 62.943157894736856, 'gini = 0.0\\nsamples = 1\\nvalue = [1, 0]'),\n",
              " Text(276.74219653179193, 85.83157894736843, 'gini = 0.0\\nsamples = 5\\nvalue = [0, 5]'),\n",
              " Text(282.93502890173414, 108.72, 'X[0] <= 4516.5\\ngini = 0.408\\nsamples = 7\\nvalue = [2, 5]'),\n",
              " Text(279.838612716763, 97.27578947368421, 'gini = 0.0\\nsamples = 2\\nvalue = [2, 0]'),\n",
              " Text(286.0314450867052, 97.27578947368421, 'gini = 0.0\\nsamples = 5\\nvalue = [0, 5]'),\n",
              " Text(279.838612716763, 120.16421052631578, 'gini = 0.0\\nsamples = 1\\nvalue = [1, 0]'),\n",
              " Text(289.1278612716763, 131.60842105263157, 'X[0] <= 4343.0\\ngini = 0.048\\nsamples = 82\\nvalue = [2, 80]'),\n",
              " Text(286.0314450867052, 120.16421052631578, 'gini = 0.0\\nsamples = 66\\nvalue = [0, 66]'),\n",
              " Text(292.2242774566474, 120.16421052631578, 'X[9] <= 0.5\\ngini = 0.219\\nsamples = 16\\nvalue = [2, 14]'),\n",
              " Text(289.1278612716763, 108.72, 'gini = 0.0\\nsamples = 14\\nvalue = [0, 14]'),\n",
              " Text(295.3206936416185, 108.72, 'gini = 0.0\\nsamples = 2\\nvalue = [2, 0]'),\n",
              " Text(289.1278612716763, 143.05263157894737, 'gini = 0.0\\nsamples = 1\\nvalue = [1, 0]'),\n",
              " Text(322.41433526011565, 154.49684210526317, 'X[1] <= 7425.5\\ngini = 0.351\\nsamples = 66\\nvalue = [15, 51]'),\n",
              " Text(319.3179190751445, 143.05263157894737, 'X[1] <= 3046.0\\ngini = 0.338\\nsamples = 65\\nvalue = [14, 51]'),\n",
              " Text(313.12508670520236, 131.60842105263157, 'X[1] <= 2797.0\\ngini = 0.39\\nsamples = 49\\nvalue = [13, 36]'),\n",
              " Text(310.02867052023123, 120.16421052631578, 'X[9] <= 0.5\\ngini = 0.375\\nsamples = 48\\nvalue = [12, 36]'),\n",
              " Text(301.5135260115607, 108.72, 'X[5] <= 0.5\\ngini = 0.346\\nsamples = 45\\nvalue = [10, 35]'),\n",
              " Text(293.77248554913297, 97.27578947368421, 'X[2] <= 247.0\\ngini = 0.48\\nsamples = 10\\nvalue = [4, 6]'),\n",
              " Text(290.6760693641619, 85.83157894736843, 'X[2] <= 180.0\\ngini = 0.49\\nsamples = 7\\nvalue = [4, 3]'),\n",
              " Text(287.57965317919076, 74.38736842105263, 'X[0] <= 10312.0\\ngini = 0.375\\nsamples = 4\\nvalue = [1, 3]'),\n",
              " Text(284.4832369942197, 62.943157894736856, 'gini = 0.0\\nsamples = 2\\nvalue = [0, 2]'),\n",
              " Text(290.6760693641619, 62.943157894736856, 'X[2] <= 158.0\\ngini = 0.5\\nsamples = 2\\nvalue = [1, 1]'),\n",
              " Text(287.57965317919076, 51.49894736842106, 'gini = 0.0\\nsamples = 1\\nvalue = [0, 1]'),\n",
              " Text(293.77248554913297, 51.49894736842106, 'gini = 0.0\\nsamples = 1\\nvalue = [1, 0]'),\n",
              " Text(293.77248554913297, 74.38736842105263, 'gini = 0.0\\nsamples = 3\\nvalue = [3, 0]'),\n",
              " Text(296.86890173410404, 85.83157894736843, 'gini = 0.0\\nsamples = 3\\nvalue = [0, 3]'),\n",
              " Text(309.25456647398846, 97.27578947368421, 'X[3] <= 270.0\\ngini = 0.284\\nsamples = 35\\nvalue = [6, 29]'),\n",
              " Text(306.1581502890174, 85.83157894736843, 'gini = 0.0\\nsamples = 1\\nvalue = [1, 0]'),\n",
              " Text(312.35098265895954, 85.83157894736843, 'X[0] <= 26665.0\\ngini = 0.251\\nsamples = 34\\nvalue = [5, 29]'),\n",
              " Text(309.25456647398846, 74.38736842105263, 'X[2] <= 171.5\\ngini = 0.213\\nsamples = 33\\nvalue = [4, 29]'),\n",
              " Text(303.06173410404625, 62.943157894736856, 'X[0] <= 5795.5\\ngini = 0.375\\nsamples = 12\\nvalue = [3, 9]'),\n",
              " Text(299.9653179190752, 51.49894736842106, 'X[2] <= 166.0\\ngini = 0.18\\nsamples = 10\\nvalue = [1, 9]'),\n",
              " Text(296.86890173410404, 40.05473684210526, 'gini = 0.0\\nsamples = 9\\nvalue = [0, 9]'),\n",
              " Text(303.06173410404625, 40.05473684210526, 'gini = 0.0\\nsamples = 1\\nvalue = [1, 0]'),\n",
              " Text(306.1581502890174, 51.49894736842106, 'gini = 0.0\\nsamples = 2\\nvalue = [2, 0]'),\n",
              " Text(315.44739884393067, 62.943157894736856, 'X[1] <= 2205.0\\ngini = 0.091\\nsamples = 21\\nvalue = [1, 20]'),\n",
              " Text(312.35098265895954, 51.49894736842106, 'gini = 0.0\\nsamples = 18\\nvalue = [0, 18]'),\n",
              " Text(318.54381502890175, 51.49894736842106, 'X[0] <= 5090.0\\ngini = 0.444\\nsamples = 3\\nvalue = [1, 2]'),\n",
              " Text(315.44739884393067, 40.05473684210526, 'gini = 0.0\\nsamples = 2\\nvalue = [0, 2]'),\n",
              " Text(321.6402312138729, 40.05473684210526, 'gini = 0.0\\nsamples = 1\\nvalue = [1, 0]'),\n",
              " Text(315.44739884393067, 74.38736842105263, 'gini = 0.0\\nsamples = 1\\nvalue = [1, 0]'),\n",
              " Text(318.54381502890175, 108.72, 'X[0] <= 11694.0\\ngini = 0.444\\nsamples = 3\\nvalue = [2, 1]'),\n",
              " Text(315.44739884393067, 97.27578947368421, 'gini = 0.0\\nsamples = 2\\nvalue = [2, 0]'),\n",
              " Text(321.6402312138729, 97.27578947368421, 'gini = 0.0\\nsamples = 1\\nvalue = [0, 1]'),\n",
              " Text(316.22150289017344, 120.16421052631578, 'gini = 0.0\\nsamples = 1\\nvalue = [1, 0]'),\n",
              " Text(325.5107514450867, 131.60842105263157, 'X[0] <= 5717.0\\ngini = 0.117\\nsamples = 16\\nvalue = [1, 15]'),\n",
              " Text(322.41433526011565, 120.16421052631578, 'gini = 0.0\\nsamples = 12\\nvalue = [0, 12]'),\n",
              " Text(328.6071676300578, 120.16421052631578, 'X[0] <= 5833.5\\ngini = 0.375\\nsamples = 4\\nvalue = [1, 3]'),\n",
              " Text(325.5107514450867, 108.72, 'gini = 0.0\\nsamples = 1\\nvalue = [1, 0]'),\n",
              " Text(331.70358381502894, 108.72, 'gini = 0.0\\nsamples = 3\\nvalue = [0, 3]'),\n",
              " Text(325.5107514450867, 143.05263157894737, 'gini = 0.0\\nsamples = 1\\nvalue = [1, 0]'),\n",
              " Text(310.4157225433526, 188.82947368421054, 'X[12] <= 0.5\\ngini = 0.32\\nsamples = 5\\nvalue = [4, 1]'),\n",
              " Text(307.31930635838154, 177.38526315789474, 'gini = 0.0\\nsamples = 3\\nvalue = [3, 0]'),\n",
              " Text(313.51213872832375, 177.38526315789474, 'X[6] <= 0.5\\ngini = 0.5\\nsamples = 2\\nvalue = [1, 1]'),\n",
              " Text(310.4157225433526, 165.94105263157894, 'gini = 0.0\\nsamples = 1\\nvalue = [0, 1]'),\n",
              " Text(316.6085549132948, 165.94105263157894, 'gini = 0.0\\nsamples = 1\\nvalue = [1, 0]')]"
            ]
          },
          "metadata": {
            "tags": []
          },
          "execution_count": 30
        },
        {
          "output_type": "display_data",
          "data": {
            "image/png": "[encoded data removed]",
            "text/plain": [
              "<Figure size 432x288 with 1 Axes>"
            ]
          },
          "metadata": {
            "tags": [],
            "needs_background": "light"
          }
        }
      ]
    },
    {
      "cell_type": "code",
      "metadata": {
        "id": "lda7SQVsCKMd"
      },
      "source": [
        ""
      ],
      "execution_count": 30,
      "outputs": []
    },
    {
      "cell_type": "code",
      "metadata": {
        "id": "vM0tNgD3CKMd"
      },
      "source": [
        ""
      ],
      "execution_count": 30,
      "outputs": []
    },
    {
      "cell_type": "markdown",
      "metadata": {
        "id": "aqeJZSt8vY_n"
      },
      "source": [
        "# Evaluation"
      ]
    },
    {
      "cell_type": "code",
      "metadata": {
        "id": "L-4DvCacCKMf"
      },
      "source": [
        ""
      ],
      "execution_count": 30,
      "outputs": []
    },
    {
      "cell_type": "code",
      "metadata": {
        "id": "Ipvm7Z_4CKMg"
      },
      "source": [
        ""
      ],
      "execution_count": 30,
      "outputs": []
    },
    {
      "cell_type": "code",
      "metadata": {
        "id": "aGkL4X9YCKMh"
      },
      "source": [
        ""
      ],
      "execution_count": 30,
      "outputs": []
    },
    {
      "cell_type": "markdown",
      "metadata": {
        "id": "zf9gGQcUA4zJ"
      },
      "source": [
        "# K-Folds Cross Validation"
      ]
    },
    {
      "cell_type": "code",
      "metadata": {
        "id": "z07I2cCcvY_5"
      },
      "source": [
        ""
      ],
      "execution_count": 30,
      "outputs": []
    }
  ]
}