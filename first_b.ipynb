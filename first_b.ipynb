{
  "nbformat": 4,
  "nbformat_minor": 0,
  "metadata": {
    "colab": {
      "name": "week_2.ipynb",
      "provenance": [],
      "collapsed_sections": [
        "CplL4wIgVO51",
        "A9iEd7Udq_EK",
        "NIa2lzQdrTvU",
        "IEZrs0iPxa0k",
        "Lw9hK7lBxiDc"
      ]
    },
    "kernelspec": {
      "display_name": "Python 3",
      "language": "python",
      "name": "python3"
    },
    "language_info": {
      "codemirror_mode": {
        "name": "ipython",
        "version": 3
      },
      "file_extension": ".py",
      "mimetype": "text/x-python",
      "name": "python",
      "nbconvert_exporter": "python",
      "pygments_lexer": "ipython3",
      "version": "3.7.7"
    }
  },
  "cells": [
    {
      "cell_type": "markdown",
      "metadata": {
        "id": "CplL4wIgVO51"
      },
      "source": [
        "# Load Libraries & Data"
      ]
    },
    {
      "cell_type": "code",
      "metadata": {
        "colab": {
          "base_uri": "https://localhost:8080/"
        },
        "id": "vko633A8fpn8",
        "outputId": "7303637d-37c2-44d7-d0fd-6982a58cce83"
      },
      "source": [
        "!wget https://www.spataru.at/students/course_files/week2/adult_rev2.csv"
      ],
      "execution_count": 44,
      "outputs": [
        {
          "output_type": "stream",
          "text": [
            "--2021-01-12 11:41:49--  https://www.spataru.at/students/course_files/week2/adult_rev2.csv\n",
            "Resolving www.spataru.at (www.spataru.at)... 81.19.159.92\n",
            "Connecting to www.spataru.at (www.spataru.at)|81.19.159.92|:443... connected.\n",
            "HTTP request sent, awaiting response... 200 OK\n",
            "Length: 3595716 (3.4M) [text/csv]\n",
            "Saving to: ‘adult_rev2.csv.2’\n",
            "\n",
            "adult_rev2.csv.2    100%[===================>]   3.43M  3.85MB/s    in 0.9s    \n",
            "\n",
            "2021-01-12 11:41:50 (3.85 MB/s) - ‘adult_rev2.csv.2’ saved [3595716/3595716]\n",
            "\n"
          ],
          "name": "stdout"
        }
      ]
    },
    {
      "cell_type": "code",
      "metadata": {
        "id": "fjV3U8nnVO53"
      },
      "source": [
        "import pandas as pd\n",
        "import numpy as np\n",
        "import plotly.express as px\n",
        "from plotnine import ggplot, geom_point, aes, stat_smooth, facet_wrap"
      ],
      "execution_count": 45,
      "outputs": []
    },
    {
      "cell_type": "markdown",
      "metadata": {
        "id": "yDgpVjuKVO6N"
      },
      "source": [
        "**Load the data in a variable named df**\n",
        "\n",
        "Tip: pd.read_csv()\n",
        "\n",
        "\n",
        "\n",
        "\n",
        "The file path is \"adult_rev2.csv\""
      ]
    },
    {
      "cell_type": "code",
      "metadata": {
        "id": "Uffdc1_xVO6T"
      },
      "source": [
        "df = pd.read_csv(\"adult_rev2.csv\")"
      ],
      "execution_count": 46,
      "outputs": []
    },
    {
      "cell_type": "markdown",
      "metadata": {
        "id": "Ro2dNddOVO6c"
      },
      "source": [
        "**How many rows and columns does the data have?**\n",
        "\n",
        "df.shape > (rows,columns)"
      ]
    },
    {
      "cell_type": "code",
      "metadata": {
        "colab": {
          "base_uri": "https://localhost:8080/"
        },
        "id": "Jpk4lZKrVO6f",
        "outputId": "1abe1c0b-32ee-469f-c346-4edcdd2c583d"
      },
      "source": [
        "df.shape"
      ],
      "execution_count": 47,
      "outputs": [
        {
          "output_type": "execute_result",
          "data": {
            "text/plain": [
              "(32761, 15)"
            ]
          },
          "metadata": {
            "tags": []
          },
          "execution_count": 47
        }
      ]
    },
    {
      "cell_type": "markdown",
      "metadata": {
        "id": "4Qeky_hKVO6n"
      },
      "source": [
        "**Show the first 5 rows of the data**"
      ]
    },
    {
      "cell_type": "code",
      "metadata": {
        "colab": {
          "base_uri": "https://localhost:8080/",
          "height": 296
        },
        "id": "XAeosoXlVO6o",
        "outputId": "38ec9db4-6053-4f1b-ed08-6da92ecee451"
      },
      "source": [
        "df.head()"
      ],
      "execution_count": 48,
      "outputs": [
        {
          "output_type": "execute_result",
          "data": {
            "text/html": [
              "<div>\n",
              "<style scoped>\n",
              "    .dataframe tbody tr th:only-of-type {\n",
              "        vertical-align: middle;\n",
              "    }\n",
              "\n",
              "    .dataframe tbody tr th {\n",
              "        vertical-align: top;\n",
              "    }\n",
              "\n",
              "    .dataframe thead th {\n",
              "        text-align: right;\n",
              "    }\n",
              "</style>\n",
              "<table border=\"1\" class=\"dataframe\">\n",
              "  <thead>\n",
              "    <tr style=\"text-align: right;\">\n",
              "      <th></th>\n",
              "      <th>social_number</th>\n",
              "      <th>age</th>\n",
              "      <th>workclass</th>\n",
              "      <th>education</th>\n",
              "      <th>education_num</th>\n",
              "      <th>marital_status</th>\n",
              "      <th>occupation</th>\n",
              "      <th>relationship</th>\n",
              "      <th>race</th>\n",
              "      <th>sex</th>\n",
              "      <th>capital_gain</th>\n",
              "      <th>capital_loss</th>\n",
              "      <th>hours_per_week</th>\n",
              "      <th>native_country</th>\n",
              "      <th>income</th>\n",
              "    </tr>\n",
              "  </thead>\n",
              "  <tbody>\n",
              "    <tr>\n",
              "      <th>0</th>\n",
              "      <td>717703</td>\n",
              "      <td>90</td>\n",
              "      <td>NaN</td>\n",
              "      <td>HS-grad</td>\n",
              "      <td>9</td>\n",
              "      <td>Widowed</td>\n",
              "      <td>NaN</td>\n",
              "      <td>Not-in-family</td>\n",
              "      <td>White</td>\n",
              "      <td>Female</td>\n",
              "      <td>0</td>\n",
              "      <td>4356</td>\n",
              "      <td>40</td>\n",
              "      <td>United-States</td>\n",
              "      <td>&lt;=50K</td>\n",
              "    </tr>\n",
              "    <tr>\n",
              "      <th>1</th>\n",
              "      <td>931778</td>\n",
              "      <td>82</td>\n",
              "      <td>Private</td>\n",
              "      <td>HS-grad</td>\n",
              "      <td>9</td>\n",
              "      <td>Widowed</td>\n",
              "      <td>Exec-managerial</td>\n",
              "      <td>Not-in-family</td>\n",
              "      <td>White</td>\n",
              "      <td>Female</td>\n",
              "      <td>0</td>\n",
              "      <td>4356</td>\n",
              "      <td>18</td>\n",
              "      <td>United-States</td>\n",
              "      <td>&lt;=50K</td>\n",
              "    </tr>\n",
              "    <tr>\n",
              "      <th>2</th>\n",
              "      <td>176143</td>\n",
              "      <td>66</td>\n",
              "      <td>NaN</td>\n",
              "      <td>Some-college</td>\n",
              "      <td>10</td>\n",
              "      <td>Widowed</td>\n",
              "      <td>NaN</td>\n",
              "      <td>Unmarried</td>\n",
              "      <td>Black</td>\n",
              "      <td>Female</td>\n",
              "      <td>0</td>\n",
              "      <td>4356</td>\n",
              "      <td>40</td>\n",
              "      <td>United-States</td>\n",
              "      <td>&lt;=50K</td>\n",
              "    </tr>\n",
              "    <tr>\n",
              "      <th>3</th>\n",
              "      <td>953541</td>\n",
              "      <td>54</td>\n",
              "      <td>Private</td>\n",
              "      <td>7th-8th</td>\n",
              "      <td>4</td>\n",
              "      <td>Divorced</td>\n",
              "      <td>Machine-op-inspct</td>\n",
              "      <td>Unmarried</td>\n",
              "      <td>White</td>\n",
              "      <td>Female</td>\n",
              "      <td>0</td>\n",
              "      <td>3900</td>\n",
              "      <td>40</td>\n",
              "      <td>United-States</td>\n",
              "      <td>&lt;=50K</td>\n",
              "    </tr>\n",
              "    <tr>\n",
              "      <th>4</th>\n",
              "      <td>523037</td>\n",
              "      <td>41</td>\n",
              "      <td>Private</td>\n",
              "      <td>Some-college</td>\n",
              "      <td>10</td>\n",
              "      <td>Separated</td>\n",
              "      <td>Prof-specialty</td>\n",
              "      <td>Own-child</td>\n",
              "      <td>White</td>\n",
              "      <td>Female</td>\n",
              "      <td>0</td>\n",
              "      <td>3900</td>\n",
              "      <td>40</td>\n",
              "      <td>United-States</td>\n",
              "      <td>&lt;=50K</td>\n",
              "    </tr>\n",
              "  </tbody>\n",
              "</table>\n",
              "</div>"
            ],
            "text/plain": [
              "   social_number  age workclass  ... hours_per_week  native_country income\n",
              "0         717703   90       NaN  ...             40   United-States  <=50K\n",
              "1         931778   82   Private  ...             18   United-States  <=50K\n",
              "2         176143   66       NaN  ...             40   United-States  <=50K\n",
              "3         953541   54   Private  ...             40   United-States  <=50K\n",
              "4         523037   41   Private  ...             40   United-States  <=50K\n",
              "\n",
              "[5 rows x 15 columns]"
            ]
          },
          "metadata": {
            "tags": []
          },
          "execution_count": 48
        }
      ]
    },
    {
      "cell_type": "markdown",
      "metadata": {
        "id": "A9iEd7Udq_EK"
      },
      "source": [
        "# Data Cleaning"
      ]
    },
    {
      "cell_type": "markdown",
      "metadata": {
        "id": "2sgt92ctVO6w"
      },
      "source": [
        "**Drop the duplicates in the data**\n",
        "\n",
        "Note: replace the current df (dataframe) with the clean df\n"
      ]
    },
    {
      "cell_type": "code",
      "metadata": {
        "colab": {
          "base_uri": "https://localhost:8080/"
        },
        "id": "5yUK1mAGGGuf",
        "outputId": "071a912f-7eb6-4ef3-aca2-5b03f85be684"
      },
      "source": [
        "df.size"
      ],
      "execution_count": 49,
      "outputs": [
        {
          "output_type": "execute_result",
          "data": {
            "text/plain": [
              "491415"
            ]
          },
          "metadata": {
            "tags": []
          },
          "execution_count": 49
        }
      ]
    },
    {
      "cell_type": "code",
      "metadata": {
        "id": "UM4pJfQjG5hc"
      },
      "source": [
        ""
      ],
      "execution_count": 49,
      "outputs": []
    },
    {
      "cell_type": "code",
      "metadata": {
        "colab": {
          "base_uri": "https://localhost:8080/"
        },
        "id": "4_aO2gzaFcWP",
        "outputId": "f154ac5c-dc67-4c0d-ffc8-98ab2e9bc6ba"
      },
      "source": [
        "df.shape"
      ],
      "execution_count": 50,
      "outputs": [
        {
          "output_type": "execute_result",
          "data": {
            "text/plain": [
              "(32761, 15)"
            ]
          },
          "metadata": {
            "tags": []
          },
          "execution_count": 50
        }
      ]
    },
    {
      "cell_type": "code",
      "metadata": {
        "id": "Jg-h4rqTVO6x"
      },
      "source": [
        "df = df.drop_duplicates()"
      ],
      "execution_count": 51,
      "outputs": []
    },
    {
      "cell_type": "markdown",
      "metadata": {
        "id": "o4yElj5GVO66"
      },
      "source": [
        "**How many rows are left?**"
      ]
    },
    {
      "cell_type": "code",
      "metadata": {
        "colab": {
          "base_uri": "https://localhost:8080/"
        },
        "id": "NhAnLbwaVO68",
        "outputId": "93ad428f-1588-4467-e7c7-258c87f56e60"
      },
      "source": [
        "print(df.shape)"
      ],
      "execution_count": 52,
      "outputs": [
        {
          "output_type": "stream",
          "text": [
            "(32589, 15)\n"
          ],
          "name": "stdout"
        }
      ]
    },
    {
      "cell_type": "markdown",
      "metadata": {
        "id": "7Q6ItP3xVO7C"
      },
      "source": [
        "**How many values are there in missing in the column workclass?**"
      ]
    },
    {
      "cell_type": "code",
      "metadata": {
        "colab": {
          "base_uri": "https://localhost:8080/"
        },
        "id": "qGHv1Pl9VO7E",
        "outputId": "5c5d168b-60ec-479d-905b-63c2c11807be"
      },
      "source": [
        "df.workclass.isna().sum()"
      ],
      "execution_count": 53,
      "outputs": [
        {
          "output_type": "execute_result",
          "data": {
            "text/plain": [
              "1837"
            ]
          },
          "metadata": {
            "tags": []
          },
          "execution_count": 53
        }
      ]
    },
    {
      "cell_type": "markdown",
      "metadata": {
        "id": "rUKP1BauVO7I"
      },
      "source": [
        "**Drop all missing values**\n",
        "\n",
        "Note: replace the current df (dataframe) with the clean df"
      ]
    },
    {
      "cell_type": "code",
      "metadata": {
        "id": "rcbLu1tqVO7L"
      },
      "source": [
        "df = df.dropna()"
      ],
      "execution_count": 54,
      "outputs": []
    },
    {
      "cell_type": "markdown",
      "metadata": {
        "id": "SgZinmnwVO7Q"
      },
      "source": [
        "**How many rows are left?**"
      ]
    },
    {
      "cell_type": "code",
      "metadata": {
        "colab": {
          "base_uri": "https://localhost:8080/"
        },
        "id": "kETlesZFVO7S",
        "outputId": "2b221d8b-7980-434d-fae6-73b46baa8a60"
      },
      "source": [
        "df.shape"
      ],
      "execution_count": 55,
      "outputs": [
        {
          "output_type": "execute_result",
          "data": {
            "text/plain": [
              "(30189, 15)"
            ]
          },
          "metadata": {
            "tags": []
          },
          "execution_count": 55
        }
      ]
    },
    {
      "cell_type": "markdown",
      "metadata": {
        "id": "P8zxk9xCVO7Z"
      },
      "source": [
        "**Is the income column inconsistent? Then fix it**  "
      ]
    },
    {
      "cell_type": "code",
      "metadata": {
        "colab": {
          "base_uri": "https://localhost:8080/"
        },
        "id": "sVKTu0TfVO7a",
        "outputId": "ef6dc07b-ffe6-471a-dfb5-2212f7e40eb9"
      },
      "source": [
        "df.income.value_counts()"
      ],
      "execution_count": 56,
      "outputs": [
        {
          "output_type": "execute_result",
          "data": {
            "text/plain": [
              "<=50K            21521\n",
              ">50K              5871\n",
              "less than 50k     1144\n",
              "more than 50k      923\n",
              "over 50k           730\n",
              "Name: income, dtype: int64"
            ]
          },
          "metadata": {
            "tags": []
          },
          "execution_count": 56
        }
      ]
    },
    {
      "cell_type": "code",
      "metadata": {
        "id": "QaWalI0dVO7h"
      },
      "source": [
        "less_than = df[df.income == \"less than 50k\"].index"
      ],
      "execution_count": 57,
      "outputs": []
    },
    {
      "cell_type": "code",
      "metadata": {
        "colab": {
          "base_uri": "https://localhost:8080/"
        },
        "id": "ZCvCQPQnVO7p",
        "outputId": "50ad434f-2bfa-43f3-e674-d65c18f246f4"
      },
      "source": [
        "less_than"
      ],
      "execution_count": 58,
      "outputs": [
        {
          "output_type": "execute_result",
          "data": {
            "text/plain": [
              "Int64Index([    5,    22,   125,   207,   247,   322,   335,   341,   992,\n",
              "             1041,\n",
              "            ...\n",
              "            32403, 32406, 32411, 32429, 32471, 32473, 32595, 32616, 32624,\n",
              "            32748],\n",
              "           dtype='int64', length=1144)"
            ]
          },
          "metadata": {
            "tags": []
          },
          "execution_count": 58
        }
      ]
    },
    {
      "cell_type": "code",
      "metadata": {
        "id": "iq4mPCxMVO7u"
      },
      "source": [
        "df.loc[less_than, \"income\"] = \"<=50K\""
      ],
      "execution_count": 59,
      "outputs": []
    },
    {
      "cell_type": "code",
      "metadata": {
        "colab": {
          "base_uri": "https://localhost:8080/"
        },
        "id": "jgNwcPSlVO71",
        "outputId": "6d7b1a1c-b562-4192-8d61-3a4fe732bfe1"
      },
      "source": [
        "df.income.value_counts()"
      ],
      "execution_count": 60,
      "outputs": [
        {
          "output_type": "execute_result",
          "data": {
            "text/plain": [
              "<=50K            22665\n",
              ">50K              5871\n",
              "more than 50k      923\n",
              "over 50k           730\n",
              "Name: income, dtype: int64"
            ]
          },
          "metadata": {
            "tags": []
          },
          "execution_count": 60
        }
      ]
    },
    {
      "cell_type": "code",
      "metadata": {
        "id": "_zv8k_LrOhFP"
      },
      "source": [
        "more_than = df[df.income.isin([\"more than 50k\", \"over 50k\"])].index"
      ],
      "execution_count": 61,
      "outputs": []
    },
    {
      "cell_type": "code",
      "metadata": {
        "id": "X1-2npyaPLLF"
      },
      "source": [
        "df.loc[more_than, \"income\"] = \">50K\""
      ],
      "execution_count": 62,
      "outputs": []
    },
    {
      "cell_type": "code",
      "metadata": {
        "colab": {
          "base_uri": "https://localhost:8080/"
        },
        "id": "KKaqZB6ePWVA",
        "outputId": "cdde6eaa-6d72-44fc-f057-2d19f2d0151c"
      },
      "source": [
        "df.income.value_counts()"
      ],
      "execution_count": 63,
      "outputs": [
        {
          "output_type": "execute_result",
          "data": {
            "text/plain": [
              "<=50K    22665\n",
              ">50K      7524\n",
              "Name: income, dtype: int64"
            ]
          },
          "metadata": {
            "tags": []
          },
          "execution_count": 63
        }
      ]
    },
    {
      "cell_type": "markdown",
      "metadata": {
        "id": "2pCAl89MVO77"
      },
      "source": [
        "**Drop social number. How many column are there left?** \n",
        "\n",
        "Note: Replace the old dataframe with the new clean one"
      ]
    },
    {
      "cell_type": "code",
      "metadata": {
        "id": "oa4fpYsOVO78"
      },
      "source": [
        "df = df.drop(\"social_number\",axis=1)"
      ],
      "execution_count": 64,
      "outputs": []
    },
    {
      "cell_type": "code",
      "metadata": {
        "colab": {
          "base_uri": "https://localhost:8080/"
        },
        "id": "YJzZFBHqVO8B",
        "outputId": "ebda4317-9e81-4d38-8648-e00c0fe989cc"
      },
      "source": [
        "df.shape"
      ],
      "execution_count": 65,
      "outputs": [
        {
          "output_type": "execute_result",
          "data": {
            "text/plain": [
              "(30189, 14)"
            ]
          },
          "metadata": {
            "tags": []
          },
          "execution_count": 65
        }
      ]
    },
    {
      "cell_type": "markdown",
      "metadata": {
        "id": "NIa2lzQdrTvU"
      },
      "source": [
        "# Exploratory Data Analysis"
      ]
    },
    {
      "cell_type": "markdown",
      "metadata": {
        "id": "IEZrs0iPxa0k"
      },
      "source": [
        "## Univariate"
      ]
    },
    {
      "cell_type": "markdown",
      "metadata": {
        "id": "KK48P-IkVO8H"
      },
      "source": [
        "**Describe Age**"
      ]
    },
    {
      "cell_type": "code",
      "metadata": {
        "id": "AbYJAbVrVO8I"
      },
      "source": [
        ""
      ],
      "execution_count": null,
      "outputs": []
    },
    {
      "cell_type": "markdown",
      "metadata": {
        "id": "lcMZ7kIYVO8P"
      },
      "source": [
        "**Determine the mean of the column \"hours.per.week\"**"
      ]
    },
    {
      "cell_type": "code",
      "metadata": {
        "id": "GS6ir90eVO8Q"
      },
      "source": [
        ""
      ],
      "execution_count": null,
      "outputs": []
    },
    {
      "cell_type": "code",
      "metadata": {
        "id": "_LrwZXC9VO8W"
      },
      "source": [
        ""
      ],
      "execution_count": null,
      "outputs": []
    },
    {
      "cell_type": "code",
      "metadata": {
        "id": "o2u_7HEQVO8b"
      },
      "source": [
        ""
      ],
      "execution_count": null,
      "outputs": []
    },
    {
      "cell_type": "code",
      "metadata": {
        "id": "z_7V3L8FVO8g"
      },
      "source": [
        ""
      ],
      "execution_count": null,
      "outputs": []
    },
    {
      "cell_type": "code",
      "metadata": {
        "id": "oe-e7XOVVO8n"
      },
      "source": [
        ""
      ],
      "execution_count": null,
      "outputs": []
    },
    {
      "cell_type": "code",
      "metadata": {
        "id": "90iHYfZzVO8t"
      },
      "source": [
        ""
      ],
      "execution_count": null,
      "outputs": []
    },
    {
      "cell_type": "markdown",
      "metadata": {
        "id": "cymLXGqwVO8x"
      },
      "source": [
        "**What is the diference between mean and median on capital gain?**"
      ]
    },
    {
      "cell_type": "code",
      "metadata": {
        "id": "qm3MmEKOVO8y"
      },
      "source": [
        ""
      ],
      "execution_count": null,
      "outputs": []
    },
    {
      "cell_type": "markdown",
      "metadata": {
        "id": "KlKisXyIVO84"
      },
      "source": [
        "**How many unique workclasses?** "
      ]
    },
    {
      "cell_type": "code",
      "metadata": {
        "id": "tB4zb0csVO85"
      },
      "source": [
        ""
      ],
      "execution_count": null,
      "outputs": []
    },
    {
      "cell_type": "markdown",
      "metadata": {
        "id": "xk6-7vVrVO89"
      },
      "source": [
        "**How many different types of education are there?** "
      ]
    },
    {
      "cell_type": "code",
      "metadata": {
        "id": "3Fjb1FEGVO8_"
      },
      "source": [
        ""
      ],
      "execution_count": null,
      "outputs": []
    },
    {
      "cell_type": "markdown",
      "metadata": {
        "id": "OmV8MO52VO9D"
      },
      "source": [
        "**How many people are divorced?**"
      ]
    },
    {
      "cell_type": "code",
      "metadata": {
        "id": "xGl7pa7rVO9E"
      },
      "source": [
        ""
      ],
      "execution_count": null,
      "outputs": []
    },
    {
      "cell_type": "code",
      "metadata": {
        "id": "fthgXZZhntWU"
      },
      "source": [
        ""
      ],
      "execution_count": null,
      "outputs": []
    },
    {
      "cell_type": "markdown",
      "metadata": {
        "id": "FFrTShuxVO9J"
      },
      "source": [
        "**Histogram Age** "
      ]
    },
    {
      "cell_type": "code",
      "metadata": {
        "id": "SmD1hbwDVO9L"
      },
      "source": [
        ""
      ],
      "execution_count": null,
      "outputs": []
    },
    {
      "cell_type": "markdown",
      "metadata": {
        "id": "U7S3XZgiVO9O"
      },
      "source": [
        "**Create a countplot for martial status** "
      ]
    },
    {
      "cell_type": "code",
      "metadata": {
        "id": "62tcqnRLVO9P"
      },
      "source": [
        ""
      ],
      "execution_count": null,
      "outputs": []
    },
    {
      "cell_type": "code",
      "metadata": {
        "id": "Er05d6ggVO9V"
      },
      "source": [
        ""
      ],
      "execution_count": null,
      "outputs": []
    },
    {
      "cell_type": "markdown",
      "metadata": {
        "id": "Lw9hK7lBxiDc"
      },
      "source": [
        "## Bivariate Analysis"
      ]
    },
    {
      "cell_type": "markdown",
      "metadata": {
        "id": "3qZ2tEMWVO9Z"
      },
      "source": [
        "**How many Salesperson make a capital gain of over 80000?**"
      ]
    },
    {
      "cell_type": "code",
      "metadata": {
        "id": "wBf9hIeFVO9Z"
      },
      "source": [
        ""
      ],
      "execution_count": null,
      "outputs": []
    },
    {
      "cell_type": "code",
      "metadata": {
        "id": "oTYyQPiDVO9g"
      },
      "source": [
        ""
      ],
      "execution_count": null,
      "outputs": []
    },
    {
      "cell_type": "markdown",
      "metadata": {
        "id": "7XW1ekfwVO9l"
      },
      "source": [
        "**How many rows have a capital loss and capital gain bigger than 0?** "
      ]
    },
    {
      "cell_type": "code",
      "metadata": {
        "id": "IXHRA7qAVO9o"
      },
      "source": [
        ""
      ],
      "execution_count": null,
      "outputs": []
    },
    {
      "cell_type": "markdown",
      "metadata": {
        "id": "Isk3O27rVO9s"
      },
      "source": [
        "**Answer: 1**"
      ]
    },
    {
      "cell_type": "markdown",
      "metadata": {
        "id": "zEx9ltpdVO9t"
      },
      "source": [
        "**Create a feature which combines capital_loss and capital_gain**"
      ]
    },
    {
      "cell_type": "code",
      "metadata": {
        "id": "XXdo0XDkVO9u"
      },
      "source": [
        ""
      ],
      "execution_count": null,
      "outputs": []
    },
    {
      "cell_type": "markdown",
      "metadata": {
        "id": "OOQqKLPYVO9x"
      },
      "source": [
        "**What is the mean capital?**"
      ]
    },
    {
      "cell_type": "code",
      "metadata": {
        "id": "ejmKr-b0VO9x"
      },
      "source": [
        ""
      ],
      "execution_count": null,
      "outputs": []
    },
    {
      "cell_type": "markdown",
      "metadata": {
        "id": "e_aNkjoJVO91"
      },
      "source": [
        "**What is the median capital?**"
      ]
    },
    {
      "cell_type": "code",
      "metadata": {
        "id": "62ynnH6KVO92"
      },
      "source": [
        ""
      ],
      "execution_count": null,
      "outputs": []
    },
    {
      "cell_type": "markdown",
      "metadata": {
        "id": "AD5hbT90VO95"
      },
      "source": [
        "**How many people have a capital of 0?** "
      ]
    },
    {
      "cell_type": "code",
      "metadata": {
        "id": "EV2FeeWlVO97"
      },
      "source": [
        ""
      ],
      "execution_count": null,
      "outputs": []
    },
    {
      "cell_type": "markdown",
      "metadata": {
        "id": "4U8IQGjNVO9_"
      },
      "source": [
        "**What is the percentage of people which make a capital gain of over 10000?**"
      ]
    },
    {
      "cell_type": "code",
      "metadata": {
        "id": "ithS7yNqVO9_"
      },
      "source": [
        ""
      ],
      "execution_count": null,
      "outputs": []
    },
    {
      "cell_type": "code",
      "metadata": {
        "id": "BFL7dlctVO-D"
      },
      "source": [
        ""
      ],
      "execution_count": null,
      "outputs": []
    },
    {
      "cell_type": "code",
      "metadata": {
        "id": "PP_YFJzGVO-H"
      },
      "source": [
        ""
      ],
      "execution_count": null,
      "outputs": []
    },
    {
      "cell_type": "markdown",
      "metadata": {
        "id": "sOogNT8iVO-M"
      },
      "source": [
        "**What is the occupation of the biggest capital loss?** Q\n",
        "\n",
        "Tip: Use min() or max()"
      ]
    },
    {
      "cell_type": "code",
      "metadata": {
        "id": "i0qNVPKeVO-O"
      },
      "source": [
        ""
      ],
      "execution_count": null,
      "outputs": []
    },
    {
      "cell_type": "markdown",
      "metadata": {
        "id": "wxlkGGvjVO-S"
      },
      "source": [
        "**What is the ratio between <=50K income and >50K?**"
      ]
    },
    {
      "cell_type": "code",
      "metadata": {
        "id": "DWvSkoDdVO-S"
      },
      "source": [
        ""
      ],
      "execution_count": null,
      "outputs": []
    },
    {
      "cell_type": "code",
      "metadata": {
        "id": "W7mqZYBmtnyD"
      },
      "source": [
        ""
      ],
      "execution_count": null,
      "outputs": []
    },
    {
      "cell_type": "markdown",
      "metadata": {
        "id": "_b4XOsNYVO-V"
      },
      "source": [
        "**How many people with a income >50K have a \n",
        "capital loss?**"
      ]
    },
    {
      "cell_type": "code",
      "metadata": {
        "id": "KtuTbwPBVO-W"
      },
      "source": [
        ""
      ],
      "execution_count": null,
      "outputs": []
    },
    {
      "cell_type": "markdown",
      "metadata": {
        "id": "idLntvASVO-c"
      },
      "source": [
        "**How manydivorced people with a income >50K have a capital gain?**"
      ]
    },
    {
      "cell_type": "code",
      "metadata": {
        "id": "lpaTGeG2VO-d"
      },
      "source": [
        ""
      ],
      "execution_count": null,
      "outputs": []
    },
    {
      "cell_type": "markdown",
      "metadata": {
        "id": "-lIk7lpOVO-h"
      },
      "source": [
        "**Do a scatter plot between age and capital**"
      ]
    },
    {
      "cell_type": "code",
      "metadata": {
        "id": "-UyefLWVVO-h"
      },
      "source": [
        ""
      ],
      "execution_count": null,
      "outputs": []
    },
    {
      "cell_type": "markdown",
      "metadata": {
        "id": "I9DfmobaVO-n"
      },
      "source": [
        "**This look unreadable. Calculate the average capital by age** "
      ]
    },
    {
      "cell_type": "code",
      "metadata": {
        "id": "_jsj3C8lVO-n"
      },
      "source": [
        ""
      ],
      "execution_count": null,
      "outputs": []
    },
    {
      "cell_type": "code",
      "metadata": {
        "id": "cCsB0BwOwwt9"
      },
      "source": [
        ""
      ],
      "execution_count": null,
      "outputs": []
    },
    {
      "cell_type": "markdown",
      "metadata": {
        "id": "M-_w3l_CVO-r"
      },
      "source": [
        "**Calculate the correlation on the whole dataframe**"
      ]
    },
    {
      "cell_type": "code",
      "metadata": {
        "id": "9Sx2jZFlVO-s"
      },
      "source": [
        ""
      ],
      "execution_count": null,
      "outputs": []
    },
    {
      "cell_type": "markdown",
      "metadata": {
        "id": "Q5NxLJ06VO-z"
      },
      "source": [
        "**Do men make more money than women?**"
      ]
    }
  ]
}