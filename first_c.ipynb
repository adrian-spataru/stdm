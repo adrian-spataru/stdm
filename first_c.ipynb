{
  "nbformat": 4,
  "nbformat_minor": 0,
  "metadata": {
    "colab": {
      "name": "week_2.ipynb",
      "provenance": [],
      "collapsed_sections": [
        "CplL4wIgVO51",
        "A9iEd7Udq_EK",
        "NIa2lzQdrTvU",
        "IEZrs0iPxa0k",
        "Lw9hK7lBxiDc"
      ]
    },
    "kernelspec": {
      "display_name": "Python 3",
      "language": "python",
      "name": "python3"
    },
    "language_info": {
      "codemirror_mode": {
        "name": "ipython",
        "version": 3
      },
      "file_extension": ".py",
      "mimetype": "text/x-python",
      "name": "python",
      "nbconvert_exporter": "python",
      "pygments_lexer": "ipython3",
      "version": "3.7.7"
    }
  },
  "cells": [
    {
      "cell_type": "markdown",
      "metadata": {
        "id": "CplL4wIgVO51"
      },
      "source": [
        "# Load Libraries & Data"
      ]
    },
    {
      "cell_type": "code",
      "metadata": {
        "colab": {
          "base_uri": "https://localhost:8080/"
        },
        "id": "vko633A8fpn8",
        "outputId": "e2c80626-0c8d-4a7c-8621-412a2e90d6fc"
      },
      "source": [
        "!wget https://www.spataru.at/students/course_files/week2/adult_rev2.csv"
      ],
      "execution_count": 1,
      "outputs": [
        {
          "output_type": "stream",
          "name": "stdout",
          "text": [
            "--2021-12-13 12:04:13--  https://www.spataru.at/students/course_files/week2/adult_rev2.csv\n",
            "Resolving www.spataru.at (www.spataru.at)... 81.19.159.92\n",
            "Connecting to www.spataru.at (www.spataru.at)|81.19.159.92|:443... connected.\n",
            "HTTP request sent, awaiting response... 200 OK\n",
            "Length: 3595716 (3.4M) [text/csv]\n",
            "Saving to: ‘adult_rev2.csv’\n",
            "\n",
            "adult_rev2.csv      100%[===================>]   3.43M  4.16MB/s    in 0.8s    \n",
            "\n",
            "2021-12-13 12:04:14 (4.16 MB/s) - ‘adult_rev2.csv’ saved [3595716/3595716]\n",
            "\n"
          ]
        }
      ]
    },
    {
      "cell_type": "code",
      "metadata": {
        "id": "fjV3U8nnVO53"
      },
      "source": [
        "import pandas as pd\n",
        "import numpy as np\n",
        "import plotly.express as px\n",
        "from plotnine import ggplot, geom_point, aes, stat_smooth, facet_wrap"
      ],
      "execution_count": 2,
      "outputs": []
    },
    {
      "cell_type": "markdown",
      "metadata": {
        "id": "yDgpVjuKVO6N"
      },
      "source": [
        "**Load the data in a variable named df**\n",
        "\n",
        "Tip: pd.read_csv()\n",
        "\n",
        "\n",
        "\n",
        "\n",
        "The file path is \"adult_rev2.csv\""
      ]
    },
    {
      "cell_type": "code",
      "metadata": {
        "id": "Uffdc1_xVO6T"
      },
      "source": [
        "df = pd.read_csv(\"adult_rev2.csv\")"
      ],
      "execution_count": 3,
      "outputs": []
    },
    {
      "cell_type": "markdown",
      "metadata": {
        "id": "Ro2dNddOVO6c"
      },
      "source": [
        "**How many rows and columns does the data have?**\n",
        "\n",
        "df.shape > (rows,columns)"
      ]
    },
    {
      "cell_type": "code",
      "metadata": {
        "colab": {
          "base_uri": "https://localhost:8080/"
        },
        "id": "Jpk4lZKrVO6f",
        "outputId": "c49b4a8b-59b0-43dc-89e9-d54a18b966ba"
      },
      "source": [
        "df.shape"
      ],
      "execution_count": 4,
      "outputs": [
        {
          "output_type": "execute_result",
          "data": {
            "text/plain": [
              "(32761, 15)"
            ]
          },
          "metadata": {},
          "execution_count": 4
        }
      ]
    },
    {
      "cell_type": "markdown",
      "metadata": {
        "id": "4Qeky_hKVO6n"
      },
      "source": [
        "**Show the first 5 rows of the data**"
      ]
    },
    {
      "cell_type": "code",
      "metadata": {
        "colab": {
          "base_uri": "https://localhost:8080/",
          "height": 296
        },
        "id": "XAeosoXlVO6o",
        "outputId": "2e237d1a-e03f-4a13-aa15-59955c7ee2d7"
      },
      "source": [
        "df.head()"
      ],
      "execution_count": 5,
      "outputs": [
        {
          "output_type": "execute_result",
          "data": {
            "text/html": [
              "<div>\n",
              "<style scoped>\n",
              "    .dataframe tbody tr th:only-of-type {\n",
              "        vertical-align: middle;\n",
              "    }\n",
              "\n",
              "    .dataframe tbody tr th {\n",
              "        vertical-align: top;\n",
              "    }\n",
              "\n",
              "    .dataframe thead th {\n",
              "        text-align: right;\n",
              "    }\n",
              "</style>\n",
              "<table border=\"1\" class=\"dataframe\">\n",
              "  <thead>\n",
              "    <tr style=\"text-align: right;\">\n",
              "      <th></th>\n",
              "      <th>social_number</th>\n",
              "      <th>age</th>\n",
              "      <th>workclass</th>\n",
              "      <th>education</th>\n",
              "      <th>education_num</th>\n",
              "      <th>marital_status</th>\n",
              "      <th>occupation</th>\n",
              "      <th>relationship</th>\n",
              "      <th>race</th>\n",
              "      <th>sex</th>\n",
              "      <th>capital_gain</th>\n",
              "      <th>capital_loss</th>\n",
              "      <th>hours_per_week</th>\n",
              "      <th>native_country</th>\n",
              "      <th>income</th>\n",
              "    </tr>\n",
              "  </thead>\n",
              "  <tbody>\n",
              "    <tr>\n",
              "      <th>0</th>\n",
              "      <td>717703</td>\n",
              "      <td>90</td>\n",
              "      <td>NaN</td>\n",
              "      <td>HS-grad</td>\n",
              "      <td>9</td>\n",
              "      <td>Widowed</td>\n",
              "      <td>NaN</td>\n",
              "      <td>Not-in-family</td>\n",
              "      <td>White</td>\n",
              "      <td>Female</td>\n",
              "      <td>0</td>\n",
              "      <td>4356</td>\n",
              "      <td>40</td>\n",
              "      <td>United-States</td>\n",
              "      <td>&lt;=50K</td>\n",
              "    </tr>\n",
              "    <tr>\n",
              "      <th>1</th>\n",
              "      <td>931778</td>\n",
              "      <td>82</td>\n",
              "      <td>Private</td>\n",
              "      <td>HS-grad</td>\n",
              "      <td>9</td>\n",
              "      <td>Widowed</td>\n",
              "      <td>Exec-managerial</td>\n",
              "      <td>Not-in-family</td>\n",
              "      <td>White</td>\n",
              "      <td>Female</td>\n",
              "      <td>0</td>\n",
              "      <td>4356</td>\n",
              "      <td>18</td>\n",
              "      <td>United-States</td>\n",
              "      <td>&lt;=50K</td>\n",
              "    </tr>\n",
              "    <tr>\n",
              "      <th>2</th>\n",
              "      <td>176143</td>\n",
              "      <td>66</td>\n",
              "      <td>NaN</td>\n",
              "      <td>Some-college</td>\n",
              "      <td>10</td>\n",
              "      <td>Widowed</td>\n",
              "      <td>NaN</td>\n",
              "      <td>Unmarried</td>\n",
              "      <td>Black</td>\n",
              "      <td>Female</td>\n",
              "      <td>0</td>\n",
              "      <td>4356</td>\n",
              "      <td>40</td>\n",
              "      <td>United-States</td>\n",
              "      <td>&lt;=50K</td>\n",
              "    </tr>\n",
              "    <tr>\n",
              "      <th>3</th>\n",
              "      <td>953541</td>\n",
              "      <td>54</td>\n",
              "      <td>Private</td>\n",
              "      <td>7th-8th</td>\n",
              "      <td>4</td>\n",
              "      <td>Divorced</td>\n",
              "      <td>Machine-op-inspct</td>\n",
              "      <td>Unmarried</td>\n",
              "      <td>White</td>\n",
              "      <td>Female</td>\n",
              "      <td>0</td>\n",
              "      <td>3900</td>\n",
              "      <td>40</td>\n",
              "      <td>United-States</td>\n",
              "      <td>&lt;=50K</td>\n",
              "    </tr>\n",
              "    <tr>\n",
              "      <th>4</th>\n",
              "      <td>523037</td>\n",
              "      <td>41</td>\n",
              "      <td>Private</td>\n",
              "      <td>Some-college</td>\n",
              "      <td>10</td>\n",
              "      <td>Separated</td>\n",
              "      <td>Prof-specialty</td>\n",
              "      <td>Own-child</td>\n",
              "      <td>White</td>\n",
              "      <td>Female</td>\n",
              "      <td>0</td>\n",
              "      <td>3900</td>\n",
              "      <td>40</td>\n",
              "      <td>United-States</td>\n",
              "      <td>&lt;=50K</td>\n",
              "    </tr>\n",
              "  </tbody>\n",
              "</table>\n",
              "</div>"
            ],
            "text/plain": [
              "   social_number  age workclass  ... hours_per_week  native_country income\n",
              "0         717703   90       NaN  ...             40   United-States  <=50K\n",
              "1         931778   82   Private  ...             18   United-States  <=50K\n",
              "2         176143   66       NaN  ...             40   United-States  <=50K\n",
              "3         953541   54   Private  ...             40   United-States  <=50K\n",
              "4         523037   41   Private  ...             40   United-States  <=50K\n",
              "\n",
              "[5 rows x 15 columns]"
            ]
          },
          "metadata": {},
          "execution_count": 5
        }
      ]
    },
    {
      "cell_type": "markdown",
      "metadata": {
        "id": "A9iEd7Udq_EK"
      },
      "source": [
        "# Data Cleaning"
      ]
    },
    {
      "cell_type": "markdown",
      "metadata": {
        "id": "2sgt92ctVO6w"
      },
      "source": [
        "**Drop the duplicates in the data**\n",
        "\n",
        "Note: replace the current df (dataframe) with the clean df\n"
      ]
    },
    {
      "cell_type": "code",
      "metadata": {
        "colab": {
          "base_uri": "https://localhost:8080/"
        },
        "id": "5yUK1mAGGGuf",
        "outputId": "532884a1-c56c-4bd6-f893-5cfbe303003b"
      },
      "source": [
        "df.size"
      ],
      "execution_count": 6,
      "outputs": [
        {
          "output_type": "execute_result",
          "data": {
            "text/plain": [
              "491415"
            ]
          },
          "metadata": {},
          "execution_count": 6
        }
      ]
    },
    {
      "cell_type": "code",
      "metadata": {
        "id": "UM4pJfQjG5hc"
      },
      "source": [
        ""
      ],
      "execution_count": 6,
      "outputs": []
    },
    {
      "cell_type": "code",
      "metadata": {
        "colab": {
          "base_uri": "https://localhost:8080/"
        },
        "id": "4_aO2gzaFcWP",
        "outputId": "b04d9efb-2bad-41a5-8cbc-05a561698b7b"
      },
      "source": [
        "df.shape"
      ],
      "execution_count": 7,
      "outputs": [
        {
          "output_type": "execute_result",
          "data": {
            "text/plain": [
              "(32761, 15)"
            ]
          },
          "metadata": {},
          "execution_count": 7
        }
      ]
    },
    {
      "cell_type": "code",
      "metadata": {
        "id": "Jg-h4rqTVO6x"
      },
      "source": [
        "df = df.drop_duplicates()"
      ],
      "execution_count": 8,
      "outputs": []
    },
    {
      "cell_type": "markdown",
      "metadata": {
        "id": "o4yElj5GVO66"
      },
      "source": [
        "**How many rows are left?**"
      ]
    },
    {
      "cell_type": "code",
      "metadata": {
        "colab": {
          "base_uri": "https://localhost:8080/"
        },
        "id": "NhAnLbwaVO68",
        "outputId": "514e4099-5a81-40d9-d25e-ecd3a840b7eb"
      },
      "source": [
        "print(df.shape)"
      ],
      "execution_count": 9,
      "outputs": [
        {
          "output_type": "stream",
          "name": "stdout",
          "text": [
            "(32589, 15)\n"
          ]
        }
      ]
    },
    {
      "cell_type": "markdown",
      "metadata": {
        "id": "7Q6ItP3xVO7C"
      },
      "source": [
        "**How many values are there in missing in the column workclass?**"
      ]
    },
    {
      "cell_type": "code",
      "metadata": {
        "colab": {
          "base_uri": "https://localhost:8080/"
        },
        "id": "qGHv1Pl9VO7E",
        "outputId": "4935c803-2ccf-4876-91f4-8dd3fc61b8d5"
      },
      "source": [
        "df.workclass.isna().sum()"
      ],
      "execution_count": 10,
      "outputs": [
        {
          "output_type": "execute_result",
          "data": {
            "text/plain": [
              "1837"
            ]
          },
          "metadata": {},
          "execution_count": 10
        }
      ]
    },
    {
      "cell_type": "markdown",
      "metadata": {
        "id": "rUKP1BauVO7I"
      },
      "source": [
        "**Drop all missing values**\n",
        "\n",
        "Note: replace the current df (dataframe) with the clean df"
      ]
    },
    {
      "cell_type": "code",
      "metadata": {
        "id": "rcbLu1tqVO7L"
      },
      "source": [
        "df = df.dropna()"
      ],
      "execution_count": 11,
      "outputs": []
    },
    {
      "cell_type": "markdown",
      "metadata": {
        "id": "SgZinmnwVO7Q"
      },
      "source": [
        "**How many rows are left?**"
      ]
    },
    {
      "cell_type": "code",
      "metadata": {
        "colab": {
          "base_uri": "https://localhost:8080/"
        },
        "id": "kETlesZFVO7S",
        "outputId": "b6a3b2f2-2b97-42c9-f899-34f795516fef"
      },
      "source": [
        "df.shape"
      ],
      "execution_count": 12,
      "outputs": [
        {
          "output_type": "execute_result",
          "data": {
            "text/plain": [
              "(30189, 15)"
            ]
          },
          "metadata": {},
          "execution_count": 12
        }
      ]
    },
    {
      "cell_type": "markdown",
      "metadata": {
        "id": "P8zxk9xCVO7Z"
      },
      "source": [
        "**Is the income column inconsistent? Then fix it**  "
      ]
    },
    {
      "cell_type": "code",
      "metadata": {
        "colab": {
          "base_uri": "https://localhost:8080/"
        },
        "id": "sVKTu0TfVO7a",
        "outputId": "08a5bd85-a50e-4d60-cc5e-4143e3c5d1d2"
      },
      "source": [
        "df.income.value_counts()"
      ],
      "execution_count": 13,
      "outputs": [
        {
          "output_type": "execute_result",
          "data": {
            "text/plain": [
              "<=50K            21521\n",
              ">50K              5871\n",
              "less than 50k     1144\n",
              "more than 50k      923\n",
              "over 50k           730\n",
              "Name: income, dtype: int64"
            ]
          },
          "metadata": {},
          "execution_count": 13
        }
      ]
    },
    {
      "cell_type": "code",
      "metadata": {
        "id": "QaWalI0dVO7h"
      },
      "source": [
        "less_than = df[df.income == \"less than 50k\"].index"
      ],
      "execution_count": 14,
      "outputs": []
    },
    {
      "cell_type": "code",
      "metadata": {
        "colab": {
          "base_uri": "https://localhost:8080/"
        },
        "id": "ZCvCQPQnVO7p",
        "outputId": "8bcb16e8-4b38-4d57-ac51-7349479b60e5"
      },
      "source": [
        "less_than"
      ],
      "execution_count": 15,
      "outputs": [
        {
          "output_type": "execute_result",
          "data": {
            "text/plain": [
              "Int64Index([    5,    22,   125,   207,   247,   322,   335,   341,   992,\n",
              "             1041,\n",
              "            ...\n",
              "            32403, 32406, 32411, 32429, 32471, 32473, 32595, 32616, 32624,\n",
              "            32748],\n",
              "           dtype='int64', length=1144)"
            ]
          },
          "metadata": {},
          "execution_count": 15
        }
      ]
    },
    {
      "cell_type": "code",
      "metadata": {
        "id": "iq4mPCxMVO7u"
      },
      "source": [
        "df.loc[less_than, \"income\"] = \"<=50K\""
      ],
      "execution_count": 16,
      "outputs": []
    },
    {
      "cell_type": "code",
      "metadata": {
        "colab": {
          "base_uri": "https://localhost:8080/"
        },
        "id": "jgNwcPSlVO71",
        "outputId": "41c2cd63-402b-4d6a-882c-55d1cb9b6916"
      },
      "source": [
        "df.income.value_counts()"
      ],
      "execution_count": 17,
      "outputs": [
        {
          "output_type": "execute_result",
          "data": {
            "text/plain": [
              "<=50K            22665\n",
              ">50K              5871\n",
              "more than 50k      923\n",
              "over 50k           730\n",
              "Name: income, dtype: int64"
            ]
          },
          "metadata": {},
          "execution_count": 17
        }
      ]
    },
    {
      "cell_type": "code",
      "metadata": {
        "id": "_zv8k_LrOhFP"
      },
      "source": [
        "more_than = df[df.income.isin([\"more than 50k\", \"over 50k\"])].index"
      ],
      "execution_count": 18,
      "outputs": []
    },
    {
      "cell_type": "code",
      "metadata": {
        "id": "X1-2npyaPLLF"
      },
      "source": [
        "df.loc[more_than, \"income\"] = \">50K\""
      ],
      "execution_count": 19,
      "outputs": []
    },
    {
      "cell_type": "code",
      "metadata": {
        "colab": {
          "base_uri": "https://localhost:8080/"
        },
        "id": "KKaqZB6ePWVA",
        "outputId": "f53ddcd5-6b57-4145-ac6d-9c705a740084"
      },
      "source": [
        "df.income.value_counts()"
      ],
      "execution_count": 20,
      "outputs": [
        {
          "output_type": "execute_result",
          "data": {
            "text/plain": [
              "<=50K    22665\n",
              ">50K      7524\n",
              "Name: income, dtype: int64"
            ]
          },
          "metadata": {},
          "execution_count": 20
        }
      ]
    },
    {
      "cell_type": "markdown",
      "metadata": {
        "id": "2pCAl89MVO77"
      },
      "source": [
        "**Drop social number. How many column are there left?** \n",
        "\n",
        "Note: Replace the old dataframe with the new clean one"
      ]
    },
    {
      "cell_type": "code",
      "metadata": {
        "id": "oa4fpYsOVO78"
      },
      "source": [
        "df = df.drop(\"social_number\",axis=1)"
      ],
      "execution_count": 21,
      "outputs": []
    },
    {
      "cell_type": "code",
      "metadata": {
        "colab": {
          "base_uri": "https://localhost:8080/"
        },
        "id": "YJzZFBHqVO8B",
        "outputId": "706e8e2c-5a45-44a9-ca03-759e952eb953"
      },
      "source": [
        "df.shape"
      ],
      "execution_count": 22,
      "outputs": [
        {
          "output_type": "execute_result",
          "data": {
            "text/plain": [
              "(30189, 14)"
            ]
          },
          "metadata": {},
          "execution_count": 22
        }
      ]
    },
    {
      "cell_type": "markdown",
      "metadata": {
        "id": "NIa2lzQdrTvU"
      },
      "source": [
        "# Exploratory Data Analysis"
      ]
    },
    {
      "cell_type": "markdown",
      "metadata": {
        "id": "IEZrs0iPxa0k"
      },
      "source": [
        "## Univariate"
      ]
    },
    {
      "cell_type": "markdown",
      "metadata": {
        "id": "KK48P-IkVO8H"
      },
      "source": [
        "** Describe Age**"
      ]
    },
    {
      "cell_type": "code",
      "metadata": {
        "id": "AbYJAbVrVO8I",
        "outputId": "0a03a80b-5383-44cc-a7d7-3c004f171e37",
        "colab": {
          "base_uri": "https://localhost:8080/"
        }
      },
      "source": [
        "df.age.describe()"
      ],
      "execution_count": 28,
      "outputs": [
        {
          "output_type": "execute_result",
          "data": {
            "text/plain": [
              "count    30189.000000\n",
              "mean        38.441949\n",
              "std         13.135234\n",
              "min         17.000000\n",
              "25%         28.000000\n",
              "50%         37.000000\n",
              "75%         47.000000\n",
              "max         90.000000\n",
              "Name: age, dtype: float64"
            ]
          },
          "metadata": {},
          "execution_count": 28
        }
      ]
    },
    {
      "cell_type": "markdown",
      "metadata": {
        "id": "lcMZ7kIYVO8P"
      },
      "source": [
        "**Determine the mean of the column \"hours.per.week\"**"
      ]
    },
    {
      "cell_type": "code",
      "metadata": {
        "id": "GS6ir90eVO8Q",
        "outputId": "6d47d581-e7d6-4d59-e8e5-41f0ae32f148",
        "colab": {
          "base_uri": "https://localhost:8080/"
        }
      },
      "source": [
        "df.hours_per_week.mean()"
      ],
      "execution_count": 31,
      "outputs": [
        {
          "output_type": "execute_result",
          "data": {
            "text/plain": [
              "40.93143197853523"
            ]
          },
          "metadata": {},
          "execution_count": 31
        }
      ]
    },
    {
      "cell_type": "code",
      "metadata": {
        "id": "_LrwZXC9VO8W",
        "outputId": "65d0d9b7-8743-4c44-a219-30edce183b50",
        "colab": {
          "base_uri": "https://localhost:8080/"
        }
      },
      "source": [
        "df.hours_per_week.median()"
      ],
      "execution_count": 32,
      "outputs": [
        {
          "output_type": "execute_result",
          "data": {
            "text/plain": [
              "40.0"
            ]
          },
          "metadata": {},
          "execution_count": 32
        }
      ]
    },
    {
      "cell_type": "code",
      "metadata": {
        "id": "o2u_7HEQVO8b",
        "outputId": "cb548c8b-af30-43fa-9042-444385e746c3",
        "colab": {
          "base_uri": "https://localhost:8080/"
        }
      },
      "source": [
        "df.columns"
      ],
      "execution_count": 33,
      "outputs": [
        {
          "output_type": "execute_result",
          "data": {
            "text/plain": [
              "Index(['age', 'workclass', 'education', 'education_num', 'marital_status',\n",
              "       'occupation', 'relationship', 'race', 'sex', 'capital_gain',\n",
              "       'capital_loss', 'hours_per_week', 'native_country', 'income'],\n",
              "      dtype='object')"
            ]
          },
          "metadata": {},
          "execution_count": 33
        }
      ]
    },
    {
      "cell_type": "code",
      "metadata": {
        "id": "z_7V3L8FVO8g"
      },
      "source": [
        ""
      ],
      "execution_count": 22,
      "outputs": []
    },
    {
      "cell_type": "code",
      "metadata": {
        "id": "oe-e7XOVVO8n"
      },
      "source": [
        ""
      ],
      "execution_count": 22,
      "outputs": []
    },
    {
      "cell_type": "code",
      "metadata": {
        "id": "90iHYfZzVO8t"
      },
      "source": [
        ""
      ],
      "execution_count": 22,
      "outputs": []
    },
    {
      "cell_type": "markdown",
      "metadata": {
        "id": "cymLXGqwVO8x"
      },
      "source": [
        "**What is the diference between mean and median on capital gain?**"
      ]
    },
    {
      "cell_type": "code",
      "metadata": {
        "id": "qm3MmEKOVO8y",
        "outputId": "a63f9887-a6b7-44a7-ef9b-4872693cd1bc",
        "colab": {
          "base_uri": "https://localhost:8080/"
        }
      },
      "source": [
        "df.capital_gain.mean() - df.capital_gain.median()"
      ],
      "execution_count": 35,
      "outputs": [
        {
          "output_type": "execute_result",
          "data": {
            "text/plain": [
              "1092.778859849614"
            ]
          },
          "metadata": {},
          "execution_count": 35
        }
      ]
    },
    {
      "cell_type": "markdown",
      "metadata": {
        "id": "KlKisXyIVO84"
      },
      "source": [
        "**How many unique workclasses?** "
      ]
    },
    {
      "cell_type": "code",
      "metadata": {
        "id": "tB4zb0csVO85",
        "outputId": "936d6bdd-43e3-4d5d-d711-f5cb5e767a9d",
        "colab": {
          "base_uri": "https://localhost:8080/"
        }
      },
      "source": [
        "df.workclass.unique()"
      ],
      "execution_count": 36,
      "outputs": [
        {
          "output_type": "execute_result",
          "data": {
            "text/plain": [
              "array(['Private', 'State-gov', 'Federal-gov', 'Self-emp-not-inc',\n",
              "       'Self-emp-inc', 'Local-gov', 'Without-pay'], dtype=object)"
            ]
          },
          "metadata": {},
          "execution_count": 36
        }
      ]
    },
    {
      "cell_type": "markdown",
      "metadata": {
        "id": "xk6-7vVrVO89"
      },
      "source": [
        "**How many different types of education are there?** "
      ]
    },
    {
      "cell_type": "code",
      "metadata": {
        "id": "3Fjb1FEGVO8_",
        "outputId": "2d2b1fe7-a3f4-4f1e-f24a-e8c8205b0b7e",
        "colab": {
          "base_uri": "https://localhost:8080/"
        }
      },
      "source": [
        "df.education.nunique()"
      ],
      "execution_count": 37,
      "outputs": [
        {
          "output_type": "execute_result",
          "data": {
            "text/plain": [
              "16"
            ]
          },
          "metadata": {},
          "execution_count": 37
        }
      ]
    },
    {
      "cell_type": "code",
      "source": [
        "len(df.education.unique())"
      ],
      "metadata": {
        "id": "zYvnThWBui1Y",
        "outputId": "ae02f2d2-d07a-49cf-ffbd-fc3c105cebec",
        "colab": {
          "base_uri": "https://localhost:8080/"
        }
      },
      "execution_count": 39,
      "outputs": [
        {
          "output_type": "execute_result",
          "data": {
            "text/plain": [
              "16"
            ]
          },
          "metadata": {},
          "execution_count": 39
        }
      ]
    },
    {
      "cell_type": "code",
      "source": [
        "df.education.value_counts()"
      ],
      "metadata": {
        "id": "zA19tPm0u6-v",
        "outputId": "1d95cd26-db37-4373-cce7-8022e65e6359",
        "colab": {
          "base_uri": "https://localhost:8080/"
        }
      },
      "execution_count": 40,
      "outputs": [
        {
          "output_type": "execute_result",
          "data": {
            "text/plain": [
              "HS-grad         9846\n",
              "Some-college    6685\n",
              "Bachelors       5052\n",
              "Masters         1627\n",
              "Assoc-voc       1307\n",
              "11th            1049\n",
              "Assoc-acdm      1009\n",
              "10th             820\n",
              "7th-8th          557\n",
              "Prof-school      542\n",
              "9th              456\n",
              "12th             378\n",
              "Doctorate        376\n",
              "5th-6th          288\n",
              "1st-4th          151\n",
              "Preschool         46\n",
              "Name: education, dtype: int64"
            ]
          },
          "metadata": {},
          "execution_count": 40
        }
      ]
    },
    {
      "cell_type": "markdown",
      "metadata": {
        "id": "OmV8MO52VO9D"
      },
      "source": [
        "**How many people are divorced?**"
      ]
    },
    {
      "cell_type": "code",
      "metadata": {
        "id": "xGl7pa7rVO9E",
        "outputId": "ebae8a6d-7eb6-44ee-aff5-8ebf97879582",
        "colab": {
          "base_uri": "https://localhost:8080/"
        }
      },
      "source": [
        "df.marital_status.value_counts()"
      ],
      "execution_count": 42,
      "outputs": [
        {
          "output_type": "execute_result",
          "data": {
            "text/plain": [
              "Married-civ-spouse       14085\n",
              "Never-married             9730\n",
              "Divorced                  4215\n",
              "Separated                  940\n",
              "Widowed                    827\n",
              "Married-spouse-absent      371\n",
              "Married-AF-spouse           21\n",
              "Name: marital_status, dtype: int64"
            ]
          },
          "metadata": {},
          "execution_count": 42
        }
      ]
    },
    {
      "cell_type": "code",
      "metadata": {
        "id": "fthgXZZhntWU",
        "outputId": "333077f4-cc21-4cf5-abb0-079295ad9473",
        "colab": {
          "base_uri": "https://localhost:8080/"
        }
      },
      "source": [
        "df[df.marital_status == \"Divorced\"].shape[0]"
      ],
      "execution_count": 45,
      "outputs": [
        {
          "output_type": "execute_result",
          "data": {
            "text/plain": [
              "4215"
            ]
          },
          "metadata": {},
          "execution_count": 45
        }
      ]
    },
    {
      "cell_type": "markdown",
      "metadata": {
        "id": "FFrTShuxVO9J"
      },
      "source": [
        "**Histogram Age** "
      ]
    },
    {
      "cell_type": "code",
      "metadata": {
        "id": "SmD1hbwDVO9L"
      },
      "source": [
        ""
      ],
      "execution_count": 22,
      "outputs": []
    },
    {
      "cell_type": "markdown",
      "metadata": {
        "id": "U7S3XZgiVO9O"
      },
      "source": [
        "**Create a countplot for martial status** "
      ]
    },
    {
      "cell_type": "code",
      "metadata": {
        "id": "62tcqnRLVO9P"
      },
      "source": [
        ""
      ],
      "execution_count": 22,
      "outputs": []
    },
    {
      "cell_type": "code",
      "metadata": {
        "id": "Er05d6ggVO9V"
      },
      "source": [
        ""
      ],
      "execution_count": 22,
      "outputs": []
    },
    {
      "cell_type": "markdown",
      "metadata": {
        "id": "Lw9hK7lBxiDc"
      },
      "source": [
        "## Bivariate Analysis"
      ]
    },
    {
      "cell_type": "markdown",
      "metadata": {
        "id": "3qZ2tEMWVO9Z"
      },
      "source": [
        "**How many Salesperson make a capital gain of over 80000?**"
      ]
    },
    {
      "cell_type": "code",
      "metadata": {
        "id": "wBf9hIeFVO9Z"
      },
      "source": [
        ""
      ],
      "execution_count": 22,
      "outputs": []
    },
    {
      "cell_type": "code",
      "metadata": {
        "id": "oTYyQPiDVO9g"
      },
      "source": [
        ""
      ],
      "execution_count": 22,
      "outputs": []
    },
    {
      "cell_type": "markdown",
      "metadata": {
        "id": "7XW1ekfwVO9l"
      },
      "source": [
        "**How many rows have a capital loss and capital gain bigger than 0?** "
      ]
    },
    {
      "cell_type": "code",
      "metadata": {
        "id": "IXHRA7qAVO9o"
      },
      "source": [
        ""
      ],
      "execution_count": 22,
      "outputs": []
    },
    {
      "cell_type": "markdown",
      "metadata": {
        "id": "Isk3O27rVO9s"
      },
      "source": [
        "**Answer: 1**"
      ]
    },
    {
      "cell_type": "markdown",
      "metadata": {
        "id": "zEx9ltpdVO9t"
      },
      "source": [
        "**Create a feature which combines capital_loss and capital_gain**"
      ]
    },
    {
      "cell_type": "code",
      "metadata": {
        "id": "XXdo0XDkVO9u"
      },
      "source": [
        ""
      ],
      "execution_count": 22,
      "outputs": []
    },
    {
      "cell_type": "markdown",
      "metadata": {
        "id": "OOQqKLPYVO9x"
      },
      "source": [
        "**What is the mean capital?**"
      ]
    },
    {
      "cell_type": "code",
      "metadata": {
        "id": "ejmKr-b0VO9x"
      },
      "source": [
        ""
      ],
      "execution_count": 22,
      "outputs": []
    },
    {
      "cell_type": "markdown",
      "metadata": {
        "id": "e_aNkjoJVO91"
      },
      "source": [
        "**What is the median capital?**"
      ]
    },
    {
      "cell_type": "code",
      "metadata": {
        "id": "62ynnH6KVO92"
      },
      "source": [
        ""
      ],
      "execution_count": 22,
      "outputs": []
    },
    {
      "cell_type": "markdown",
      "metadata": {
        "id": "AD5hbT90VO95"
      },
      "source": [
        "**How many people have a capital of 0?** "
      ]
    },
    {
      "cell_type": "code",
      "metadata": {
        "id": "EV2FeeWlVO97"
      },
      "source": [
        ""
      ],
      "execution_count": 22,
      "outputs": []
    },
    {
      "cell_type": "markdown",
      "metadata": {
        "id": "4U8IQGjNVO9_"
      },
      "source": [
        "**What is the percentage of people which make a capital gain of over 10000?**"
      ]
    },
    {
      "cell_type": "code",
      "metadata": {
        "id": "ithS7yNqVO9_"
      },
      "source": [
        ""
      ],
      "execution_count": 22,
      "outputs": []
    },
    {
      "cell_type": "code",
      "metadata": {
        "id": "BFL7dlctVO-D"
      },
      "source": [
        ""
      ],
      "execution_count": 22,
      "outputs": []
    },
    {
      "cell_type": "code",
      "metadata": {
        "id": "PP_YFJzGVO-H"
      },
      "source": [
        ""
      ],
      "execution_count": 22,
      "outputs": []
    },
    {
      "cell_type": "markdown",
      "metadata": {
        "id": "sOogNT8iVO-M"
      },
      "source": [
        "**What is the occupation of the biggest capital loss?** Q\n",
        "\n",
        "Tip: Use min() or max()"
      ]
    },
    {
      "cell_type": "code",
      "metadata": {
        "id": "i0qNVPKeVO-O"
      },
      "source": [
        ""
      ],
      "execution_count": 22,
      "outputs": []
    },
    {
      "cell_type": "markdown",
      "metadata": {
        "id": "wxlkGGvjVO-S"
      },
      "source": [
        "**What is the ratio between <=50K income and >50K?**"
      ]
    },
    {
      "cell_type": "code",
      "metadata": {
        "id": "DWvSkoDdVO-S"
      },
      "source": [
        ""
      ],
      "execution_count": 22,
      "outputs": []
    },
    {
      "cell_type": "code",
      "metadata": {
        "id": "W7mqZYBmtnyD"
      },
      "source": [
        ""
      ],
      "execution_count": 22,
      "outputs": []
    },
    {
      "cell_type": "markdown",
      "metadata": {
        "id": "_b4XOsNYVO-V"
      },
      "source": [
        "**How many people with a income >50K have a \n",
        "capital loss?**"
      ]
    },
    {
      "cell_type": "code",
      "metadata": {
        "id": "KtuTbwPBVO-W"
      },
      "source": [
        ""
      ],
      "execution_count": 22,
      "outputs": []
    },
    {
      "cell_type": "markdown",
      "metadata": {
        "id": "idLntvASVO-c"
      },
      "source": [
        "**How manydivorced people with a income >50K have a capital gain?**"
      ]
    },
    {
      "cell_type": "code",
      "metadata": {
        "id": "lpaTGeG2VO-d"
      },
      "source": [
        ""
      ],
      "execution_count": 22,
      "outputs": []
    },
    {
      "cell_type": "markdown",
      "metadata": {
        "id": "-lIk7lpOVO-h"
      },
      "source": [
        "**Do a scatter plot between age and capital**"
      ]
    },
    {
      "cell_type": "code",
      "metadata": {
        "id": "-UyefLWVVO-h"
      },
      "source": [
        ""
      ],
      "execution_count": 22,
      "outputs": []
    },
    {
      "cell_type": "markdown",
      "metadata": {
        "id": "I9DfmobaVO-n"
      },
      "source": [
        "**This look unreadable. Calculate the average capital by age** "
      ]
    },
    {
      "cell_type": "code",
      "metadata": {
        "id": "_jsj3C8lVO-n"
      },
      "source": [
        ""
      ],
      "execution_count": 22,
      "outputs": []
    },
    {
      "cell_type": "code",
      "metadata": {
        "id": "cCsB0BwOwwt9"
      },
      "source": [
        ""
      ],
      "execution_count": 22,
      "outputs": []
    },
    {
      "cell_type": "markdown",
      "metadata": {
        "id": "M-_w3l_CVO-r"
      },
      "source": [
        "**Calculate the correlation on the whole dataframe**"
      ]
    },
    {
      "cell_type": "code",
      "metadata": {
        "id": "9Sx2jZFlVO-s"
      },
      "source": [
        ""
      ],
      "execution_count": 22,
      "outputs": []
    },
    {
      "cell_type": "markdown",
      "metadata": {
        "id": "Q5NxLJ06VO-z"
      },
      "source": [
        "**Do men make more money than women?**"
      ]
    }
  ]
}