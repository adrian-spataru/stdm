{
  "nbformat": 4,
  "nbformat_minor": 0,
  "metadata": {
    "colab": {
      "name": "week_2.ipynb",
      "provenance": [],
      "collapsed_sections": [
        "CplL4wIgVO51",
        "A9iEd7Udq_EK",
        "NIa2lzQdrTvU",
        "IEZrs0iPxa0k",
        "Lw9hK7lBxiDc"
      ]
    },
    "kernelspec": {
      "display_name": "Python 3",
      "language": "python",
      "name": "python3"
    },
    "language_info": {
      "codemirror_mode": {
        "name": "ipython",
        "version": 3
      },
      "file_extension": ".py",
      "mimetype": "text/x-python",
      "name": "python",
      "nbconvert_exporter": "python",
      "pygments_lexer": "ipython3",
      "version": "3.7.7"
    }
  },
  "cells": [
    {
      "cell_type": "markdown",
      "metadata": {
        "id": "CplL4wIgVO51"
      },
      "source": [
        "# Load Libraries & Data"
      ]
    },
    {
      "cell_type": "code",
      "metadata": {
        "id": "vko633A8fpn8",
        "outputId": "1d290de9-d975-4033-d3ca-4585fc7ab2d5",
        "colab": {
          "base_uri": "https://localhost:8080/"
        }
      },
      "source": [
        "!wget https://www.spataru.at/students/course_files/week2/adult_rev2.csv"
      ],
      "execution_count": 24,
      "outputs": [
        {
          "output_type": "stream",
          "text": [
            "--2020-11-03 07:53:17--  https://www.spataru.at/students/course_files/week2/adult_rev2.csv\n",
            "Resolving www.spataru.at (www.spataru.at)... 81.19.159.92\n",
            "Connecting to www.spataru.at (www.spataru.at)|81.19.159.92|:443... connected.\n",
            "HTTP request sent, awaiting response... 200 OK\n",
            "Length: 3595716 (3.4M) [text/csv]\n",
            "Saving to: ‘adult_rev2.csv.2’\n",
            "\n",
            "adult_rev2.csv.2    100%[===================>]   3.43M  3.65MB/s    in 0.9s    \n",
            "\n",
            "2020-11-03 07:53:18 (3.65 MB/s) - ‘adult_rev2.csv.2’ saved [3595716/3595716]\n",
            "\n"
          ],
          "name": "stdout"
        }
      ]
    },
    {
      "cell_type": "code",
      "metadata": {
        "id": "fjV3U8nnVO53"
      },
      "source": [
        "import pandas as pd\n",
        "import numpy as np\n",
        "import plotly.express as px\n",
        "from plotnine import ggplot, geom_point, aes, stat_smooth, facet_wrap"
      ],
      "execution_count": 25,
      "outputs": []
    },
    {
      "cell_type": "markdown",
      "metadata": {
        "id": "yDgpVjuKVO6N"
      },
      "source": [
        "**Load the data in a variable named df**\n",
        "\n",
        "Tip: pd.read_csv()\n",
        "\n",
        "\n",
        "\n",
        "\n",
        "The file path is \"adult_rev2.csv\""
      ]
    },
    {
      "cell_type": "code",
      "metadata": {
        "id": "Uffdc1_xVO6T"
      },
      "source": [
        "df = pd.read_csv(\"adult_rev2.csv\")"
      ],
      "execution_count": 26,
      "outputs": []
    },
    {
      "cell_type": "markdown",
      "metadata": {
        "id": "Ro2dNddOVO6c"
      },
      "source": [
        "**How many rows and columns does the data have?**\n",
        "\n",
        "df.shape > (rows,columns)"
      ]
    },
    {
      "cell_type": "code",
      "metadata": {
        "id": "Jpk4lZKrVO6f",
        "outputId": "102752a7-1456-4491-eb0f-407d54a46be0",
        "colab": {
          "base_uri": "https://localhost:8080/"
        }
      },
      "source": [
        "df.shape"
      ],
      "execution_count": 27,
      "outputs": [
        {
          "output_type": "execute_result",
          "data": {
            "text/plain": [
              "(32761, 15)"
            ]
          },
          "metadata": {
            "tags": []
          },
          "execution_count": 27
        }
      ]
    },
    {
      "cell_type": "markdown",
      "metadata": {
        "id": "4Qeky_hKVO6n"
      },
      "source": [
        "**Show the first 5 rows of the data**"
      ]
    },
    {
      "cell_type": "code",
      "metadata": {
        "id": "XAeosoXlVO6o",
        "outputId": "b9feb000-f40a-4f29-8bc7-b62e696bc0fd",
        "colab": {
          "base_uri": "https://localhost:8080/",
          "height": 295
        }
      },
      "source": [
        "df.head()"
      ],
      "execution_count": 28,
      "outputs": [
        {
          "output_type": "execute_result",
          "data": {
            "text/html": [
              "<div>\n",
              "<style scoped>\n",
              "    .dataframe tbody tr th:only-of-type {\n",
              "        vertical-align: middle;\n",
              "    }\n",
              "\n",
              "    .dataframe tbody tr th {\n",
              "        vertical-align: top;\n",
              "    }\n",
              "\n",
              "    .dataframe thead th {\n",
              "        text-align: right;\n",
              "    }\n",
              "</style>\n",
              "<table border=\"1\" class=\"dataframe\">\n",
              "  <thead>\n",
              "    <tr style=\"text-align: right;\">\n",
              "      <th></th>\n",
              "      <th>social_number</th>\n",
              "      <th>age</th>\n",
              "      <th>workclass</th>\n",
              "      <th>education</th>\n",
              "      <th>education_num</th>\n",
              "      <th>marital_status</th>\n",
              "      <th>occupation</th>\n",
              "      <th>relationship</th>\n",
              "      <th>race</th>\n",
              "      <th>sex</th>\n",
              "      <th>capital_gain</th>\n",
              "      <th>capital_loss</th>\n",
              "      <th>hours_per_week</th>\n",
              "      <th>native_country</th>\n",
              "      <th>income</th>\n",
              "    </tr>\n",
              "  </thead>\n",
              "  <tbody>\n",
              "    <tr>\n",
              "      <th>0</th>\n",
              "      <td>717703</td>\n",
              "      <td>90</td>\n",
              "      <td>NaN</td>\n",
              "      <td>HS-grad</td>\n",
              "      <td>9</td>\n",
              "      <td>Widowed</td>\n",
              "      <td>NaN</td>\n",
              "      <td>Not-in-family</td>\n",
              "      <td>White</td>\n",
              "      <td>Female</td>\n",
              "      <td>0</td>\n",
              "      <td>4356</td>\n",
              "      <td>40</td>\n",
              "      <td>United-States</td>\n",
              "      <td>&lt;=50K</td>\n",
              "    </tr>\n",
              "    <tr>\n",
              "      <th>1</th>\n",
              "      <td>931778</td>\n",
              "      <td>82</td>\n",
              "      <td>Private</td>\n",
              "      <td>HS-grad</td>\n",
              "      <td>9</td>\n",
              "      <td>Widowed</td>\n",
              "      <td>Exec-managerial</td>\n",
              "      <td>Not-in-family</td>\n",
              "      <td>White</td>\n",
              "      <td>Female</td>\n",
              "      <td>0</td>\n",
              "      <td>4356</td>\n",
              "      <td>18</td>\n",
              "      <td>United-States</td>\n",
              "      <td>&lt;=50K</td>\n",
              "    </tr>\n",
              "    <tr>\n",
              "      <th>2</th>\n",
              "      <td>176143</td>\n",
              "      <td>66</td>\n",
              "      <td>NaN</td>\n",
              "      <td>Some-college</td>\n",
              "      <td>10</td>\n",
              "      <td>Widowed</td>\n",
              "      <td>NaN</td>\n",
              "      <td>Unmarried</td>\n",
              "      <td>Black</td>\n",
              "      <td>Female</td>\n",
              "      <td>0</td>\n",
              "      <td>4356</td>\n",
              "      <td>40</td>\n",
              "      <td>United-States</td>\n",
              "      <td>&lt;=50K</td>\n",
              "    </tr>\n",
              "    <tr>\n",
              "      <th>3</th>\n",
              "      <td>953541</td>\n",
              "      <td>54</td>\n",
              "      <td>Private</td>\n",
              "      <td>7th-8th</td>\n",
              "      <td>4</td>\n",
              "      <td>Divorced</td>\n",
              "      <td>Machine-op-inspct</td>\n",
              "      <td>Unmarried</td>\n",
              "      <td>White</td>\n",
              "      <td>Female</td>\n",
              "      <td>0</td>\n",
              "      <td>3900</td>\n",
              "      <td>40</td>\n",
              "      <td>United-States</td>\n",
              "      <td>&lt;=50K</td>\n",
              "    </tr>\n",
              "    <tr>\n",
              "      <th>4</th>\n",
              "      <td>523037</td>\n",
              "      <td>41</td>\n",
              "      <td>Private</td>\n",
              "      <td>Some-college</td>\n",
              "      <td>10</td>\n",
              "      <td>Separated</td>\n",
              "      <td>Prof-specialty</td>\n",
              "      <td>Own-child</td>\n",
              "      <td>White</td>\n",
              "      <td>Female</td>\n",
              "      <td>0</td>\n",
              "      <td>3900</td>\n",
              "      <td>40</td>\n",
              "      <td>United-States</td>\n",
              "      <td>&lt;=50K</td>\n",
              "    </tr>\n",
              "  </tbody>\n",
              "</table>\n",
              "</div>"
            ],
            "text/plain": [
              "   social_number  age workclass  ... hours_per_week  native_country income\n",
              "0         717703   90       NaN  ...             40   United-States  <=50K\n",
              "1         931778   82   Private  ...             18   United-States  <=50K\n",
              "2         176143   66       NaN  ...             40   United-States  <=50K\n",
              "3         953541   54   Private  ...             40   United-States  <=50K\n",
              "4         523037   41   Private  ...             40   United-States  <=50K\n",
              "\n",
              "[5 rows x 15 columns]"
            ]
          },
          "metadata": {
            "tags": []
          },
          "execution_count": 28
        }
      ]
    },
    {
      "cell_type": "markdown",
      "metadata": {
        "id": "A9iEd7Udq_EK"
      },
      "source": [
        "# Data Cleaning"
      ]
    },
    {
      "cell_type": "markdown",
      "metadata": {
        "id": "2sgt92ctVO6w"
      },
      "source": [
        "**Drop the duplicates in the data**\n",
        "\n",
        "Note: replace the current df (dataframe) with the clean df"
      ]
    },
    {
      "cell_type": "code",
      "metadata": {
        "id": "Jg-h4rqTVO6x"
      },
      "source": [
        "df = df.drop_duplicates()"
      ],
      "execution_count": 29,
      "outputs": []
    },
    {
      "cell_type": "markdown",
      "metadata": {
        "id": "o4yElj5GVO66"
      },
      "source": [
        "**How many rows are left?**"
      ]
    },
    {
      "cell_type": "code",
      "metadata": {
        "id": "NhAnLbwaVO68",
        "outputId": "9b392701-3904-410a-8089-c8fe79a9312e",
        "colab": {
          "base_uri": "https://localhost:8080/"
        }
      },
      "source": [
        "df.shape"
      ],
      "execution_count": 30,
      "outputs": [
        {
          "output_type": "execute_result",
          "data": {
            "text/plain": [
              "(32589, 15)"
            ]
          },
          "metadata": {
            "tags": []
          },
          "execution_count": 30
        }
      ]
    },
    {
      "cell_type": "markdown",
      "metadata": {
        "id": "7Q6ItP3xVO7C"
      },
      "source": [
        "**How many values are there in missing in the column workclass?**"
      ]
    },
    {
      "cell_type": "code",
      "metadata": {
        "id": "qGHv1Pl9VO7E",
        "outputId": "09685abc-887f-418d-eabb-78966c11d7f0",
        "colab": {
          "base_uri": "https://localhost:8080/"
        }
      },
      "source": [
        "df.workclass.isna().sum()"
      ],
      "execution_count": 31,
      "outputs": [
        {
          "output_type": "execute_result",
          "data": {
            "text/plain": [
              "1837"
            ]
          },
          "metadata": {
            "tags": []
          },
          "execution_count": 31
        }
      ]
    },
    {
      "cell_type": "markdown",
      "metadata": {
        "id": "rUKP1BauVO7I"
      },
      "source": [
        "**Drop all missing values**\n",
        "\n",
        "Note: replace the current df (dataframe) with the clean df"
      ]
    },
    {
      "cell_type": "code",
      "metadata": {
        "id": "rcbLu1tqVO7L"
      },
      "source": [
        "df = df.dropna()"
      ],
      "execution_count": 32,
      "outputs": []
    },
    {
      "cell_type": "markdown",
      "metadata": {
        "id": "SgZinmnwVO7Q"
      },
      "source": [
        "**How many rows are left?**"
      ]
    },
    {
      "cell_type": "code",
      "metadata": {
        "id": "kETlesZFVO7S",
        "outputId": "59f998c3-da76-4eef-b4db-346c4e7b6a56",
        "colab": {
          "base_uri": "https://localhost:8080/"
        }
      },
      "source": [
        "df.shape"
      ],
      "execution_count": 33,
      "outputs": [
        {
          "output_type": "execute_result",
          "data": {
            "text/plain": [
              "(30189, 15)"
            ]
          },
          "metadata": {
            "tags": []
          },
          "execution_count": 33
        }
      ]
    },
    {
      "cell_type": "markdown",
      "metadata": {
        "id": "P8zxk9xCVO7Z"
      },
      "source": [
        "**Is the income column inconsistent? Then fix it**  "
      ]
    },
    {
      "cell_type": "code",
      "metadata": {
        "id": "sVKTu0TfVO7a",
        "outputId": "50f0e301-9773-4ed1-fc1b-659abc910a1f",
        "colab": {
          "base_uri": "https://localhost:8080/"
        }
      },
      "source": [
        "df.income.value_counts()"
      ],
      "execution_count": 34,
      "outputs": [
        {
          "output_type": "execute_result",
          "data": {
            "text/plain": [
              "<=50K            21521\n",
              ">50K              5871\n",
              "less than 50k     1144\n",
              "more than 50k      923\n",
              "over 50k           730\n",
              "Name: income, dtype: int64"
            ]
          },
          "metadata": {
            "tags": []
          },
          "execution_count": 34
        }
      ]
    },
    {
      "cell_type": "code",
      "metadata": {
        "id": "QaWalI0dVO7h",
        "outputId": "51b00790-178d-41d0-90e9-9d72bd2971f9",
        "colab": {
          "base_uri": "https://localhost:8080/"
        }
      },
      "source": [
        "less_than = df[df.income == 'less than 50k'].index\n",
        "less_than"
      ],
      "execution_count": 35,
      "outputs": [
        {
          "output_type": "execute_result",
          "data": {
            "text/plain": [
              "Int64Index([    5,    22,   125,   207,   247,   322,   335,   341,   992,\n",
              "             1041,\n",
              "            ...\n",
              "            32403, 32406, 32411, 32429, 32471, 32473, 32595, 32616, 32624,\n",
              "            32748],\n",
              "           dtype='int64', length=1144)"
            ]
          },
          "metadata": {
            "tags": []
          },
          "execution_count": 35
        }
      ]
    },
    {
      "cell_type": "code",
      "metadata": {
        "id": "ZCvCQPQnVO7p"
      },
      "source": [
        "df.loc[less_than, 'income'] = '<=50K'\n"
      ],
      "execution_count": 36,
      "outputs": []
    },
    {
      "cell_type": "code",
      "metadata": {
        "id": "iq4mPCxMVO7u"
      },
      "source": [
        "more_than = df[df.income.isin(['over 50k', 'more than 50k'])].index"
      ],
      "execution_count": 37,
      "outputs": []
    },
    {
      "cell_type": "code",
      "metadata": {
        "id": "jgNwcPSlVO71"
      },
      "source": [
        "df.loc[more_than, 'income'] = '>50K'\n"
      ],
      "execution_count": 38,
      "outputs": []
    },
    {
      "cell_type": "code",
      "metadata": {
        "id": "0MFgLBvrGE_v",
        "outputId": "20b7b728-914a-4197-94ef-b53265b75a1f",
        "colab": {
          "base_uri": "https://localhost:8080/"
        }
      },
      "source": [
        "df.income.value_counts()"
      ],
      "execution_count": 39,
      "outputs": [
        {
          "output_type": "execute_result",
          "data": {
            "text/plain": [
              "<=50K    22665\n",
              ">50K      7524\n",
              "Name: income, dtype: int64"
            ]
          },
          "metadata": {
            "tags": []
          },
          "execution_count": 39
        }
      ]
    },
    {
      "cell_type": "markdown",
      "metadata": {
        "id": "2pCAl89MVO77"
      },
      "source": [
        "**Drop social number. How many column are there left?** \n",
        "\n",
        "Note: Replace the old dataframe with the new clean one"
      ]
    },
    {
      "cell_type": "code",
      "metadata": {
        "id": "oa4fpYsOVO78"
      },
      "source": [
        "df =  df.drop([\"social_number\"], axis=1)"
      ],
      "execution_count": 40,
      "outputs": []
    },
    {
      "cell_type": "code",
      "metadata": {
        "id": "YJzZFBHqVO8B",
        "outputId": "abd8dc22-d131-4a9c-e7a8-defebd124ef4",
        "colab": {
          "base_uri": "https://localhost:8080/"
        }
      },
      "source": [
        "df.shape"
      ],
      "execution_count": 41,
      "outputs": [
        {
          "output_type": "execute_result",
          "data": {
            "text/plain": [
              "(30189, 14)"
            ]
          },
          "metadata": {
            "tags": []
          },
          "execution_count": 41
        }
      ]
    },
    {
      "cell_type": "markdown",
      "metadata": {
        "id": "NIa2lzQdrTvU"
      },
      "source": [
        "# Exploratory Data Analysis"
      ]
    },
    {
      "cell_type": "markdown",
      "metadata": {
        "id": "IEZrs0iPxa0k"
      },
      "source": [
        "## Univariate"
      ]
    },
    {
      "cell_type": "markdown",
      "metadata": {
        "id": "KK48P-IkVO8H"
      },
      "source": [
        "**Describe Age**"
      ]
    },
    {
      "cell_type": "code",
      "metadata": {
        "id": "AbYJAbVrVO8I",
        "outputId": "a853b272-ca43-4f45-809e-1dcf922a79a4",
        "colab": {
          "base_uri": "https://localhost:8080/"
        }
      },
      "source": [
        "df.age.describe()"
      ],
      "execution_count": 44,
      "outputs": [
        {
          "output_type": "execute_result",
          "data": {
            "text/plain": [
              "count    30189.000000\n",
              "mean        38.441949\n",
              "std         13.135234\n",
              "min         17.000000\n",
              "25%         28.000000\n",
              "50%         37.000000\n",
              "75%         47.000000\n",
              "max         90.000000\n",
              "Name: age, dtype: float64"
            ]
          },
          "metadata": {
            "tags": []
          },
          "execution_count": 44
        }
      ]
    },
    {
      "cell_type": "markdown",
      "metadata": {
        "id": "lcMZ7kIYVO8P"
      },
      "source": [
        "**Determine the mean of the column \"hours.per.week\"**"
      ]
    },
    {
      "cell_type": "code",
      "metadata": {
        "id": "vO48BiOfIYGd",
        "outputId": "4e9449fb-15b7-43a3-f194-fca6c3b7a4a2",
        "colab": {
          "base_uri": "https://localhost:8080/"
        }
      },
      "source": [
        "df.columns"
      ],
      "execution_count": 46,
      "outputs": [
        {
          "output_type": "execute_result",
          "data": {
            "text/plain": [
              "Index(['age', 'workclass', 'education', 'education_num', 'marital_status',\n",
              "       'occupation', 'relationship', 'race', 'sex', 'capital_gain',\n",
              "       'capital_loss', 'hours_per_week', 'native_country', 'income'],\n",
              "      dtype='object')"
            ]
          },
          "metadata": {
            "tags": []
          },
          "execution_count": 46
        }
      ]
    },
    {
      "cell_type": "code",
      "metadata": {
        "id": "V1gusJZOIeUT",
        "outputId": "fef0b373-ee11-4471-a82e-ec75154d62a8",
        "colab": {
          "base_uri": "https://localhost:8080/",
          "height": 118
        }
      },
      "source": [
        "df.head(1)"
      ],
      "execution_count": 48,
      "outputs": [
        {
          "output_type": "execute_result",
          "data": {
            "text/html": [
              "<div>\n",
              "<style scoped>\n",
              "    .dataframe tbody tr th:only-of-type {\n",
              "        vertical-align: middle;\n",
              "    }\n",
              "\n",
              "    .dataframe tbody tr th {\n",
              "        vertical-align: top;\n",
              "    }\n",
              "\n",
              "    .dataframe thead th {\n",
              "        text-align: right;\n",
              "    }\n",
              "</style>\n",
              "<table border=\"1\" class=\"dataframe\">\n",
              "  <thead>\n",
              "    <tr style=\"text-align: right;\">\n",
              "      <th></th>\n",
              "      <th>age</th>\n",
              "      <th>workclass</th>\n",
              "      <th>education</th>\n",
              "      <th>education_num</th>\n",
              "      <th>marital_status</th>\n",
              "      <th>occupation</th>\n",
              "      <th>relationship</th>\n",
              "      <th>race</th>\n",
              "      <th>sex</th>\n",
              "      <th>capital_gain</th>\n",
              "      <th>capital_loss</th>\n",
              "      <th>hours_per_week</th>\n",
              "      <th>native_country</th>\n",
              "      <th>income</th>\n",
              "    </tr>\n",
              "  </thead>\n",
              "  <tbody>\n",
              "    <tr>\n",
              "      <th>1</th>\n",
              "      <td>82</td>\n",
              "      <td>Private</td>\n",
              "      <td>HS-grad</td>\n",
              "      <td>9</td>\n",
              "      <td>Widowed</td>\n",
              "      <td>Exec-managerial</td>\n",
              "      <td>Not-in-family</td>\n",
              "      <td>White</td>\n",
              "      <td>Female</td>\n",
              "      <td>0</td>\n",
              "      <td>4356</td>\n",
              "      <td>18</td>\n",
              "      <td>United-States</td>\n",
              "      <td>&lt;=50K</td>\n",
              "    </tr>\n",
              "  </tbody>\n",
              "</table>\n",
              "</div>"
            ],
            "text/plain": [
              "   age workclass education  ...  hours_per_week native_country income\n",
              "1   82   Private   HS-grad  ...              18  United-States  <=50K\n",
              "\n",
              "[1 rows x 14 columns]"
            ]
          },
          "metadata": {
            "tags": []
          },
          "execution_count": 48
        }
      ]
    },
    {
      "cell_type": "code",
      "metadata": {
        "id": "GS6ir90eVO8Q",
        "outputId": "dd4e63ca-141f-4870-c27b-2422e13eb67e",
        "colab": {
          "base_uri": "https://localhost:8080/"
        }
      },
      "source": [
        "df.hours_per_week.median()"
      ],
      "execution_count": 49,
      "outputs": [
        {
          "output_type": "execute_result",
          "data": {
            "text/plain": [
              "40.0"
            ]
          },
          "metadata": {
            "tags": []
          },
          "execution_count": 49
        }
      ]
    },
    {
      "cell_type": "code",
      "metadata": {
        "id": "_LrwZXC9VO8W",
        "outputId": "a93fc06b-9d99-43b6-e2f4-4d23653877ce",
        "colab": {
          "base_uri": "https://localhost:8080/"
        }
      },
      "source": [
        "df.hours_per_week.mean()"
      ],
      "execution_count": 50,
      "outputs": [
        {
          "output_type": "execute_result",
          "data": {
            "text/plain": [
              "40.93143197853523"
            ]
          },
          "metadata": {
            "tags": []
          },
          "execution_count": 50
        }
      ]
    },
    {
      "cell_type": "code",
      "metadata": {
        "id": "o2u_7HEQVO8b",
        "outputId": "4c6b0a32-0c2d-497a-a3ce-a55db1d29c82",
        "colab": {
          "base_uri": "https://localhost:8080/"
        }
      },
      "source": [
        "df.hours_per_week.min()"
      ],
      "execution_count": 51,
      "outputs": [
        {
          "output_type": "execute_result",
          "data": {
            "text/plain": [
              "1"
            ]
          },
          "metadata": {
            "tags": []
          },
          "execution_count": 51
        }
      ]
    },
    {
      "cell_type": "code",
      "metadata": {
        "id": "z_7V3L8FVO8g",
        "outputId": "669d35c7-7f08-447b-a423-82dbdef10963",
        "colab": {
          "base_uri": "https://localhost:8080/"
        }
      },
      "source": [
        "df.hours_per_week.max()"
      ],
      "execution_count": 52,
      "outputs": [
        {
          "output_type": "execute_result",
          "data": {
            "text/plain": [
              "99"
            ]
          },
          "metadata": {
            "tags": []
          },
          "execution_count": 52
        }
      ]
    },
    {
      "cell_type": "code",
      "metadata": {
        "id": "oe-e7XOVVO8n",
        "outputId": "6bd27eed-478a-42cd-9cbb-c5fac4485856",
        "colab": {
          "base_uri": "https://localhost:8080/"
        }
      },
      "source": [
        "14 - 10"
      ],
      "execution_count": 53,
      "outputs": [
        {
          "output_type": "execute_result",
          "data": {
            "text/plain": [
              "4"
            ]
          },
          "metadata": {
            "tags": []
          },
          "execution_count": 53
        }
      ]
    },
    {
      "cell_type": "code",
      "metadata": {
        "id": "90iHYfZzVO8t",
        "outputId": "03bb3797-e34f-4871-93fe-3a692761a751",
        "colab": {
          "base_uri": "https://localhost:8080/"
        }
      },
      "source": [
        "a = 14\n",
        "b = 10\n",
        "a + b"
      ],
      "execution_count": 54,
      "outputs": [
        {
          "output_type": "execute_result",
          "data": {
            "text/plain": [
              "24"
            ]
          },
          "metadata": {
            "tags": []
          },
          "execution_count": 54
        }
      ]
    },
    {
      "cell_type": "markdown",
      "metadata": {
        "id": "cymLXGqwVO8x"
      },
      "source": [
        "**What is the diference between mean and median on capital gain?**"
      ]
    },
    {
      "cell_type": "code",
      "metadata": {
        "id": "qm3MmEKOVO8y",
        "outputId": "5670946d-7368-4b48-9c0c-d96366eb786d",
        "colab": {
          "base_uri": "https://localhost:8080/"
        }
      },
      "source": [
        "df.capital_gain.mean() - df.capital_gain.median()"
      ],
      "execution_count": 55,
      "outputs": [
        {
          "output_type": "execute_result",
          "data": {
            "text/plain": [
              "1092.778859849614"
            ]
          },
          "metadata": {
            "tags": []
          },
          "execution_count": 55
        }
      ]
    },
    {
      "cell_type": "markdown",
      "metadata": {
        "id": "KlKisXyIVO84"
      },
      "source": [
        "**How many unique workclasses?** "
      ]
    },
    {
      "cell_type": "code",
      "metadata": {
        "id": "tB4zb0csVO85",
        "outputId": "47709299-7ade-4f62-e82f-ad8f470d17c4",
        "colab": {
          "base_uri": "https://localhost:8080/"
        }
      },
      "source": [
        "df.workclass.unique()"
      ],
      "execution_count": 57,
      "outputs": [
        {
          "output_type": "execute_result",
          "data": {
            "text/plain": [
              "array(['Private', 'State-gov', 'Federal-gov', 'Self-emp-not-inc',\n",
              "       'Self-emp-inc', 'Local-gov', 'Without-pay'], dtype=object)"
            ]
          },
          "metadata": {
            "tags": []
          },
          "execution_count": 57
        }
      ]
    },
    {
      "cell_type": "markdown",
      "metadata": {
        "id": "xk6-7vVrVO89"
      },
      "source": [
        "**How many different types of education are there?** "
      ]
    },
    {
      "cell_type": "code",
      "metadata": {
        "id": "3Fjb1FEGVO8_",
        "outputId": "5b9f9a5b-e42b-468f-8725-887af8666176",
        "colab": {
          "base_uri": "https://localhost:8080/"
        }
      },
      "source": [
        "df.workclass.nunique()"
      ],
      "execution_count": 58,
      "outputs": [
        {
          "output_type": "execute_result",
          "data": {
            "text/plain": [
              "7"
            ]
          },
          "metadata": {
            "tags": []
          },
          "execution_count": 58
        }
      ]
    },
    {
      "cell_type": "code",
      "metadata": {
        "id": "PVhFdtulK2W8",
        "outputId": "c0e485f2-d658-4c56-9885-0b3f0a4c1ef7",
        "colab": {
          "base_uri": "https://localhost:8080/"
        }
      },
      "source": [
        "len(df.workclass.unique())"
      ],
      "execution_count": 59,
      "outputs": [
        {
          "output_type": "execute_result",
          "data": {
            "text/plain": [
              "7"
            ]
          },
          "metadata": {
            "tags": []
          },
          "execution_count": 59
        }
      ]
    },
    {
      "cell_type": "code",
      "metadata": {
        "id": "t1_23OVdK9Ak",
        "outputId": "0fdbabea-b3d1-4aa8-edd6-4b8d023b7be2",
        "colab": {
          "base_uri": "https://localhost:8080/"
        }
      },
      "source": [
        "len(\"hallo\")"
      ],
      "execution_count": 61,
      "outputs": [
        {
          "output_type": "execute_result",
          "data": {
            "text/plain": [
              "5"
            ]
          },
          "metadata": {
            "tags": []
          },
          "execution_count": 61
        }
      ]
    },
    {
      "cell_type": "code",
      "metadata": {
        "id": "rt-ObucYLEqI",
        "outputId": "312a4a2a-5c97-4f21-df4a-c62cb66dfed1",
        "colab": {
          "base_uri": "https://localhost:8080/",
          "height": 35
        }
      },
      "source": [
        "\"hallo\"[2]"
      ],
      "execution_count": 62,
      "outputs": [
        {
          "output_type": "execute_result",
          "data": {
            "application/vnd.google.colaboratory.intrinsic+json": {
              "type": "string"
            },
            "text/plain": [
              "'l'"
            ]
          },
          "metadata": {
            "tags": []
          },
          "execution_count": 62
        }
      ]
    },
    {
      "cell_type": "markdown",
      "metadata": {
        "id": "OmV8MO52VO9D"
      },
      "source": [
        "**How many people are divorced?**"
      ]
    },
    {
      "cell_type": "code",
      "metadata": {
        "id": "xGl7pa7rVO9E",
        "outputId": "19189c82-8e4e-40c0-f8a5-4cca702f9143",
        "colab": {
          "base_uri": "https://localhost:8080/"
        }
      },
      "source": [
        "df.marital_status.value_counts()"
      ],
      "execution_count": 65,
      "outputs": [
        {
          "output_type": "execute_result",
          "data": {
            "text/plain": [
              "Married-civ-spouse       14085\n",
              "Never-married             9730\n",
              "Divorced                  4215\n",
              "Separated                  940\n",
              "Widowed                    827\n",
              "Married-spouse-absent      371\n",
              "Married-AF-spouse           21\n",
              "Name: marital_status, dtype: int64"
            ]
          },
          "metadata": {
            "tags": []
          },
          "execution_count": 65
        }
      ]
    },
    {
      "cell_type": "code",
      "metadata": {
        "id": "fthgXZZhntWU",
        "outputId": "76a1a318-08e8-4c2a-d6c4-7fa0c8974e42",
        "colab": {
          "base_uri": "https://localhost:8080/"
        }
      },
      "source": [
        "df.marital_status.unique()"
      ],
      "execution_count": 66,
      "outputs": [
        {
          "output_type": "execute_result",
          "data": {
            "text/plain": [
              "array(['Widowed', 'Divorced', 'Separated', 'Never-married',\n",
              "       'Married-civ-spouse', 'Married-spouse-absent', 'Married-AF-spouse'],\n",
              "      dtype=object)"
            ]
          },
          "metadata": {
            "tags": []
          },
          "execution_count": 66
        }
      ]
    },
    {
      "cell_type": "code",
      "metadata": {
        "id": "sdcOn_I1M604",
        "outputId": "82988a64-965c-4360-a2dc-2f31d0520e04",
        "colab": {
          "base_uri": "https://localhost:8080/"
        }
      },
      "source": [
        "df[df.marital_status == \"Divorced\"].shape"
      ],
      "execution_count": 67,
      "outputs": [
        {
          "output_type": "execute_result",
          "data": {
            "text/plain": [
              "(4215, 14)"
            ]
          },
          "metadata": {
            "tags": []
          },
          "execution_count": 67
        }
      ]
    },
    {
      "cell_type": "markdown",
      "metadata": {
        "id": "FFrTShuxVO9J"
      },
      "source": [
        "**Histogram Age** "
      ]
    },
    {
      "cell_type": "code",
      "metadata": {
        "id": "SmD1hbwDVO9L"
      },
      "source": [
        ""
      ],
      "execution_count": null,
      "outputs": []
    },
    {
      "cell_type": "markdown",
      "metadata": {
        "id": "U7S3XZgiVO9O"
      },
      "source": [
        "**Create a countplot for martial status** "
      ]
    },
    {
      "cell_type": "code",
      "metadata": {
        "id": "62tcqnRLVO9P"
      },
      "source": [
        ""
      ],
      "execution_count": null,
      "outputs": []
    },
    {
      "cell_type": "code",
      "metadata": {
        "id": "Er05d6ggVO9V"
      },
      "source": [
        ""
      ],
      "execution_count": null,
      "outputs": []
    },
    {
      "cell_type": "markdown",
      "metadata": {
        "id": "Lw9hK7lBxiDc"
      },
      "source": [
        "## Bivariate Analysis"
      ]
    },
    {
      "cell_type": "markdown",
      "metadata": {
        "id": "3qZ2tEMWVO9Z"
      },
      "source": [
        "**How many Salesperson make a capital gain of over 80000?**"
      ]
    },
    {
      "cell_type": "code",
      "metadata": {
        "id": "wBf9hIeFVO9Z"
      },
      "source": [
        ""
      ],
      "execution_count": null,
      "outputs": []
    },
    {
      "cell_type": "code",
      "metadata": {
        "id": "oTYyQPiDVO9g"
      },
      "source": [
        ""
      ],
      "execution_count": null,
      "outputs": []
    },
    {
      "cell_type": "markdown",
      "metadata": {
        "id": "7XW1ekfwVO9l"
      },
      "source": [
        "**How many rows have a capital loss and capital gain bigger than 0?** "
      ]
    },
    {
      "cell_type": "code",
      "metadata": {
        "id": "IXHRA7qAVO9o"
      },
      "source": [
        ""
      ],
      "execution_count": null,
      "outputs": []
    },
    {
      "cell_type": "markdown",
      "metadata": {
        "id": "Isk3O27rVO9s"
      },
      "source": [
        "**Answer: 1**"
      ]
    },
    {
      "cell_type": "markdown",
      "metadata": {
        "id": "zEx9ltpdVO9t"
      },
      "source": [
        "**Create a feature which combines capital_loss and capital_gain**"
      ]
    },
    {
      "cell_type": "code",
      "metadata": {
        "id": "XXdo0XDkVO9u"
      },
      "source": [
        ""
      ],
      "execution_count": null,
      "outputs": []
    },
    {
      "cell_type": "markdown",
      "metadata": {
        "id": "OOQqKLPYVO9x"
      },
      "source": [
        "**What is the mean capital?**"
      ]
    },
    {
      "cell_type": "code",
      "metadata": {
        "id": "ejmKr-b0VO9x"
      },
      "source": [
        ""
      ],
      "execution_count": null,
      "outputs": []
    },
    {
      "cell_type": "markdown",
      "metadata": {
        "id": "e_aNkjoJVO91"
      },
      "source": [
        "**What is the median capital?**"
      ]
    },
    {
      "cell_type": "code",
      "metadata": {
        "id": "62ynnH6KVO92"
      },
      "source": [
        ""
      ],
      "execution_count": null,
      "outputs": []
    },
    {
      "cell_type": "markdown",
      "metadata": {
        "id": "AD5hbT90VO95"
      },
      "source": [
        "**How many people have a capital of 0?** "
      ]
    },
    {
      "cell_type": "code",
      "metadata": {
        "id": "EV2FeeWlVO97"
      },
      "source": [
        ""
      ],
      "execution_count": null,
      "outputs": []
    },
    {
      "cell_type": "markdown",
      "metadata": {
        "id": "4U8IQGjNVO9_"
      },
      "source": [
        "**What is the percentage of people which make a capital gain of over 10000?**"
      ]
    },
    {
      "cell_type": "code",
      "metadata": {
        "id": "ithS7yNqVO9_"
      },
      "source": [
        ""
      ],
      "execution_count": null,
      "outputs": []
    },
    {
      "cell_type": "code",
      "metadata": {
        "id": "BFL7dlctVO-D"
      },
      "source": [
        ""
      ],
      "execution_count": null,
      "outputs": []
    },
    {
      "cell_type": "code",
      "metadata": {
        "id": "PP_YFJzGVO-H"
      },
      "source": [
        ""
      ],
      "execution_count": null,
      "outputs": []
    },
    {
      "cell_type": "markdown",
      "metadata": {
        "id": "sOogNT8iVO-M"
      },
      "source": [
        "**What is the occupation of the biggest capital loss?** Q\n",
        "\n",
        "Tip: Use min() or max()"
      ]
    },
    {
      "cell_type": "code",
      "metadata": {
        "id": "i0qNVPKeVO-O"
      },
      "source": [
        ""
      ],
      "execution_count": null,
      "outputs": []
    },
    {
      "cell_type": "markdown",
      "metadata": {
        "id": "wxlkGGvjVO-S"
      },
      "source": [
        "**What is the ratio between <=50K income and >50K?**"
      ]
    },
    {
      "cell_type": "code",
      "metadata": {
        "id": "DWvSkoDdVO-S"
      },
      "source": [
        ""
      ],
      "execution_count": null,
      "outputs": []
    },
    {
      "cell_type": "code",
      "metadata": {
        "id": "W7mqZYBmtnyD"
      },
      "source": [
        ""
      ],
      "execution_count": null,
      "outputs": []
    },
    {
      "cell_type": "markdown",
      "metadata": {
        "id": "_b4XOsNYVO-V"
      },
      "source": [
        "**How many people with a income >50K have a \n",
        "capital loss?**"
      ]
    },
    {
      "cell_type": "code",
      "metadata": {
        "id": "KtuTbwPBVO-W"
      },
      "source": [
        ""
      ],
      "execution_count": null,
      "outputs": []
    },
    {
      "cell_type": "markdown",
      "metadata": {
        "id": "idLntvASVO-c"
      },
      "source": [
        "**How manydivorced people with a income >50K have a capital gain?**"
      ]
    },
    {
      "cell_type": "code",
      "metadata": {
        "id": "lpaTGeG2VO-d"
      },
      "source": [
        ""
      ],
      "execution_count": null,
      "outputs": []
    },
    {
      "cell_type": "markdown",
      "metadata": {
        "id": "-lIk7lpOVO-h"
      },
      "source": [
        "**Do a scatter plot between age and capital**"
      ]
    },
    {
      "cell_type": "code",
      "metadata": {
        "id": "-UyefLWVVO-h"
      },
      "source": [
        ""
      ],
      "execution_count": null,
      "outputs": []
    },
    {
      "cell_type": "markdown",
      "metadata": {
        "id": "I9DfmobaVO-n"
      },
      "source": [
        "**This look unreadable. Calculate the average capital by age** "
      ]
    },
    {
      "cell_type": "code",
      "metadata": {
        "id": "_jsj3C8lVO-n"
      },
      "source": [
        ""
      ],
      "execution_count": null,
      "outputs": []
    },
    {
      "cell_type": "code",
      "metadata": {
        "id": "cCsB0BwOwwt9"
      },
      "source": [
        ""
      ],
      "execution_count": null,
      "outputs": []
    },
    {
      "cell_type": "markdown",
      "metadata": {
        "id": "M-_w3l_CVO-r"
      },
      "source": [
        "**Calculate the correlation on the whole dataframe**"
      ]
    },
    {
      "cell_type": "code",
      "metadata": {
        "id": "9Sx2jZFlVO-s"
      },
      "source": [
        ""
      ],
      "execution_count": null,
      "outputs": []
    },
    {
      "cell_type": "markdown",
      "metadata": {
        "id": "Q5NxLJ06VO-z"
      },
      "source": [
        "**Do men make more money than women?**"
      ]
    }
  ]
}